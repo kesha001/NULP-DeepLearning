{
 "cells": [
  {
   "cell_type": "markdown",
   "metadata": {
    "id": "AVl92ZJenRo_"
   },
   "source": [
    "# 2.1 Data manipulation"
   ]
  },
  {
   "cell_type": "code",
   "execution_count": 1,
   "metadata": {
    "colab": {
     "base_uri": "https://localhost:8080/"
    },
    "id": "d3Urc_JsmoOv",
    "outputId": "dc3bc7cf-0025-46af-c6b8-2794ed62e1f9"
   },
   "outputs": [
    {
     "name": "stdout",
     "output_type": "stream",
     "text": [
      "Wall time: 798 ms\n"
     ]
    }
   ],
   "source": [
    "%%time\n",
    "import torch"
   ]
  },
  {
   "cell_type": "code",
   "execution_count": 2,
   "metadata": {
    "colab": {
     "base_uri": "https://localhost:8080/"
    },
    "id": "7a9qWVLko7Zp",
    "outputId": "3afcf43c-ea32-4c1a-d4ee-87502b9a28f0"
   },
   "outputs": [
    {
     "name": "stdout",
     "output_type": "stream",
     "text": [
      "Wall time: 994 µs\n"
     ]
    },
    {
     "data": {
      "text/plain": [
       "tensor([ 0,  1,  2,  3,  4,  5,  6,  7,  8,  9, 10, 11])"
      ]
     },
     "execution_count": 2,
     "metadata": {},
     "output_type": "execute_result"
    }
   ],
   "source": [
    "%%time\n",
    "x = torch.arange(12)\n",
    "x"
   ]
  },
  {
   "cell_type": "code",
   "execution_count": 3,
   "metadata": {
    "colab": {
     "base_uri": "https://localhost:8080/"
    },
    "id": "g0D21Ywxo7Xc",
    "outputId": "e58178c7-62e9-4566-87be-f6a6915b777e"
   },
   "outputs": [
    {
     "name": "stdout",
     "output_type": "stream",
     "text": [
      "Wall time: 0 ns\n"
     ]
    },
    {
     "data": {
      "text/plain": [
       "torch.Size([12])"
      ]
     },
     "execution_count": 3,
     "metadata": {},
     "output_type": "execute_result"
    }
   ],
   "source": [
    "%%time\n",
    "x.shape"
   ]
  },
  {
   "cell_type": "code",
   "execution_count": 4,
   "metadata": {
    "colab": {
     "base_uri": "https://localhost:8080/"
    },
    "id": "OgF_YbF_o7U0",
    "outputId": "4f7845f5-a96f-4bd5-8c94-1ca0d1f1281d"
   },
   "outputs": [
    {
     "name": "stdout",
     "output_type": "stream",
     "text": [
      "Wall time: 0 ns\n"
     ]
    },
    {
     "data": {
      "text/plain": [
       "tensor([[ 0,  1,  2,  3],\n",
       "        [ 4,  5,  6,  7],\n",
       "        [ 8,  9, 10, 11]])"
      ]
     },
     "execution_count": 4,
     "metadata": {},
     "output_type": "execute_result"
    }
   ],
   "source": [
    "%%time\n",
    "X = x.reshape(3, 4)\n",
    "X"
   ]
  },
  {
   "cell_type": "code",
   "execution_count": 5,
   "metadata": {
    "colab": {
     "base_uri": "https://localhost:8080/"
    },
    "id": "CH_7Na54wiUy",
    "outputId": "dc4c5180-9bc9-4246-8283-7e9467a4aba5"
   },
   "outputs": [
    {
     "name": "stdout",
     "output_type": "stream",
     "text": [
      "Wall time: 0 ns\n"
     ]
    },
    {
     "data": {
      "text/plain": [
       "tensor([[[0., 0., 0., 0.],\n",
       "         [0., 0., 0., 0.],\n",
       "         [0., 0., 0., 0.]],\n",
       "\n",
       "        [[0., 0., 0., 0.],\n",
       "         [0., 0., 0., 0.],\n",
       "         [0., 0., 0., 0.]]])"
      ]
     },
     "execution_count": 5,
     "metadata": {},
     "output_type": "execute_result"
    }
   ],
   "source": [
    "%%time\n",
    "torch.zeros((2, 3, 4))"
   ]
  },
  {
   "cell_type": "code",
   "execution_count": 6,
   "metadata": {
    "colab": {
     "base_uri": "https://localhost:8080/"
    },
    "id": "QjdeUUW8xkhB",
    "outputId": "d14459a6-0b91-4e67-e095-605a4fbc35fc"
   },
   "outputs": [
    {
     "name": "stdout",
     "output_type": "stream",
     "text": [
      "Wall time: 0 ns\n"
     ]
    },
    {
     "data": {
      "text/plain": [
       "tensor([[[1., 1., 1., 1.],\n",
       "         [1., 1., 1., 1.],\n",
       "         [1., 1., 1., 1.]],\n",
       "\n",
       "        [[1., 1., 1., 1.],\n",
       "         [1., 1., 1., 1.],\n",
       "         [1., 1., 1., 1.]]])"
      ]
     },
     "execution_count": 6,
     "metadata": {},
     "output_type": "execute_result"
    }
   ],
   "source": [
    "%%time\n",
    "torch.ones((2, 3, 4))"
   ]
  },
  {
   "cell_type": "code",
   "execution_count": 7,
   "metadata": {
    "colab": {
     "base_uri": "https://localhost:8080/"
    },
    "id": "Kr8XpQ2exkeb",
    "outputId": "6448194c-d306-44d9-d4a5-b42235d56aa4"
   },
   "outputs": [
    {
     "name": "stdout",
     "output_type": "stream",
     "text": [
      "Wall time: 0 ns\n"
     ]
    },
    {
     "data": {
      "text/plain": [
       "tensor([[-1.5191,  0.1830, -0.5422,  0.6464],\n",
       "        [ 0.0954, -0.7368, -0.0589, -1.5947],\n",
       "        [-1.9740,  0.1219, -1.5609,  0.9947]])"
      ]
     },
     "execution_count": 7,
     "metadata": {},
     "output_type": "execute_result"
    }
   ],
   "source": [
    "%%time\n",
    "torch.randn(3, 4)"
   ]
  },
  {
   "cell_type": "code",
   "execution_count": 8,
   "metadata": {
    "colab": {
     "base_uri": "https://localhost:8080/"
    },
    "id": "l7AdzWTCzXWR",
    "outputId": "4b45a5c0-8be1-40b9-f167-5c7d9764ab36"
   },
   "outputs": [
    {
     "name": "stdout",
     "output_type": "stream",
     "text": [
      "Wall time: 0 ns\n"
     ]
    },
    {
     "data": {
      "text/plain": [
       "tensor([[2, 1, 4, 3],\n",
       "        [1, 2, 3, 4],\n",
       "        [4, 3, 2, 1]])"
      ]
     },
     "execution_count": 8,
     "metadata": {},
     "output_type": "execute_result"
    }
   ],
   "source": [
    "%%time\n",
    "torch.tensor([[2, 1, 4, 3], [1, 2, 3, 4], [4, 3, 2, 1]])"
   ]
  },
  {
   "cell_type": "code",
   "execution_count": 9,
   "metadata": {
    "colab": {
     "base_uri": "https://localhost:8080/"
    },
    "id": "RstFfOvjzXT-",
    "outputId": "befeb077-ffdf-483f-8454-b4a4c177c884"
   },
   "outputs": [
    {
     "name": "stdout",
     "output_type": "stream",
     "text": [
      "tensor([ 3.,  4.,  6., 10.])\n",
      "tensor([-1.,  0.,  2.,  6.])\n",
      "tensor([ 2.,  4.,  8., 16.])\n",
      "tensor([0.5000, 1.0000, 2.0000, 4.0000])\n",
      "tensor([ 1.,  4., 16., 64.])\n",
      "Wall time: 4.97 ms\n"
     ]
    }
   ],
   "source": [
    "%%time\n",
    "x = torch.tensor([1.0, 2, 4, 8])\n",
    "y = torch.tensor([2, 2, 2, 2])\n",
    "print(x + y, x - y, x * y, x / y, x**y, sep='\\n')"
   ]
  },
  {
   "cell_type": "code",
   "execution_count": 10,
   "metadata": {
    "colab": {
     "base_uri": "https://localhost:8080/"
    },
    "id": "0K_Re6NZzXR6",
    "outputId": "ef1972aa-a77e-4bec-a3a2-6ebf3abe3cfe"
   },
   "outputs": [
    {
     "name": "stdout",
     "output_type": "stream",
     "text": [
      "Wall time: 996 µs\n"
     ]
    },
    {
     "data": {
      "text/plain": [
       "tensor([2.7183e+00, 7.3891e+00, 5.4598e+01, 2.9810e+03])"
      ]
     },
     "execution_count": 10,
     "metadata": {},
     "output_type": "execute_result"
    }
   ],
   "source": [
    "%%time\n",
    "torch.exp(x)"
   ]
  },
  {
   "cell_type": "code",
   "execution_count": 11,
   "metadata": {
    "colab": {
     "base_uri": "https://localhost:8080/"
    },
    "id": "RPXza3aXzXOk",
    "outputId": "7588ee94-4a6e-465f-bf90-4e43216ef96f"
   },
   "outputs": [
    {
     "name": "stdout",
     "output_type": "stream",
     "text": [
      "tensor([[ 0.,  1.,  2.,  3.],\n",
      "        [ 4.,  5.,  6.,  7.],\n",
      "        [ 8.,  9., 10., 11.],\n",
      "        [ 2.,  1.,  4.,  3.],\n",
      "        [ 1.,  2.,  3.,  4.],\n",
      "        [ 4.,  3.,  2.,  1.]])\n",
      "tensor([[ 0.,  1.,  2.,  3.,  2.,  1.,  4.,  3.],\n",
      "        [ 4.,  5.,  6.,  7.,  1.,  2.,  3.,  4.],\n",
      "        [ 8.,  9., 10., 11.,  4.,  3.,  2.,  1.]])\n",
      "Wall time: 3 ms\n"
     ]
    }
   ],
   "source": [
    "%%time\n",
    "X = torch.arange(12, dtype=torch.float32).reshape((3, 4))\n",
    "Y = torch.tensor([[2.0, 1, 4, 3], [1, 2, 3, 4], [4, 3, 2, 1]])\n",
    "print(torch.cat((X, Y), dim=0), torch.cat((X, Y), dim=1), sep='\\n')"
   ]
  },
  {
   "cell_type": "code",
   "execution_count": 12,
   "metadata": {
    "colab": {
     "base_uri": "https://localhost:8080/"
    },
    "id": "yk8WMfP_zXLy",
    "outputId": "619d8cba-a051-4a86-86a6-138bbc03a2f1"
   },
   "outputs": [
    {
     "name": "stdout",
     "output_type": "stream",
     "text": [
      "Wall time: 0 ns\n"
     ]
    },
    {
     "data": {
      "text/plain": [
       "tensor([[False,  True, False,  True],\n",
       "        [False, False, False, False],\n",
       "        [False, False, False, False]])"
      ]
     },
     "execution_count": 12,
     "metadata": {},
     "output_type": "execute_result"
    }
   ],
   "source": [
    "%%time\n",
    "X == Y"
   ]
  },
  {
   "cell_type": "code",
   "execution_count": 13,
   "metadata": {
    "colab": {
     "base_uri": "https://localhost:8080/"
    },
    "id": "8esDjGUXxkcQ",
    "outputId": "296aefed-8f1f-4ddb-caf7-9f7446457bd0"
   },
   "outputs": [
    {
     "name": "stdout",
     "output_type": "stream",
     "text": [
      "Wall time: 1.04 ms\n"
     ]
    },
    {
     "data": {
      "text/plain": [
       "tensor(66.)"
      ]
     },
     "execution_count": 13,
     "metadata": {},
     "output_type": "execute_result"
    }
   ],
   "source": [
    "%%time\n",
    "X.sum()"
   ]
  },
  {
   "cell_type": "code",
   "execution_count": 14,
   "metadata": {
    "colab": {
     "base_uri": "https://localhost:8080/"
    },
    "id": "OnaPpVZ5xkaP",
    "outputId": "f2d45da7-c324-4e16-9072-5441c6fa6316"
   },
   "outputs": [
    {
     "name": "stdout",
     "output_type": "stream",
     "text": [
      "tensor([[0],\n",
      "        [1],\n",
      "        [2]]) tensor([[0, 1]])\n",
      "Wall time: 1e+03 µs\n"
     ]
    }
   ],
   "source": [
    "%%time\n",
    "a = torch.arange(3).reshape((3, 1))\n",
    "b = torch.arange(2).reshape((1, 2))\n",
    "print(a, b)"
   ]
  },
  {
   "cell_type": "code",
   "execution_count": 15,
   "metadata": {
    "colab": {
     "base_uri": "https://localhost:8080/"
    },
    "id": "4MHPlyJaxkYE",
    "outputId": "5e5afa7e-cbed-463f-b035-7a20dcf0c192"
   },
   "outputs": [
    {
     "name": "stdout",
     "output_type": "stream",
     "text": [
      "Wall time: 0 ns\n"
     ]
    },
    {
     "data": {
      "text/plain": [
       "tensor([[0, 1],\n",
       "        [1, 2],\n",
       "        [2, 3]])"
      ]
     },
     "execution_count": 15,
     "metadata": {},
     "output_type": "execute_result"
    }
   ],
   "source": [
    "%%time\n",
    "a + b"
   ]
  },
  {
   "cell_type": "code",
   "execution_count": 16,
   "metadata": {
    "colab": {
     "base_uri": "https://localhost:8080/"
    },
    "id": "YeElIZpExkVd",
    "outputId": "c6e484d9-d4f7-4c5f-8d0b-1851c0fb8c91"
   },
   "outputs": [
    {
     "name": "stdout",
     "output_type": "stream",
     "text": [
      "tensor([ 8.,  9., 10., 11.])\n",
      "tensor([[ 4.,  5.,  6.,  7.],\n",
      "        [ 8.,  9., 10., 11.]])\n",
      "Wall time: 2 ms\n"
     ]
    }
   ],
   "source": [
    "%%time\n",
    "print(X[-1], X[1:3], sep='\\n')"
   ]
  },
  {
   "cell_type": "code",
   "execution_count": 17,
   "metadata": {
    "colab": {
     "base_uri": "https://localhost:8080/"
    },
    "id": "CPNLv6HhwiSV",
    "outputId": "49450735-77c6-488d-b804-95377c490624"
   },
   "outputs": [
    {
     "name": "stdout",
     "output_type": "stream",
     "text": [
      "tensor([[ 0.,  1.,  2.,  3.],\n",
      "        [ 4.,  5.,  9.,  7.],\n",
      "        [ 8.,  9., 10., 11.]])\n",
      "Wall time: 1 ms\n"
     ]
    }
   ],
   "source": [
    "%%time\n",
    "X[1, 2] = 9\n",
    "print(X)"
   ]
  },
  {
   "cell_type": "code",
   "execution_count": 18,
   "metadata": {
    "colab": {
     "base_uri": "https://localhost:8080/"
    },
    "id": "wG9YfitUwiPw",
    "outputId": "ec166d40-47cb-4c1e-e556-8f0b33c5c371"
   },
   "outputs": [
    {
     "name": "stdout",
     "output_type": "stream",
     "text": [
      "tensor([[12., 12., 12., 12.],\n",
      "        [12., 12., 12., 12.],\n",
      "        [ 8.,  9., 10., 11.]])\n",
      "Wall time: 2 ms\n"
     ]
    }
   ],
   "source": [
    "%%time\n",
    "X[0:2, :] = 12\n",
    "print(X)"
   ]
  },
  {
   "cell_type": "code",
   "execution_count": 19,
   "metadata": {
    "colab": {
     "base_uri": "https://localhost:8080/"
    },
    "id": "dkenGS9pwiM5",
    "outputId": "cfc59e44-3f9a-4f98-8991-a6d8864f606b"
   },
   "outputs": [
    {
     "name": "stdout",
     "output_type": "stream",
     "text": [
      "False\n",
      "Wall time: 0 ns\n"
     ]
    }
   ],
   "source": [
    "%%time\n",
    "before = id(Y)\n",
    "Y = Y + X\n",
    "print(id(Y) == before)"
   ]
  },
  {
   "cell_type": "code",
   "execution_count": 20,
   "metadata": {
    "colab": {
     "base_uri": "https://localhost:8080/"
    },
    "id": "j7EBktKJwiKU",
    "outputId": "4f5029bc-32db-4e3c-d749-0d0911cc17fc"
   },
   "outputs": [
    {
     "name": "stdout",
     "output_type": "stream",
     "text": [
      "id(Z): 2320127766720\n",
      "id(Z): 2320127766720\n",
      "Wall time: 0 ns\n"
     ]
    }
   ],
   "source": [
    "%%time\n",
    "Z = torch.zeros_like(Y)\n",
    "print('id(Z):', id(Z))\n",
    "Z[:] = X + Y\n",
    "print('id(Z):', id(Z))"
   ]
  },
  {
   "cell_type": "code",
   "execution_count": 21,
   "metadata": {
    "colab": {
     "base_uri": "https://localhost:8080/"
    },
    "id": "W1-9Rl5owiIJ",
    "outputId": "856beef2-c110-4232-cc64-018ad8982179"
   },
   "outputs": [
    {
     "name": "stdout",
     "output_type": "stream",
     "text": [
      "True\n",
      "Wall time: 0 ns\n"
     ]
    }
   ],
   "source": [
    "%%time\n",
    "before = id(X)\n",
    "X += Y\n",
    "print(id(X) == before)"
   ]
  },
  {
   "cell_type": "code",
   "execution_count": 22,
   "metadata": {
    "colab": {
     "base_uri": "https://localhost:8080/"
    },
    "id": "gBTgQho_wiFv",
    "outputId": "0937bfa3-2a79-4213-d0da-d3df45d77517"
   },
   "outputs": [
    {
     "name": "stdout",
     "output_type": "stream",
     "text": [
      "<class 'numpy.ndarray'>\n",
      "<class 'torch.Tensor'>\n",
      "Wall time: 1 ms\n"
     ]
    }
   ],
   "source": [
    "%%time\n",
    "A = X.numpy()\n",
    "B = torch.from_numpy(A)\n",
    "print(type(A), type(B), sep='\\n')"
   ]
  },
  {
   "cell_type": "code",
   "execution_count": 23,
   "metadata": {
    "colab": {
     "base_uri": "https://localhost:8080/"
    },
    "id": "Gaw06_aXwiDc",
    "outputId": "183e305a-d4cd-4c2f-d7ca-a3114e606edb"
   },
   "outputs": [
    {
     "name": "stdout",
     "output_type": "stream",
     "text": [
      "tensor([3.5000]) 3.5 3.5 3\n",
      "Wall time: 1e+03 µs\n"
     ]
    }
   ],
   "source": [
    "%%time\n",
    "a = torch.tensor([3.5])\n",
    "print(a, a.item(), float(a), int(a))"
   ]
  },
  {
   "cell_type": "code",
   "execution_count": 24,
   "metadata": {
    "colab": {
     "base_uri": "https://localhost:8080/"
    },
    "id": "gPZVZSj1SIZ7",
    "outputId": "dcccb37f-7fda-43ac-d090-82109e183f3a"
   },
   "outputs": [
    {
     "name": "stdout",
     "output_type": "stream",
     "text": [
      "tensor([[False, False, False, False],\n",
      "        [False, False, False, False],\n",
      "        [False, False, False, False]])\n",
      "tensor([[True, True, True, True],\n",
      "        [True, True, True, True],\n",
      "        [True, True, True, True]])\n",
      "tensor([[False, False, False, False],\n",
      "        [False, False, False, False],\n",
      "        [False, False, False, False]])\n",
      "Wall time: 2.01 ms\n"
     ]
    }
   ],
   "source": [
    "%%time\n",
    "# 1 Run the code in this section. Change the conditional statement X == Y in this section to X < Y or X > Y, and then see what kind of tensor you can get\n",
    "print(X == Y)\n",
    "print(X > Y)\n",
    "print(X < Y)"
   ]
  },
  {
   "cell_type": "code",
   "execution_count": 25,
   "metadata": {
    "colab": {
     "base_uri": "https://localhost:8080/"
    },
    "id": "ooFDb9Z9SIMX",
    "outputId": "f4ae8570-8dce-478d-98dd-b1a6b44919ea"
   },
   "outputs": [
    {
     "name": "stdout",
     "output_type": "stream",
     "text": [
      "tensor([[[1., 1., 1., 1.],\n",
      "         [1., 1., 1., 1.],\n",
      "         [1., 1., 1., 1.]],\n",
      "\n",
      "        [[1., 1., 1., 1.],\n",
      "         [1., 1., 1., 1.],\n",
      "         [1., 1., 1., 1.]]])\n",
      "tensor([[0, 1, 2, 3]])\n",
      "tensor([[[1., 2., 3., 4.],\n",
      "         [1., 2., 3., 4.],\n",
      "         [1., 2., 3., 4.]],\n",
      "\n",
      "        [[1., 2., 3., 4.],\n",
      "         [1., 2., 3., 4.],\n",
      "         [1., 2., 3., 4.]]])\n",
      "tensor([[[ 1.,  0., -1., -2.],\n",
      "         [ 1.,  0., -1., -2.],\n",
      "         [ 1.,  0., -1., -2.]],\n",
      "\n",
      "        [[ 1.,  0., -1., -2.],\n",
      "         [ 1.,  0., -1., -2.],\n",
      "         [ 1.,  0., -1., -2.]]])\n",
      "tensor([[[0., 1., 2., 3.],\n",
      "         [0., 1., 2., 3.],\n",
      "         [0., 1., 2., 3.]],\n",
      "\n",
      "        [[0., 1., 2., 3.],\n",
      "         [0., 1., 2., 3.],\n",
      "         [0., 1., 2., 3.]]])\n",
      "tensor([[[   inf, 1.0000, 0.5000, 0.3333],\n",
      "         [   inf, 1.0000, 0.5000, 0.3333],\n",
      "         [   inf, 1.0000, 0.5000, 0.3333]],\n",
      "\n",
      "        [[   inf, 1.0000, 0.5000, 0.3333],\n",
      "         [   inf, 1.0000, 0.5000, 0.3333],\n",
      "         [   inf, 1.0000, 0.5000, 0.3333]]])\n",
      "tensor([[[1., 1., 1., 1.],\n",
      "         [1., 1., 1., 1.],\n",
      "         [1., 1., 1., 1.]],\n",
      "\n",
      "        [[1., 1., 1., 1.],\n",
      "         [1., 1., 1., 1.],\n",
      "         [1., 1., 1., 1.]]])\n",
      "Wall time: 7 ms\n"
     ]
    }
   ],
   "source": [
    "%%time\n",
    "# 2 Replace the two tensors that operate by element in the broadcasting mechanism with other shapes, e.g., 3-dimensional tensors. Is the result the same as expected?\n",
    "x = torch.ones((2, 3, 4))\n",
    "y = torch.arange(4).reshape((1, 4))\n",
    "print(x, y, sep='\\n')\n",
    "print(x + y, x - y, x * y, x / y, x**y, sep='\\n')"
   ]
  },
  {
   "cell_type": "markdown",
   "metadata": {
    "id": "MQljRMYn2TDb"
   },
   "source": [
    "# 2.2 Data Preprocessing"
   ]
  },
  {
   "cell_type": "code",
   "execution_count": 26,
   "metadata": {
    "colab": {
     "base_uri": "https://localhost:8080/"
    },
    "id": "FsXOFS8dwiBJ",
    "outputId": "55fae885-1dfb-48cd-d72b-51b60798fa8f"
   },
   "outputs": [
    {
     "name": "stdout",
     "output_type": "stream",
     "text": [
      "Wall time: 1 ms\n"
     ]
    }
   ],
   "source": [
    "%%time\n",
    "import os\n",
    "\n",
    "os.makedirs(os.path.join('..', 'data'), exist_ok=True)\n",
    "data_file = os.path.join('..', 'data', 'house_tiny.csv')\n",
    "with open(data_file, 'w') as f:\n",
    "    f.write('NumRooms,Alley,Price\\n')  # Column names\n",
    "    f.write('NA,Pave,127500\\n')  # Each row represents a data example\n",
    "    f.write('2,NA,106000\\n')\n",
    "    f.write('4,NA,178100\\n')\n",
    "    f.write('NA,NA,140000\\n')"
   ]
  },
  {
   "cell_type": "code",
   "execution_count": 105,
   "metadata": {
    "colab": {
     "base_uri": "https://localhost:8080/"
    },
    "id": "lGcsa8dNwh-z",
    "outputId": "ec9303fc-2a87-4b62-fb20-01ef95a9d9a9"
   },
   "outputs": [
    {
     "name": "stdout",
     "output_type": "stream",
     "text": [
      "   NumRooms Alley   Price\n",
      "0       NaN  Pave  127500\n",
      "1       2.0   NaN  106000\n",
      "2       4.0   NaN  178100\n",
      "3       NaN   NaN  140000\n",
      "Wall time: 4.96 ms\n"
     ]
    }
   ],
   "source": [
    "%%time\n",
    "import pandas as pd\n",
    "\n",
    "data = pd.read_csv(data_file)\n",
    "print(data)"
   ]
  },
  {
   "cell_type": "code",
   "execution_count": 115,
   "metadata": {
    "colab": {
     "base_uri": "https://localhost:8080/"
    },
    "id": "Cu8fKZslwh8W",
    "outputId": "ff9a7629-baf9-4308-e25c-8d49cc5694ed"
   },
   "outputs": [
    {
     "name": "stdout",
     "output_type": "stream",
     "text": [
      "   NumRooms Alley\n",
      "0       3.0  Pave\n",
      "1       2.0   NaN\n",
      "2       4.0   NaN\n",
      "3       3.0   NaN\n",
      "Wall time: 3 ms\n"
     ]
    }
   ],
   "source": [
    "%%time\n",
    "inputs, outputs = data.iloc[:, 0:2], data.iloc[:, 2]\n",
    "inputs = inputs.fillna(inputs.mean(numeric_only=True))\n",
    "print(inputs)"
   ]
  },
  {
   "cell_type": "code",
   "execution_count": 116,
   "metadata": {
    "colab": {
     "base_uri": "https://localhost:8080/"
    },
    "id": "_QwKfbumwh6H",
    "outputId": "5005f61c-2490-451b-bfc3-643d957716da",
    "scrolled": false
   },
   "outputs": [
    {
     "name": "stdout",
     "output_type": "stream",
     "text": [
      "   NumRooms Alley\n",
      "0       3.0  Pave\n",
      "1       2.0   NaN\n",
      "2       4.0   NaN\n",
      "3       3.0   NaN\n",
      "Wall time: 2 ms\n"
     ]
    }
   ],
   "source": [
    "%%time\n",
    "inputs, outputs = data.iloc[:, 0:2], data.iloc[:, 2]\n",
    "inputs = inputs.fillna(inputs.mean(numeric_only=True))\n",
    "print(inputs)"
   ]
  },
  {
   "cell_type": "code",
   "execution_count": 30,
   "metadata": {
    "colab": {
     "base_uri": "https://localhost:8080/"
    },
    "id": "ul2hzy9mwh3V",
    "outputId": "fd726d2a-917f-4337-f1c3-7f7f335fdf89"
   },
   "outputs": [
    {
     "name": "stdout",
     "output_type": "stream",
     "text": [
      "   NumRooms  Alley_Pave  Alley_nan\n",
      "0       3.0           1          0\n",
      "1       2.0           0          1\n",
      "2       4.0           0          1\n",
      "3       3.0           0          1\n",
      "Wall time: 32 ms\n"
     ]
    }
   ],
   "source": [
    "%%time\n",
    "inputs = pd.get_dummies(inputs, dummy_na=True)\n",
    "print(inputs)"
   ]
  },
  {
   "cell_type": "code",
   "execution_count": 31,
   "metadata": {
    "colab": {
     "base_uri": "https://localhost:8080/"
    },
    "id": "uKRIhBedo7St",
    "outputId": "7417e66b-b3cd-436b-db32-4e206303c228"
   },
   "outputs": [
    {
     "name": "stdout",
     "output_type": "stream",
     "text": [
      "tensor([[3., 1., 0.],\n",
      "        [2., 0., 1.],\n",
      "        [4., 0., 1.],\n",
      "        [3., 0., 1.]], dtype=torch.float64) tensor([127500, 106000, 178100, 140000])\n",
      "Wall time: 134 ms\n"
     ]
    }
   ],
   "source": [
    "%%time\n",
    "import torch\n",
    "\n",
    "X, y = torch.tensor(inputs.values), torch.tensor(outputs.values)\n",
    "print(X, y)"
   ]
  },
  {
   "cell_type": "markdown",
   "metadata": {
    "id": "nZj7jd_4vee8"
   },
   "source": [
    "### Exercises"
   ]
  },
  {
   "cell_type": "code",
   "execution_count": 32,
   "metadata": {
    "colab": {
     "base_uri": "https://localhost:8080/"
    },
    "id": "Q1-FuPIho7Qj",
    "outputId": "242bd66a-f32d-4331-d773-c4a6c838a979"
   },
   "outputs": [
    {
     "name": "stdout",
     "output_type": "stream",
     "text": [
      "   NumRooms   Price\n",
      "0       NaN  127500\n",
      "1       2.0  106000\n",
      "2       4.0  178100\n",
      "3       NaN  140000\n",
      "Wall time: 8.99 ms\n"
     ]
    }
   ],
   "source": [
    "%%time\n",
    "#1 Delete the column with the most missing values\n",
    "col_name = data.isna().sum().idxmax()\n",
    "data_preproc = data.drop(columns=[col_name])\n",
    "print(data_preproc)"
   ]
  },
  {
   "cell_type": "code",
   "execution_count": 33,
   "metadata": {
    "colab": {
     "base_uri": "https://localhost:8080/"
    },
    "id": "aGnNeeKoo7ON",
    "outputId": "eab7f52a-34b4-45cc-8249-56334d7980f2"
   },
   "outputs": [
    {
     "name": "stdout",
     "output_type": "stream",
     "text": [
      "tensor([[       nan, 1.2750e+05],\n",
      "        [2.0000e+00, 1.0600e+05],\n",
      "        [4.0000e+00, 1.7810e+05],\n",
      "        [       nan, 1.4000e+05]], dtype=torch.float64)\n",
      "Wall time: 1e+03 µs\n"
     ]
    }
   ],
   "source": [
    "%%time\n",
    "#2 Convert the preprocessed dataset to the tensor format\n",
    "data_preproc_tensor = torch.tensor(data_preproc.values)\n",
    "print(data_preproc_tensor)"
   ]
  },
  {
   "cell_type": "markdown",
   "metadata": {
    "id": "xwPgEWxlR59W"
   },
   "source": [
    "# 2.3 Linear Algebra"
   ]
  },
  {
   "cell_type": "code",
   "execution_count": 34,
   "metadata": {
    "colab": {
     "base_uri": "https://localhost:8080/"
    },
    "id": "tZvUC6JSzw1O",
    "outputId": "ad939c3f-c842-4c12-81a7-d60c85922110"
   },
   "outputs": [
    {
     "name": "stdout",
     "output_type": "stream",
     "text": [
      "(tensor(5.), tensor(6.), tensor(1.5000), tensor(9.))\n",
      "Wall time: 20 ms\n"
     ]
    }
   ],
   "source": [
    "%%time\n",
    "import torch\n",
    "\n",
    "x = torch.tensor(3.0)\n",
    "y = torch.tensor(2.0)\n",
    "\n",
    "print((x + y, x * y, x / y, x**y))"
   ]
  },
  {
   "cell_type": "code",
   "execution_count": 35,
   "metadata": {
    "colab": {
     "base_uri": "https://localhost:8080/"
    },
    "id": "JPwRYxK7zwxP",
    "outputId": "5ff0b1b5-aacd-45fe-d4a6-25db01cca54d"
   },
   "outputs": [
    {
     "name": "stdout",
     "output_type": "stream",
     "text": [
      "tensor([0, 1, 2, 3])\n",
      "Wall time: 0 ns\n"
     ]
    }
   ],
   "source": [
    "%%time\n",
    "x = torch.arange(4)\n",
    "print(x)"
   ]
  },
  {
   "cell_type": "code",
   "execution_count": 36,
   "metadata": {
    "colab": {
     "base_uri": "https://localhost:8080/"
    },
    "id": "NVV7r3Dazwrp",
    "outputId": "507741c7-c01c-41e7-a9dd-1349c4b38f5e"
   },
   "outputs": [
    {
     "name": "stdout",
     "output_type": "stream",
     "text": [
      "tensor(3)\n",
      "Wall time: 1e+03 µs\n"
     ]
    }
   ],
   "source": [
    "%%time\n",
    "print(x[3])"
   ]
  },
  {
   "cell_type": "code",
   "execution_count": 37,
   "metadata": {
    "colab": {
     "base_uri": "https://localhost:8080/"
    },
    "id": "8jgYPkTBzwmu",
    "outputId": "7c176fec-169e-4f2c-d4b9-d9726e80c9dc"
   },
   "outputs": [
    {
     "name": "stdout",
     "output_type": "stream",
     "text": [
      "Wall time: 0 ns\n"
     ]
    },
    {
     "data": {
      "text/plain": [
       "4"
      ]
     },
     "execution_count": 37,
     "metadata": {},
     "output_type": "execute_result"
    }
   ],
   "source": [
    "%%time\n",
    "len(x)"
   ]
  },
  {
   "cell_type": "code",
   "execution_count": 38,
   "metadata": {
    "colab": {
     "base_uri": "https://localhost:8080/"
    },
    "id": "bQ58nkr2zwiI",
    "outputId": "b49028f7-03d4-49a5-b0d6-8654f86bd420"
   },
   "outputs": [
    {
     "name": "stdout",
     "output_type": "stream",
     "text": [
      "Wall time: 0 ns\n"
     ]
    },
    {
     "data": {
      "text/plain": [
       "torch.Size([4])"
      ]
     },
     "execution_count": 38,
     "metadata": {},
     "output_type": "execute_result"
    }
   ],
   "source": [
    "%%time\n",
    "x.shape"
   ]
  },
  {
   "cell_type": "code",
   "execution_count": 39,
   "metadata": {
    "colab": {
     "base_uri": "https://localhost:8080/"
    },
    "id": "nMMWNhQ5zwdE",
    "outputId": "5ebb3995-b69e-4b31-a80c-fbb8df282606"
   },
   "outputs": [
    {
     "name": "stdout",
     "output_type": "stream",
     "text": [
      "tensor([[ 0,  1,  2,  3],\n",
      "        [ 4,  5,  6,  7],\n",
      "        [ 8,  9, 10, 11],\n",
      "        [12, 13, 14, 15],\n",
      "        [16, 17, 18, 19]])\n",
      "Wall time: 1.99 ms\n"
     ]
    }
   ],
   "source": [
    "%%time\n",
    "A = torch.arange(20).reshape(5, 4)\n",
    "print(A)"
   ]
  },
  {
   "cell_type": "code",
   "execution_count": 40,
   "metadata": {
    "colab": {
     "base_uri": "https://localhost:8080/"
    },
    "id": "PXtq2llCzwYU",
    "outputId": "b357fdfe-ca79-4b82-da72-3bd1b6d3c4d5"
   },
   "outputs": [
    {
     "name": "stdout",
     "output_type": "stream",
     "text": [
      "Wall time: 27 ms\n"
     ]
    },
    {
     "data": {
      "text/plain": [
       "tensor([[ 0,  4,  8, 12, 16],\n",
       "        [ 1,  5,  9, 13, 17],\n",
       "        [ 2,  6, 10, 14, 18],\n",
       "        [ 3,  7, 11, 15, 19]])"
      ]
     },
     "execution_count": 40,
     "metadata": {},
     "output_type": "execute_result"
    }
   ],
   "source": [
    "%%time\n",
    "A.T"
   ]
  },
  {
   "cell_type": "code",
   "execution_count": 41,
   "metadata": {
    "colab": {
     "base_uri": "https://localhost:8080/"
    },
    "id": "5vsPyAJ9zwSE",
    "outputId": "c02ca919-4a19-4c08-eb15-9edd1f77f4db"
   },
   "outputs": [
    {
     "name": "stdout",
     "output_type": "stream",
     "text": [
      "tensor([[1, 2, 3],\n",
      "        [2, 0, 4],\n",
      "        [3, 4, 5]])\n",
      "Wall time: 1 ms\n"
     ]
    }
   ],
   "source": [
    "%%time\n",
    "B = torch.tensor([[1, 2, 3], [2, 0, 4], [3, 4, 5]])\n",
    "print(B)"
   ]
  },
  {
   "cell_type": "code",
   "execution_count": 42,
   "metadata": {
    "colab": {
     "base_uri": "https://localhost:8080/"
    },
    "id": "BEieRkG1zwMr",
    "outputId": "652376b2-5004-4060-d5d4-a34c339717c9"
   },
   "outputs": [
    {
     "name": "stdout",
     "output_type": "stream",
     "text": [
      "Wall time: 23.9 ms\n"
     ]
    },
    {
     "data": {
      "text/plain": [
       "tensor([[True, True, True],\n",
       "        [True, True, True],\n",
       "        [True, True, True]])"
      ]
     },
     "execution_count": 42,
     "metadata": {},
     "output_type": "execute_result"
    }
   ],
   "source": [
    "%%time\n",
    "B == B.T"
   ]
  },
  {
   "cell_type": "code",
   "execution_count": 43,
   "metadata": {
    "colab": {
     "base_uri": "https://localhost:8080/"
    },
    "id": "yiMF_X5nzwHu",
    "outputId": "01c23e11-aff1-430f-d9b3-97484c2f0210"
   },
   "outputs": [
    {
     "name": "stdout",
     "output_type": "stream",
     "text": [
      "tensor([[[ 0,  1,  2,  3],\n",
      "         [ 4,  5,  6,  7],\n",
      "         [ 8,  9, 10, 11]],\n",
      "\n",
      "        [[12, 13, 14, 15],\n",
      "         [16, 17, 18, 19],\n",
      "         [20, 21, 22, 23]]])\n",
      "Wall time: 972 µs\n"
     ]
    }
   ],
   "source": [
    "%%time\n",
    "X = torch.arange(24).reshape(2, 3, 4)\n",
    "print(X)"
   ]
  },
  {
   "cell_type": "code",
   "execution_count": 44,
   "metadata": {
    "colab": {
     "base_uri": "https://localhost:8080/"
    },
    "id": "5PdH2qTzzwDA",
    "outputId": "dc54a2c1-1f21-4fba-e1a6-5b81edee8af1"
   },
   "outputs": [
    {
     "name": "stdout",
     "output_type": "stream",
     "text": [
      "tensor([[ 0.,  1.,  2.,  3.],\n",
      "        [ 4.,  5.,  6.,  7.],\n",
      "        [ 8.,  9., 10., 11.],\n",
      "        [12., 13., 14., 15.],\n",
      "        [16., 17., 18., 19.]])\n",
      "tensor([[ 0.,  2.,  4.,  6.],\n",
      "        [ 8., 10., 12., 14.],\n",
      "        [16., 18., 20., 22.],\n",
      "        [24., 26., 28., 30.],\n",
      "        [32., 34., 36., 38.]])\n",
      "Wall time: 23.6 ms\n"
     ]
    }
   ],
   "source": [
    "%%time\n",
    "A = torch.arange(20, dtype=torch.float32).reshape(5, 4)\n",
    "B = A.clone() \n",
    "print(A, A + B, sep='\\n')"
   ]
  },
  {
   "cell_type": "code",
   "execution_count": 45,
   "metadata": {
    "colab": {
     "base_uri": "https://localhost:8080/"
    },
    "id": "YnHuspVSzv9g",
    "outputId": "aee7f132-8d2b-4d86-b417-62a41ddc4594"
   },
   "outputs": [
    {
     "name": "stdout",
     "output_type": "stream",
     "text": [
      "Wall time: 0 ns\n"
     ]
    },
    {
     "data": {
      "text/plain": [
       "tensor([[  0.,   1.,   4.,   9.],\n",
       "        [ 16.,  25.,  36.,  49.],\n",
       "        [ 64.,  81., 100., 121.],\n",
       "        [144., 169., 196., 225.],\n",
       "        [256., 289., 324., 361.]])"
      ]
     },
     "execution_count": 45,
     "metadata": {},
     "output_type": "execute_result"
    }
   ],
   "source": [
    "%%time\n",
    "A * B"
   ]
  },
  {
   "cell_type": "code",
   "execution_count": 46,
   "metadata": {
    "colab": {
     "base_uri": "https://localhost:8080/"
    },
    "id": "lr8IvinLzv34",
    "outputId": "a47e5033-1811-4bc5-971e-c621875881f7"
   },
   "outputs": [
    {
     "name": "stdout",
     "output_type": "stream",
     "text": [
      "tensor([[[ 2,  3,  4,  5],\n",
      "         [ 6,  7,  8,  9],\n",
      "         [10, 11, 12, 13]],\n",
      "\n",
      "        [[14, 15, 16, 17],\n",
      "         [18, 19, 20, 21],\n",
      "         [22, 23, 24, 25]]])\n",
      "torch.Size([2, 3, 4])\n",
      "Wall time: 18.9 ms\n"
     ]
    }
   ],
   "source": [
    "%%time\n",
    "a = 2\n",
    "X = torch.arange(24).reshape(2, 3, 4)\n",
    "print(a + X, (a * X).shape, sep='\\n')"
   ]
  },
  {
   "cell_type": "code",
   "execution_count": 47,
   "metadata": {
    "colab": {
     "base_uri": "https://localhost:8080/"
    },
    "id": "EJgXbo8IzvwV",
    "outputId": "76dcea37-4f49-41c5-b29f-38f36cb932f2"
   },
   "outputs": [
    {
     "name": "stdout",
     "output_type": "stream",
     "text": [
      "tensor([0., 1., 2., 3.]) tensor(6.)\n",
      "Wall time: 1e+03 µs\n"
     ]
    }
   ],
   "source": [
    "%%time\n",
    "x = torch.arange(4, dtype=torch.float32)\n",
    "print(x, x.sum())"
   ]
  },
  {
   "cell_type": "code",
   "execution_count": 48,
   "metadata": {
    "colab": {
     "base_uri": "https://localhost:8080/"
    },
    "id": "OW3e25JDzvD0",
    "outputId": "8867e439-4ea9-4b62-8547-f871a20d9b34"
   },
   "outputs": [
    {
     "name": "stdout",
     "output_type": "stream",
     "text": [
      "Wall time: 0 ns\n"
     ]
    },
    {
     "data": {
      "text/plain": [
       "(torch.Size([5, 4]), tensor(190.))"
      ]
     },
     "execution_count": 48,
     "metadata": {},
     "output_type": "execute_result"
    }
   ],
   "source": [
    "%%time\n",
    "A.shape, A.sum()"
   ]
  },
  {
   "cell_type": "code",
   "execution_count": 49,
   "metadata": {
    "colab": {
     "base_uri": "https://localhost:8080/"
    },
    "id": "KstxQfA2o7Lm",
    "outputId": "404f4e25-e0b4-4651-d371-c30994e3e7b7"
   },
   "outputs": [
    {
     "name": "stdout",
     "output_type": "stream",
     "text": [
      "tensor([40., 45., 50., 55.]) torch.Size([4])\n",
      "Wall time: 0 ns\n"
     ]
    }
   ],
   "source": [
    "%%time\n",
    "A_sum_axis0 = A.sum(axis=0)\n",
    "print(A_sum_axis0, A_sum_axis0.shape)"
   ]
  },
  {
   "cell_type": "code",
   "execution_count": 50,
   "metadata": {
    "colab": {
     "base_uri": "https://localhost:8080/"
    },
    "id": "sINEEmLBwZFW",
    "outputId": "b0e1a143-e842-48f1-c421-639bd52ffabb"
   },
   "outputs": [
    {
     "name": "stdout",
     "output_type": "stream",
     "text": [
      "tensor([ 6., 22., 38., 54., 70.]) torch.Size([5])\n",
      "Wall time: 2.01 ms\n"
     ]
    }
   ],
   "source": [
    "%%time\n",
    "A_sum_axis1 = A.sum(axis=1)\n",
    "print(A_sum_axis1, A_sum_axis1.shape)"
   ]
  },
  {
   "cell_type": "code",
   "execution_count": 51,
   "metadata": {
    "colab": {
     "base_uri": "https://localhost:8080/"
    },
    "id": "GMAi8o9bwZC1",
    "outputId": "4fe2fd50-fc01-457e-b1bc-ad28d072e83d"
   },
   "outputs": [
    {
     "name": "stdout",
     "output_type": "stream",
     "text": [
      "Wall time: 0 ns\n"
     ]
    },
    {
     "data": {
      "text/plain": [
       "tensor(190.)"
      ]
     },
     "execution_count": 51,
     "metadata": {},
     "output_type": "execute_result"
    }
   ],
   "source": [
    "%%time\n",
    "A.sum(axis=[0, 1])"
   ]
  },
  {
   "cell_type": "code",
   "execution_count": 52,
   "metadata": {
    "colab": {
     "base_uri": "https://localhost:8080/"
    },
    "id": "3R0Z7_B9wZAD",
    "outputId": "0a2e2e68-d2d1-496d-f498-4e3d60725ad7"
   },
   "outputs": [
    {
     "name": "stdout",
     "output_type": "stream",
     "text": [
      "Wall time: 9.03 ms\n"
     ]
    },
    {
     "data": {
      "text/plain": [
       "(tensor(9.5000), tensor(9.5000))"
      ]
     },
     "execution_count": 52,
     "metadata": {},
     "output_type": "execute_result"
    }
   ],
   "source": [
    "%%time\n",
    "A.mean(), A.sum() / A.numel()"
   ]
  },
  {
   "cell_type": "code",
   "execution_count": 53,
   "metadata": {
    "colab": {
     "base_uri": "https://localhost:8080/"
    },
    "id": "T1bPIjAAwY89",
    "outputId": "58dc5958-6501-4b70-828a-46ccbe3be98c"
   },
   "outputs": [
    {
     "name": "stdout",
     "output_type": "stream",
     "text": [
      "Wall time: 0 ns\n"
     ]
    },
    {
     "data": {
      "text/plain": [
       "(tensor([ 8.,  9., 10., 11.]), tensor([ 8.,  9., 10., 11.]))"
      ]
     },
     "execution_count": 53,
     "metadata": {},
     "output_type": "execute_result"
    }
   ],
   "source": [
    "%%time\n",
    "A.mean(axis=0), A.sum(axis=0) / A.shape[0]"
   ]
  },
  {
   "cell_type": "code",
   "execution_count": 54,
   "metadata": {
    "colab": {
     "base_uri": "https://localhost:8080/"
    },
    "id": "6miyphNIwY6U",
    "outputId": "7766804b-e790-4a88-ed2d-b12542dc39ac"
   },
   "outputs": [
    {
     "name": "stdout",
     "output_type": "stream",
     "text": [
      "tensor([[ 6.],\n",
      "        [22.],\n",
      "        [38.],\n",
      "        [54.],\n",
      "        [70.]])\n",
      "Wall time: 2 ms\n"
     ]
    }
   ],
   "source": [
    "%%time\n",
    "sum_A = A.sum(axis=1, keepdims=True)\n",
    "print(sum_A)"
   ]
  },
  {
   "cell_type": "code",
   "execution_count": 55,
   "metadata": {
    "colab": {
     "base_uri": "https://localhost:8080/"
    },
    "id": "PkGMQFBNwY3R",
    "outputId": "7c0a6fd6-a33c-4765-b81d-0c00a399ea3c"
   },
   "outputs": [
    {
     "name": "stdout",
     "output_type": "stream",
     "text": [
      "Wall time: 0 ns\n"
     ]
    },
    {
     "data": {
      "text/plain": [
       "tensor([[0.0000, 0.1667, 0.3333, 0.5000],\n",
       "        [0.1818, 0.2273, 0.2727, 0.3182],\n",
       "        [0.2105, 0.2368, 0.2632, 0.2895],\n",
       "        [0.2222, 0.2407, 0.2593, 0.2778],\n",
       "        [0.2286, 0.2429, 0.2571, 0.2714]])"
      ]
     },
     "execution_count": 55,
     "metadata": {},
     "output_type": "execute_result"
    }
   ],
   "source": [
    "%%time\n",
    "A / sum_A"
   ]
  },
  {
   "cell_type": "code",
   "execution_count": 56,
   "metadata": {
    "colab": {
     "base_uri": "https://localhost:8080/"
    },
    "id": "bhKrvDP7wYzt",
    "outputId": "1f7c8a4f-f2fa-4d34-f8c3-7b928ca540f2"
   },
   "outputs": [
    {
     "name": "stdout",
     "output_type": "stream",
     "text": [
      "Wall time: 172 ms\n"
     ]
    },
    {
     "data": {
      "text/plain": [
       "tensor([[ 0.,  1.,  2.,  3.],\n",
       "        [ 4.,  6.,  8., 10.],\n",
       "        [12., 15., 18., 21.],\n",
       "        [24., 28., 32., 36.],\n",
       "        [40., 45., 50., 55.]])"
      ]
     },
     "execution_count": 56,
     "metadata": {},
     "output_type": "execute_result"
    }
   ],
   "source": [
    "%%time\n",
    "A.cumsum(axis=0)"
   ]
  },
  {
   "cell_type": "code",
   "execution_count": 57,
   "metadata": {
    "colab": {
     "base_uri": "https://localhost:8080/"
    },
    "id": "H2IY1m90wYvp",
    "outputId": "114c3597-6151-4d7a-b917-c77702368f4a"
   },
   "outputs": [
    {
     "name": "stdout",
     "output_type": "stream",
     "text": [
      "tensor([0., 1., 2., 3.]) tensor([1., 1., 1., 1.]) tensor(6.)\n",
      "Wall time: 208 ms\n"
     ]
    }
   ],
   "source": [
    "%%time\n",
    "y = torch.ones(4, dtype=torch.float32)\n",
    "print(x, y, torch.dot(x, y))"
   ]
  },
  {
   "cell_type": "code",
   "execution_count": 58,
   "metadata": {
    "colab": {
     "base_uri": "https://localhost:8080/"
    },
    "id": "UtfWXUw1wYsn",
    "outputId": "ae9b36f6-5a30-4e74-f2e5-e82363509cca"
   },
   "outputs": [
    {
     "name": "stdout",
     "output_type": "stream",
     "text": [
      "Wall time: 0 ns\n"
     ]
    },
    {
     "data": {
      "text/plain": [
       "tensor(6.)"
      ]
     },
     "execution_count": 58,
     "metadata": {},
     "output_type": "execute_result"
    }
   ],
   "source": [
    "%%time\n",
    "torch.sum(x * y)"
   ]
  },
  {
   "cell_type": "code",
   "execution_count": 59,
   "metadata": {
    "colab": {
     "base_uri": "https://localhost:8080/"
    },
    "id": "gsG5e19gwYot",
    "outputId": "371db6ba-668a-4319-91c9-313132603e2e"
   },
   "outputs": [
    {
     "name": "stdout",
     "output_type": "stream",
     "text": [
      "Wall time: 127 ms\n"
     ]
    },
    {
     "data": {
      "text/plain": [
       "(torch.Size([5, 4]), torch.Size([4]), tensor([ 14.,  38.,  62.,  86., 110.]))"
      ]
     },
     "execution_count": 59,
     "metadata": {},
     "output_type": "execute_result"
    }
   ],
   "source": [
    "%%time\n",
    "A.shape, x.shape, torch.mv(A, x)"
   ]
  },
  {
   "cell_type": "code",
   "execution_count": 60,
   "metadata": {
    "colab": {
     "base_uri": "https://localhost:8080/"
    },
    "id": "70rrtzFwwYk3",
    "outputId": "bc3ff008-f5f5-4e39-86ef-c26546758f35"
   },
   "outputs": [
    {
     "name": "stdout",
     "output_type": "stream",
     "text": [
      "tensor([[ 6.,  6.,  6.],\n",
      "        [22., 22., 22.],\n",
      "        [38., 38., 38.],\n",
      "        [54., 54., 54.],\n",
      "        [70., 70., 70.]])\n",
      "Wall time: 127 ms\n"
     ]
    }
   ],
   "source": [
    "%%time\n",
    "B = torch.ones(4, 3)\n",
    "print(torch.mm(A, B))"
   ]
  },
  {
   "cell_type": "code",
   "execution_count": 61,
   "metadata": {
    "colab": {
     "base_uri": "https://localhost:8080/"
    },
    "id": "K_mvtAfswYhn",
    "outputId": "9b66ef01-e8eb-4310-d946-1348ffe7052f"
   },
   "outputs": [
    {
     "name": "stdout",
     "output_type": "stream",
     "text": [
      "tensor(5.)\n",
      "Wall time: 72.6 ms\n"
     ]
    }
   ],
   "source": [
    "%%time\n",
    "u = torch.tensor([3.0, -4.0])\n",
    "print(torch.norm(u))"
   ]
  },
  {
   "cell_type": "code",
   "execution_count": 62,
   "metadata": {
    "colab": {
     "base_uri": "https://localhost:8080/"
    },
    "id": "osVyOiSHwYd_",
    "outputId": "6550f84c-39c2-45b6-eb38-83c3eee73147"
   },
   "outputs": [
    {
     "name": "stdout",
     "output_type": "stream",
     "text": [
      "Wall time: 74.3 ms\n"
     ]
    },
    {
     "data": {
      "text/plain": [
       "tensor(7.)"
      ]
     },
     "execution_count": 62,
     "metadata": {},
     "output_type": "execute_result"
    }
   ],
   "source": [
    "%%time\n",
    "torch.abs(u).sum()"
   ]
  },
  {
   "cell_type": "code",
   "execution_count": 63,
   "metadata": {
    "colab": {
     "base_uri": "https://localhost:8080/"
    },
    "id": "v9OeIG-KwYbb",
    "outputId": "d23455c7-eea3-4f59-e95a-b3a89fcc8103"
   },
   "outputs": [
    {
     "name": "stdout",
     "output_type": "stream",
     "text": [
      "Wall time: 0 ns\n"
     ]
    },
    {
     "data": {
      "text/plain": [
       "tensor(6.)"
      ]
     },
     "execution_count": 63,
     "metadata": {},
     "output_type": "execute_result"
    }
   ],
   "source": [
    "%%time\n",
    "torch.norm(torch.ones((4, 9)))"
   ]
  },
  {
   "cell_type": "markdown",
   "metadata": {
    "id": "3I8ihZ71equF"
   },
   "source": [
    "### Exercises"
   ]
  },
  {
   "cell_type": "code",
   "execution_count": 64,
   "metadata": {
    "colab": {
     "base_uri": "https://localhost:8080/"
    },
    "id": "m02uxOARwYZg",
    "outputId": "7997d612-4da8-4bd6-d0fa-4d242aafa1bc"
   },
   "outputs": [
    {
     "name": "stdout",
     "output_type": "stream",
     "text": [
      "tensor([[True, True, True, True],\n",
      "        [True, True, True, True],\n",
      "        [True, True, True, True]])\n",
      "Wall time: 27 ms\n"
     ]
    }
   ],
   "source": [
    "%%time\n",
    "# 1 Prove that the transpose of a matrix  A ’s transpose is  A :  (A⊤)⊤=A .\n",
    "A = torch.arange(12).reshape((3, 4))\n",
    "print((A.T).T == A)"
   ]
  },
  {
   "cell_type": "code",
   "execution_count": 65,
   "metadata": {
    "colab": {
     "base_uri": "https://localhost:8080/"
    },
    "id": "t8fl7Gv3wYXa",
    "outputId": "32cccbe9-5c4c-42ce-fad9-e77127f9aa9e"
   },
   "outputs": [
    {
     "name": "stdout",
     "output_type": "stream",
     "text": [
      "tensor([[True, True, True],\n",
      "        [True, True, True],\n",
      "        [True, True, True],\n",
      "        [True, True, True]])\n",
      "Wall time: 1.04 ms\n"
     ]
    }
   ],
   "source": [
    "%%time\n",
    "# 2 Given two matrices  A  and  B , show that the sum of transposes is equal to the transpose of a sum:  A⊤+B⊤=(A+B)⊤ .\n",
    "A = torch.arange(12).reshape((3, 4))\n",
    "B = torch.arange(10, 22).reshape((3, 4))\n",
    "print((A + B).T == A.T + B.T)"
   ]
  },
  {
   "cell_type": "code",
   "execution_count": 66,
   "metadata": {
    "colab": {
     "base_uri": "https://localhost:8080/"
    },
    "id": "QprG6ECGwYUw",
    "outputId": "547e2602-1578-4001-c4f6-c29a2f6f796d"
   },
   "outputs": [
    {
     "name": "stdout",
     "output_type": "stream",
     "text": [
      "tensor([[ 0,  5, 10, 15],\n",
      "        [ 5, 10, 15, 20],\n",
      "        [10, 15, 20, 25],\n",
      "        [15, 20, 25, 30]])\n",
      "Wall time: 0 ns\n"
     ]
    }
   ],
   "source": [
    "%%time\n",
    "# 3 Given any square matrix  A , is  A+A⊤  always symmetric? Why?\n",
    "A = torch.arange(16).reshape((4, 4))\n",
    "print(A + A.T)"
   ]
  },
  {
   "cell_type": "code",
   "execution_count": 67,
   "metadata": {
    "colab": {
     "base_uri": "https://localhost:8080/"
    },
    "id": "sy4ChCSLwYR9",
    "outputId": "eddd926a-c48d-46b8-fb49-5a45d4a49451"
   },
   "outputs": [
    {
     "name": "stdout",
     "output_type": "stream",
     "text": [
      "Wall time: 0 ns\n"
     ]
    },
    {
     "data": {
      "text/plain": [
       "2"
      ]
     },
     "execution_count": 67,
     "metadata": {},
     "output_type": "execute_result"
    }
   ],
   "source": [
    "%%time\n",
    "# 4 We defined the tensor X of shape (2, 3, 4) in this section. What is the output of len(X)?\n",
    "len(X)"
   ]
  },
  {
   "cell_type": "code",
   "execution_count": 68,
   "metadata": {
    "colab": {
     "base_uri": "https://localhost:8080/"
    },
    "id": "2mROZXG2wYO_",
    "outputId": "d8180115-240b-42f4-94a8-048222b60013"
   },
   "outputs": [
    {
     "name": "stdout",
     "output_type": "stream",
     "text": [
      "torch.Size([2, 3, 4])\n",
      "2\n",
      "2\n",
      "Wall time: 0 ns\n"
     ]
    }
   ],
   "source": [
    "%%time\n",
    "# 5 For a tensor X of arbitrary shape, does len(X) always correspond to the length of a certain axis of X? What is that axis?\n",
    "print(X.shape)\n",
    "print(len(X))\n",
    "print(X.shape[0])\n",
    "#First dimension"
   ]
  },
  {
   "cell_type": "code",
   "execution_count": 69,
   "metadata": {
    "colab": {
     "base_uri": "https://localhost:8080/"
    },
    "id": "YtgIp1X9wYL7",
    "outputId": "600250a2-44a2-424b-9280-bedeaaf5ba67"
   },
   "outputs": [
    {
     "name": "stdout",
     "output_type": "stream",
     "text": [
      "Wall time: 999 µs\n"
     ]
    },
    {
     "data": {
      "text/plain": [
       "tensor([[0.0000, 0.0455, 0.0526, 0.0556],\n",
       "        [0.6667, 0.2273, 0.1579, 0.1296],\n",
       "        [1.3333, 0.4091, 0.2632, 0.2037],\n",
       "        [2.0000, 0.5909, 0.3684, 0.2778]])"
      ]
     },
     "execution_count": 69,
     "metadata": {},
     "output_type": "execute_result"
    }
   ],
   "source": [
    "%%time\n",
    "# 6 Run A / A.sum(axis=1) and see what happens. Can you analyze the reason?\n",
    "A / A.sum(axis=1)"
   ]
  },
  {
   "cell_type": "code",
   "execution_count": 70,
   "metadata": {
    "colab": {
     "base_uri": "https://localhost:8080/"
    },
    "id": "6r6af6J3wYJA",
    "outputId": "d6040999-327e-4d9c-9118-1400e8c24c5e"
   },
   "outputs": [
    {
     "name": "stdout",
     "output_type": "stream",
     "text": [
      "tensor(8)\n",
      "Wall time: 0 ns\n"
     ]
    }
   ],
   "source": [
    "%%time\n",
    "# 7 When traveling between two points in Manhattan, what is the distance that you need to cover in terms of the coordinates, i.e., in terms of avenues and streets? Can you travel diagonally?\n",
    "# Manhattan distance\n",
    "x = torch.tensor((4, 4))\n",
    "y = torch.tensor((0, 0))\n",
    "print((x-y).sum())"
   ]
  },
  {
   "cell_type": "code",
   "execution_count": 71,
   "metadata": {
    "colab": {
     "base_uri": "https://localhost:8080/"
    },
    "id": "vmBL1LXgwYGm",
    "outputId": "dda7b473-ead4-4711-e35c-e1fa9a3d4bf4"
   },
   "outputs": [
    {
     "name": "stdout",
     "output_type": "stream",
     "text": [
      "tensor([[[ 0,  1,  2,  3],\n",
      "         [ 4,  5,  6,  7],\n",
      "         [ 8,  9, 10, 11]],\n",
      "\n",
      "        [[12, 13, 14, 15],\n",
      "         [16, 17, 18, 19],\n",
      "         [20, 21, 22, 23]]])\n",
      "tensor([[12, 14, 16, 18],\n",
      "        [20, 22, 24, 26],\n",
      "        [28, 30, 32, 34]])\n",
      "tensor([[12, 15, 18, 21],\n",
      "        [48, 51, 54, 57]])\n",
      "tensor([[ 6, 22, 38],\n",
      "        [54, 70, 86]])\n",
      "Wall time: 2 ms\n"
     ]
    }
   ],
   "source": [
    "%%time\n",
    "# 8 Consider a tensor with shape (2, 3, 4). What are the shapes of the summation outputs along axis 0, 1, and 2?\n",
    "print(X)\n",
    "print(X.sum(axis=0))\n",
    "print(X.sum(axis=1))\n",
    "print(X.sum(axis=2))"
   ]
  },
  {
   "cell_type": "code",
   "execution_count": 72,
   "metadata": {
    "colab": {
     "base_uri": "https://localhost:8080/"
    },
    "id": "NWMY6NbIwYEK",
    "outputId": "a566b44d-9c1a-4a80-ade5-d86c1c39996e"
   },
   "outputs": [
    {
     "name": "stdout",
     "output_type": "stream",
     "text": [
      "tensor(65.7571)\n",
      "Wall time: 21.2 ms\n"
     ]
    }
   ],
   "source": [
    "%%time\n",
    "# 9 Feed a tensor with 3 or more axes to the linalg.norm function and observe its output. What does this function compute for tensors of arbitrary shape?\n",
    "X = torch.arange(24, dtype=torch.float).reshape(2, 3, 4)\n",
    "print(torch.linalg.norm(X))"
   ]
  },
  {
   "cell_type": "markdown",
   "metadata": {
    "id": "T-Up0s6wu6kE"
   },
   "source": [
    "# 2.4 Calculus"
   ]
  },
  {
   "cell_type": "code",
   "execution_count": 121,
   "metadata": {
    "colab": {
     "base_uri": "https://localhost:8080/"
    },
    "id": "vE7AXcMJwYBt",
    "outputId": "0380bd37-cceb-4906-d34c-f230cc13c8f0"
   },
   "outputs": [
    {
     "name": "stdout",
     "output_type": "stream",
     "text": [
      "Wall time: 1 ms\n"
     ]
    }
   ],
   "source": [
    "%%time\n",
    "%matplotlib inline\n",
    "\n",
    "import numpy as np\n",
    "from IPython import display\n",
    "import torch\n",
    "from matplotlib import pyplot as plt \n",
    "\n",
    "def f(x):\n",
    "    return 3 * x ** 2 - 4 * x"
   ]
  },
  {
   "cell_type": "code",
   "execution_count": 122,
   "metadata": {
    "colab": {
     "base_uri": "https://localhost:8080/"
    },
    "id": "SpDScKNdwX_F",
    "outputId": "138e501d-38a2-47fb-c4fd-5e601301f5d5"
   },
   "outputs": [
    {
     "name": "stdout",
     "output_type": "stream",
     "text": [
      "h=0.10000, numerical limit=2.30000\n",
      "h=0.01000, numerical limit=2.03000\n",
      "h=0.00100, numerical limit=2.00300\n",
      "h=0.00010, numerical limit=2.00030\n",
      "h=0.00001, numerical limit=2.00003\n",
      "Wall time: 1.27 ms\n"
     ]
    }
   ],
   "source": [
    "%%time\n",
    "def numerical_lim(f, x, h):\n",
    "    return (f(x + h) - f(x)) / h\n",
    "\n",
    "h = 0.1\n",
    "for i in range(5):\n",
    "    print(f'h={h:.5f}, numerical limit={numerical_lim(f, 1, h):.5f}')\n",
    "    h *= 0.1"
   ]
  },
  {
   "cell_type": "code",
   "execution_count": 123,
   "metadata": {
    "colab": {
     "base_uri": "https://localhost:8080/"
    },
    "id": "F2cx5VI5wX8G",
    "outputId": "1b687afd-9a6c-413f-ef03-1c87322f7c72"
   },
   "outputs": [
    {
     "name": "stdout",
     "output_type": "stream",
     "text": [
      "Wall time: 0 ns\n"
     ]
    }
   ],
   "source": [
    "%%time\n",
    "def use_svg_display():\n",
    "    \"\"\"Use the svg format to display a plot in Jupyter.\"\"\"\n",
    "    display.set_matplotlib_formats('svg')"
   ]
  },
  {
   "cell_type": "code",
   "execution_count": 128,
   "metadata": {
    "colab": {
     "base_uri": "https://localhost:8080/"
    },
    "id": "WhPc3Y-UwX5j",
    "outputId": "cce2474e-b15b-43b2-f376-69b988fc8c4c"
   },
   "outputs": [
    {
     "name": "stdout",
     "output_type": "stream",
     "text": [
      "Wall time: 0 ns\n"
     ]
    }
   ],
   "source": [
    "%%time\n",
    "def set_figsize(figsize=(3.5, 2.5)): \n",
    "    \"\"\"Set the figure size for matplotlib.\"\"\"\n",
    "    #use_svg_display()\n",
    "    plt.rcParams['figure.figsize'] = figsize"
   ]
  },
  {
   "cell_type": "code",
   "execution_count": 129,
   "metadata": {
    "colab": {
     "base_uri": "https://localhost:8080/"
    },
    "id": "BU7mD6mJwX25",
    "outputId": "e9b9685e-0a62-4077-ccdd-dbe0c03be220"
   },
   "outputs": [
    {
     "name": "stdout",
     "output_type": "stream",
     "text": [
      "Wall time: 0 ns\n"
     ]
    }
   ],
   "source": [
    "%%time\n",
    "def set_axes(axes, xlabel, ylabel, xlim, ylim, xscale, yscale, legend):\n",
    "    \"\"\"Set the axes for matplotlib.\"\"\"\n",
    "    axes.set_xlabel(xlabel)\n",
    "    axes.set_ylabel(ylabel)\n",
    "    axes.set_xscale(xscale)\n",
    "    axes.set_yscale(yscale)\n",
    "    axes.set_xlim(xlim)\n",
    "    axes.set_ylim(ylim)\n",
    "    if legend:\n",
    "        axes.legend(legend)\n",
    "    axes.grid()"
   ]
  },
  {
   "cell_type": "code",
   "execution_count": 130,
   "metadata": {
    "colab": {
     "base_uri": "https://localhost:8080/"
    },
    "id": "Nrxc0YTCwX0Q",
    "outputId": "ce1639aa-a498-490e-8ce9-161a38d4159d"
   },
   "outputs": [
    {
     "name": "stdout",
     "output_type": "stream",
     "text": [
      "Wall time: 0 ns\n"
     ]
    }
   ],
   "source": [
    "%%time\n",
    "def plot(X, Y=None, xlabel=None, ylabel=None, legend=None, xlim=None,\n",
    "         ylim=None, xscale='linear', yscale='linear',\n",
    "         fmts=('-', 'm--', 'g-.', 'r:'), figsize=(3.5, 2.5), axes=None):\n",
    "    \"\"\"Plot data points.\"\"\"\n",
    "    if legend is None:\n",
    "        legend = []\n",
    "\n",
    "    set_figsize(figsize)\n",
    "    axes = axes if axes else plt.gca()\n",
    "\n",
    "    # Return True if `X` (tensor or list) has 1 axis\n",
    "    def has_one_axis(X):\n",
    "        return (hasattr(X, \"ndim\") and X.ndim == 1 or\n",
    "                isinstance(X, list) and not hasattr(X[0], \"__len__\"))\n",
    "\n",
    "    if has_one_axis(X):\n",
    "        X = [X]\n",
    "    if Y is None:\n",
    "        X, Y = [[]] * len(X), X\n",
    "    elif has_one_axis(Y):\n",
    "        Y = [Y]\n",
    "    if len(X) != len(Y):\n",
    "        X = X * len(Y)\n",
    "    axes.cla()\n",
    "    for x, y, fmt in zip(X, Y, fmts):\n",
    "        if len(x):\n",
    "            axes.plot(x, y, fmt)\n",
    "        else:\n",
    "            axes.plot(y, fmt)\n",
    "    set_axes(axes, xlabel, ylabel, xlim, ylim, xscale, yscale, legend)"
   ]
  },
  {
   "cell_type": "code",
   "execution_count": 131,
   "metadata": {
    "colab": {
     "base_uri": "https://localhost:8080/",
     "height": 295
    },
    "id": "paT9p_3QwXxg",
    "outputId": "8de50129-889b-460e-a8da-01d98828366f",
    "scrolled": true
   },
   "outputs": [
    {
     "name": "stdout",
     "output_type": "stream",
     "text": [
      "Wall time: 53.7 ms\n"
     ]
    },
    {
     "data": {
      "image/svg+xml": [
       "<?xml version=\"1.0\" encoding=\"utf-8\" standalone=\"no\"?>\r\n",
       "<!DOCTYPE svg PUBLIC \"-//W3C//DTD SVG 1.1//EN\"\r\n",
       "  \"http://www.w3.org/Graphics/SVG/1.1/DTD/svg11.dtd\">\r\n",
       "<svg height=\"180.65625pt\" version=\"1.1\" viewBox=\"0 0 243.529359 180.65625\" width=\"243.529359pt\" xmlns=\"http://www.w3.org/2000/svg\" xmlns:xlink=\"http://www.w3.org/1999/xlink\">\r\n",
       " <metadata>\r\n",
       "  <rdf:RDF xmlns:cc=\"http://creativecommons.org/ns#\" xmlns:dc=\"http://purl.org/dc/elements/1.1/\" xmlns:rdf=\"http://www.w3.org/1999/02/22-rdf-syntax-ns#\">\r\n",
       "   <cc:Work>\r\n",
       "    <dc:type rdf:resource=\"http://purl.org/dc/dcmitype/StillImage\"/>\r\n",
       "    <dc:date>2021-09-09T13:25:12.063920</dc:date>\r\n",
       "    <dc:format>image/svg+xml</dc:format>\r\n",
       "    <dc:creator>\r\n",
       "     <cc:Agent>\r\n",
       "      <dc:title>Matplotlib v3.4.3, https://matplotlib.org/</dc:title>\r\n",
       "     </cc:Agent>\r\n",
       "    </dc:creator>\r\n",
       "   </cc:Work>\r\n",
       "  </rdf:RDF>\r\n",
       " </metadata>\r\n",
       " <defs>\r\n",
       "  <style type=\"text/css\">*{stroke-linecap:butt;stroke-linejoin:round;}</style>\r\n",
       " </defs>\r\n",
       " <g id=\"figure_1\">\r\n",
       "  <g id=\"patch_1\">\r\n",
       "   <path d=\"M 0 180.65625 \r\n",
       "L 243.529359 180.65625 \r\n",
       "L 243.529359 0 \r\n",
       "L 0 0 \r\n",
       "z\r\n",
       "\" style=\"fill:none;\"/>\r\n",
       "  </g>\r\n",
       "  <g id=\"axes_1\">\r\n",
       "   <g id=\"patch_2\">\r\n",
       "    <path d=\"M 40.603125 143.1 \r\n",
       "L 235.903125 143.1 \r\n",
       "L 235.903125 7.2 \r\n",
       "L 40.603125 7.2 \r\n",
       "z\r\n",
       "\" style=\"fill:#ffffff;\"/>\r\n",
       "   </g>\r\n",
       "   <g id=\"matplotlib.axis_1\">\r\n",
       "    <g id=\"xtick_1\">\r\n",
       "     <g id=\"line2d_1\">\r\n",
       "      <path clip-path=\"url(#p416a94e68a)\" d=\"M 49.480398 143.1 \r\n",
       "L 49.480398 7.2 \r\n",
       "\" style=\"fill:none;stroke:#b0b0b0;stroke-linecap:square;stroke-width:0.8;\"/>\r\n",
       "     </g>\r\n",
       "     <g id=\"line2d_2\">\r\n",
       "      <defs>\r\n",
       "       <path d=\"M 0 0 \r\n",
       "L 0 3.5 \r\n",
       "\" id=\"mf0dd05c9c7\" style=\"stroke:#000000;stroke-width:0.8;\"/>\r\n",
       "      </defs>\r\n",
       "      <g>\r\n",
       "       <use style=\"stroke:#000000;stroke-width:0.8;\" x=\"49.480398\" xlink:href=\"#mf0dd05c9c7\" y=\"143.1\"/>\r\n",
       "      </g>\r\n",
       "     </g>\r\n",
       "     <g id=\"text_1\">\r\n",
       "      <!-- 0 -->\r\n",
       "      <g transform=\"translate(46.299148 157.698438)scale(0.1 -0.1)\">\r\n",
       "       <defs>\r\n",
       "        <path d=\"M 2034 4250 \r\n",
       "Q 1547 4250 1301 3770 \r\n",
       "Q 1056 3291 1056 2328 \r\n",
       "Q 1056 1369 1301 889 \r\n",
       "Q 1547 409 2034 409 \r\n",
       "Q 2525 409 2770 889 \r\n",
       "Q 3016 1369 3016 2328 \r\n",
       "Q 3016 3291 2770 3770 \r\n",
       "Q 2525 4250 2034 4250 \r\n",
       "z\r\n",
       "M 2034 4750 \r\n",
       "Q 2819 4750 3233 4129 \r\n",
       "Q 3647 3509 3647 2328 \r\n",
       "Q 3647 1150 3233 529 \r\n",
       "Q 2819 -91 2034 -91 \r\n",
       "Q 1250 -91 836 529 \r\n",
       "Q 422 1150 422 2328 \r\n",
       "Q 422 3509 836 4129 \r\n",
       "Q 1250 4750 2034 4750 \r\n",
       "z\r\n",
       "\" id=\"DejaVuSans-30\" transform=\"scale(0.015625)\"/>\r\n",
       "       </defs>\r\n",
       "       <use xlink:href=\"#DejaVuSans-30\"/>\r\n",
       "      </g>\r\n",
       "     </g>\r\n",
       "    </g>\r\n",
       "    <g id=\"xtick_2\">\r\n",
       "     <g id=\"line2d_3\">\r\n",
       "      <path clip-path=\"url(#p416a94e68a)\" d=\"M 110.702968 143.1 \r\n",
       "L 110.702968 7.2 \r\n",
       "\" style=\"fill:none;stroke:#b0b0b0;stroke-linecap:square;stroke-width:0.8;\"/>\r\n",
       "     </g>\r\n",
       "     <g id=\"line2d_4\">\r\n",
       "      <g>\r\n",
       "       <use style=\"stroke:#000000;stroke-width:0.8;\" x=\"110.702968\" xlink:href=\"#mf0dd05c9c7\" y=\"143.1\"/>\r\n",
       "      </g>\r\n",
       "     </g>\r\n",
       "     <g id=\"text_2\">\r\n",
       "      <!-- 1 -->\r\n",
       "      <g transform=\"translate(107.521718 157.698438)scale(0.1 -0.1)\">\r\n",
       "       <defs>\r\n",
       "        <path d=\"M 794 531 \r\n",
       "L 1825 531 \r\n",
       "L 1825 4091 \r\n",
       "L 703 3866 \r\n",
       "L 703 4441 \r\n",
       "L 1819 4666 \r\n",
       "L 2450 4666 \r\n",
       "L 2450 531 \r\n",
       "L 3481 531 \r\n",
       "L 3481 0 \r\n",
       "L 794 0 \r\n",
       "L 794 531 \r\n",
       "z\r\n",
       "\" id=\"DejaVuSans-31\" transform=\"scale(0.015625)\"/>\r\n",
       "       </defs>\r\n",
       "       <use xlink:href=\"#DejaVuSans-31\"/>\r\n",
       "      </g>\r\n",
       "     </g>\r\n",
       "    </g>\r\n",
       "    <g id=\"xtick_3\">\r\n",
       "     <g id=\"line2d_5\">\r\n",
       "      <path clip-path=\"url(#p416a94e68a)\" d=\"M 171.925539 143.1 \r\n",
       "L 171.925539 7.2 \r\n",
       "\" style=\"fill:none;stroke:#b0b0b0;stroke-linecap:square;stroke-width:0.8;\"/>\r\n",
       "     </g>\r\n",
       "     <g id=\"line2d_6\">\r\n",
       "      <g>\r\n",
       "       <use style=\"stroke:#000000;stroke-width:0.8;\" x=\"171.925539\" xlink:href=\"#mf0dd05c9c7\" y=\"143.1\"/>\r\n",
       "      </g>\r\n",
       "     </g>\r\n",
       "     <g id=\"text_3\">\r\n",
       "      <!-- 2 -->\r\n",
       "      <g transform=\"translate(168.744289 157.698438)scale(0.1 -0.1)\">\r\n",
       "       <defs>\r\n",
       "        <path d=\"M 1228 531 \r\n",
       "L 3431 531 \r\n",
       "L 3431 0 \r\n",
       "L 469 0 \r\n",
       "L 469 531 \r\n",
       "Q 828 903 1448 1529 \r\n",
       "Q 2069 2156 2228 2338 \r\n",
       "Q 2531 2678 2651 2914 \r\n",
       "Q 2772 3150 2772 3378 \r\n",
       "Q 2772 3750 2511 3984 \r\n",
       "Q 2250 4219 1831 4219 \r\n",
       "Q 1534 4219 1204 4116 \r\n",
       "Q 875 4013 500 3803 \r\n",
       "L 500 4441 \r\n",
       "Q 881 4594 1212 4672 \r\n",
       "Q 1544 4750 1819 4750 \r\n",
       "Q 2544 4750 2975 4387 \r\n",
       "Q 3406 4025 3406 3419 \r\n",
       "Q 3406 3131 3298 2873 \r\n",
       "Q 3191 2616 2906 2266 \r\n",
       "Q 2828 2175 2409 1742 \r\n",
       "Q 1991 1309 1228 531 \r\n",
       "z\r\n",
       "\" id=\"DejaVuSans-32\" transform=\"scale(0.015625)\"/>\r\n",
       "       </defs>\r\n",
       "       <use xlink:href=\"#DejaVuSans-32\"/>\r\n",
       "      </g>\r\n",
       "     </g>\r\n",
       "    </g>\r\n",
       "    <g id=\"xtick_4\">\r\n",
       "     <g id=\"line2d_7\">\r\n",
       "      <path clip-path=\"url(#p416a94e68a)\" d=\"M 233.148109 143.1 \r\n",
       "L 233.148109 7.2 \r\n",
       "\" style=\"fill:none;stroke:#b0b0b0;stroke-linecap:square;stroke-width:0.8;\"/>\r\n",
       "     </g>\r\n",
       "     <g id=\"line2d_8\">\r\n",
       "      <g>\r\n",
       "       <use style=\"stroke:#000000;stroke-width:0.8;\" x=\"233.148109\" xlink:href=\"#mf0dd05c9c7\" y=\"143.1\"/>\r\n",
       "      </g>\r\n",
       "     </g>\r\n",
       "     <g id=\"text_4\">\r\n",
       "      <!-- 3 -->\r\n",
       "      <g transform=\"translate(229.966859 157.698438)scale(0.1 -0.1)\">\r\n",
       "       <defs>\r\n",
       "        <path d=\"M 2597 2516 \r\n",
       "Q 3050 2419 3304 2112 \r\n",
       "Q 3559 1806 3559 1356 \r\n",
       "Q 3559 666 3084 287 \r\n",
       "Q 2609 -91 1734 -91 \r\n",
       "Q 1441 -91 1130 -33 \r\n",
       "Q 819 25 488 141 \r\n",
       "L 488 750 \r\n",
       "Q 750 597 1062 519 \r\n",
       "Q 1375 441 1716 441 \r\n",
       "Q 2309 441 2620 675 \r\n",
       "Q 2931 909 2931 1356 \r\n",
       "Q 2931 1769 2642 2001 \r\n",
       "Q 2353 2234 1838 2234 \r\n",
       "L 1294 2234 \r\n",
       "L 1294 2753 \r\n",
       "L 1863 2753 \r\n",
       "Q 2328 2753 2575 2939 \r\n",
       "Q 2822 3125 2822 3475 \r\n",
       "Q 2822 3834 2567 4026 \r\n",
       "Q 2313 4219 1838 4219 \r\n",
       "Q 1578 4219 1281 4162 \r\n",
       "Q 984 4106 628 3988 \r\n",
       "L 628 4550 \r\n",
       "Q 988 4650 1302 4700 \r\n",
       "Q 1616 4750 1894 4750 \r\n",
       "Q 2613 4750 3031 4423 \r\n",
       "Q 3450 4097 3450 3541 \r\n",
       "Q 3450 3153 3228 2886 \r\n",
       "Q 3006 2619 2597 2516 \r\n",
       "z\r\n",
       "\" id=\"DejaVuSans-33\" transform=\"scale(0.015625)\"/>\r\n",
       "       </defs>\r\n",
       "       <use xlink:href=\"#DejaVuSans-33\"/>\r\n",
       "      </g>\r\n",
       "     </g>\r\n",
       "    </g>\r\n",
       "    <g id=\"text_5\">\r\n",
       "     <!-- x -->\r\n",
       "     <g transform=\"translate(135.29375 171.376563)scale(0.1 -0.1)\">\r\n",
       "      <defs>\r\n",
       "       <path d=\"M 3513 3500 \r\n",
       "L 2247 1797 \r\n",
       "L 3578 0 \r\n",
       "L 2900 0 \r\n",
       "L 1881 1375 \r\n",
       "L 863 0 \r\n",
       "L 184 0 \r\n",
       "L 1544 1831 \r\n",
       "L 300 3500 \r\n",
       "L 978 3500 \r\n",
       "L 1906 2253 \r\n",
       "L 2834 3500 \r\n",
       "L 3513 3500 \r\n",
       "z\r\n",
       "\" id=\"DejaVuSans-78\" transform=\"scale(0.015625)\"/>\r\n",
       "      </defs>\r\n",
       "      <use xlink:href=\"#DejaVuSans-78\"/>\r\n",
       "     </g>\r\n",
       "    </g>\r\n",
       "   </g>\r\n",
       "   <g id=\"matplotlib.axis_2\">\r\n",
       "    <g id=\"ytick_1\">\r\n",
       "     <g id=\"line2d_9\">\r\n",
       "      <path clip-path=\"url(#p416a94e68a)\" d=\"M 40.603125 114.635514 \r\n",
       "L 235.903125 114.635514 \r\n",
       "\" style=\"fill:none;stroke:#b0b0b0;stroke-linecap:square;stroke-width:0.8;\"/>\r\n",
       "     </g>\r\n",
       "     <g id=\"line2d_10\">\r\n",
       "      <defs>\r\n",
       "       <path d=\"M 0 0 \r\n",
       "L -3.5 0 \r\n",
       "\" id=\"m0933aa3fe9\" style=\"stroke:#000000;stroke-width:0.8;\"/>\r\n",
       "      </defs>\r\n",
       "      <g>\r\n",
       "       <use style=\"stroke:#000000;stroke-width:0.8;\" x=\"40.603125\" xlink:href=\"#m0933aa3fe9\" y=\"114.635514\"/>\r\n",
       "      </g>\r\n",
       "     </g>\r\n",
       "     <g id=\"text_6\">\r\n",
       "      <!-- 0 -->\r\n",
       "      <g transform=\"translate(27.240625 118.434732)scale(0.1 -0.1)\">\r\n",
       "       <use xlink:href=\"#DejaVuSans-30\"/>\r\n",
       "      </g>\r\n",
       "     </g>\r\n",
       "    </g>\r\n",
       "    <g id=\"ytick_2\">\r\n",
       "     <g id=\"line2d_11\">\r\n",
       "      <path clip-path=\"url(#p416a94e68a)\" d=\"M 40.603125 77.490157 \r\n",
       "L 235.903125 77.490157 \r\n",
       "\" style=\"fill:none;stroke:#b0b0b0;stroke-linecap:square;stroke-width:0.8;\"/>\r\n",
       "     </g>\r\n",
       "     <g id=\"line2d_12\">\r\n",
       "      <g>\r\n",
       "       <use style=\"stroke:#000000;stroke-width:0.8;\" x=\"40.603125\" xlink:href=\"#m0933aa3fe9\" y=\"77.490157\"/>\r\n",
       "      </g>\r\n",
       "     </g>\r\n",
       "     <g id=\"text_7\">\r\n",
       "      <!-- 5 -->\r\n",
       "      <g transform=\"translate(27.240625 81.289376)scale(0.1 -0.1)\">\r\n",
       "       <defs>\r\n",
       "        <path d=\"M 691 4666 \r\n",
       "L 3169 4666 \r\n",
       "L 3169 4134 \r\n",
       "L 1269 4134 \r\n",
       "L 1269 2991 \r\n",
       "Q 1406 3038 1543 3061 \r\n",
       "Q 1681 3084 1819 3084 \r\n",
       "Q 2600 3084 3056 2656 \r\n",
       "Q 3513 2228 3513 1497 \r\n",
       "Q 3513 744 3044 326 \r\n",
       "Q 2575 -91 1722 -91 \r\n",
       "Q 1428 -91 1123 -41 \r\n",
       "Q 819 9 494 109 \r\n",
       "L 494 744 \r\n",
       "Q 775 591 1075 516 \r\n",
       "Q 1375 441 1709 441 \r\n",
       "Q 2250 441 2565 725 \r\n",
       "Q 2881 1009 2881 1497 \r\n",
       "Q 2881 1984 2565 2268 \r\n",
       "Q 2250 2553 1709 2553 \r\n",
       "Q 1456 2553 1204 2497 \r\n",
       "Q 953 2441 691 2322 \r\n",
       "L 691 4666 \r\n",
       "z\r\n",
       "\" id=\"DejaVuSans-35\" transform=\"scale(0.015625)\"/>\r\n",
       "       </defs>\r\n",
       "       <use xlink:href=\"#DejaVuSans-35\"/>\r\n",
       "      </g>\r\n",
       "     </g>\r\n",
       "    </g>\r\n",
       "    <g id=\"ytick_3\">\r\n",
       "     <g id=\"line2d_13\">\r\n",
       "      <path clip-path=\"url(#p416a94e68a)\" d=\"M 40.603125 40.344801 \r\n",
       "L 235.903125 40.344801 \r\n",
       "\" style=\"fill:none;stroke:#b0b0b0;stroke-linecap:square;stroke-width:0.8;\"/>\r\n",
       "     </g>\r\n",
       "     <g id=\"line2d_14\">\r\n",
       "      <g>\r\n",
       "       <use style=\"stroke:#000000;stroke-width:0.8;\" x=\"40.603125\" xlink:href=\"#m0933aa3fe9\" y=\"40.344801\"/>\r\n",
       "      </g>\r\n",
       "     </g>\r\n",
       "     <g id=\"text_8\">\r\n",
       "      <!-- 10 -->\r\n",
       "      <g transform=\"translate(20.878125 44.14402)scale(0.1 -0.1)\">\r\n",
       "       <use xlink:href=\"#DejaVuSans-31\"/>\r\n",
       "       <use x=\"63.623047\" xlink:href=\"#DejaVuSans-30\"/>\r\n",
       "      </g>\r\n",
       "     </g>\r\n",
       "    </g>\r\n",
       "    <g id=\"text_9\">\r\n",
       "     <!-- f(x) -->\r\n",
       "     <g transform=\"translate(14.798437 83.771094)rotate(-90)scale(0.1 -0.1)\">\r\n",
       "      <defs>\r\n",
       "       <path d=\"M 2375 4863 \r\n",
       "L 2375 4384 \r\n",
       "L 1825 4384 \r\n",
       "Q 1516 4384 1395 4259 \r\n",
       "Q 1275 4134 1275 3809 \r\n",
       "L 1275 3500 \r\n",
       "L 2222 3500 \r\n",
       "L 2222 3053 \r\n",
       "L 1275 3053 \r\n",
       "L 1275 0 \r\n",
       "L 697 0 \r\n",
       "L 697 3053 \r\n",
       "L 147 3053 \r\n",
       "L 147 3500 \r\n",
       "L 697 3500 \r\n",
       "L 697 3744 \r\n",
       "Q 697 4328 969 4595 \r\n",
       "Q 1241 4863 1831 4863 \r\n",
       "L 2375 4863 \r\n",
       "z\r\n",
       "\" id=\"DejaVuSans-66\" transform=\"scale(0.015625)\"/>\r\n",
       "       <path d=\"M 1984 4856 \r\n",
       "Q 1566 4138 1362 3434 \r\n",
       "Q 1159 2731 1159 2009 \r\n",
       "Q 1159 1288 1364 580 \r\n",
       "Q 1569 -128 1984 -844 \r\n",
       "L 1484 -844 \r\n",
       "Q 1016 -109 783 600 \r\n",
       "Q 550 1309 550 2009 \r\n",
       "Q 550 2706 781 3412 \r\n",
       "Q 1013 4119 1484 4856 \r\n",
       "L 1984 4856 \r\n",
       "z\r\n",
       "\" id=\"DejaVuSans-28\" transform=\"scale(0.015625)\"/>\r\n",
       "       <path d=\"M 513 4856 \r\n",
       "L 1013 4856 \r\n",
       "Q 1481 4119 1714 3412 \r\n",
       "Q 1947 2706 1947 2009 \r\n",
       "Q 1947 1309 1714 600 \r\n",
       "Q 1481 -109 1013 -844 \r\n",
       "L 513 -844 \r\n",
       "Q 928 -128 1133 580 \r\n",
       "Q 1338 1288 1338 2009 \r\n",
       "Q 1338 2731 1133 3434 \r\n",
       "Q 928 4138 513 4856 \r\n",
       "z\r\n",
       "\" id=\"DejaVuSans-29\" transform=\"scale(0.015625)\"/>\r\n",
       "      </defs>\r\n",
       "      <use xlink:href=\"#DejaVuSans-66\"/>\r\n",
       "      <use x=\"35.205078\" xlink:href=\"#DejaVuSans-28\"/>\r\n",
       "      <use x=\"74.21875\" xlink:href=\"#DejaVuSans-78\"/>\r\n",
       "      <use x=\"133.398438\" xlink:href=\"#DejaVuSans-29\"/>\r\n",
       "     </g>\r\n",
       "    </g>\r\n",
       "   </g>\r\n",
       "   <g id=\"line2d_15\">\r\n",
       "    <path clip-path=\"url(#p416a94e68a)\" d=\"M 49.480398 114.635514 \r\n",
       "L 55.602655 117.38427 \r\n",
       "L 61.724912 119.687282 \r\n",
       "L 67.847169 121.54455 \r\n",
       "L 73.969426 122.956073 \r\n",
       "L 80.091683 123.921853 \r\n",
       "L 86.21394 124.441888 \r\n",
       "L 92.336197 124.516178 \r\n",
       "L 98.458454 124.144725 \r\n",
       "L 104.580711 123.327527 \r\n",
       "L 110.702968 122.064585 \r\n",
       "L 116.825225 120.355898 \r\n",
       "L 122.947482 118.201468 \r\n",
       "L 129.069739 115.601293 \r\n",
       "L 135.191996 112.555374 \r\n",
       "L 141.314254 109.06371 \r\n",
       "L 147.436511 105.126302 \r\n",
       "L 153.558768 100.74315 \r\n",
       "L 159.681025 95.914254 \r\n",
       "L 165.803282 90.639614 \r\n",
       "L 171.925539 84.919229 \r\n",
       "L 178.047796 78.7531 \r\n",
       "L 184.170053 72.141226 \r\n",
       "L 190.29231 65.083608 \r\n",
       "L 196.414567 57.580247 \r\n",
       "L 202.536824 49.63114 \r\n",
       "L 208.659081 41.23629 \r\n",
       "L 214.781338 32.395695 \r\n",
       "L 220.903595 23.109356 \r\n",
       "L 227.025852 13.377273 \r\n",
       "\" style=\"fill:none;stroke:#1f77b4;stroke-linecap:square;stroke-width:1.5;\"/>\r\n",
       "   </g>\r\n",
       "   <g id=\"line2d_16\">\r\n",
       "    <path clip-path=\"url(#p416a94e68a)\" d=\"M 49.480398 136.922727 \r\n",
       "L 55.602655 135.436913 \r\n",
       "L 61.724912 133.951099 \r\n",
       "L 67.847169 132.465285 \r\n",
       "L 73.969426 130.97947 \r\n",
       "L 80.091683 129.493656 \r\n",
       "L 86.21394 128.007842 \r\n",
       "L 92.336197 126.522028 \r\n",
       "L 98.458454 125.036213 \r\n",
       "L 104.580711 123.550399 \r\n",
       "L 110.702968 122.064585 \r\n",
       "L 116.825225 120.578771 \r\n",
       "L 122.947482 119.092956 \r\n",
       "L 129.069739 117.607142 \r\n",
       "L 135.191996 116.121328 \r\n",
       "L 141.314254 114.635514 \r\n",
       "L 147.436511 113.149699 \r\n",
       "L 153.558768 111.663885 \r\n",
       "L 159.681025 110.178071 \r\n",
       "L 165.803282 108.692257 \r\n",
       "L 171.925539 107.206442 \r\n",
       "L 178.047796 105.720628 \r\n",
       "L 184.170053 104.234814 \r\n",
       "L 190.29231 102.749 \r\n",
       "L 196.414567 101.263185 \r\n",
       "L 202.536824 99.777371 \r\n",
       "L 208.659081 98.291557 \r\n",
       "L 214.781338 96.805743 \r\n",
       "L 220.903595 95.319928 \r\n",
       "L 227.025852 93.834114 \r\n",
       "\" style=\"fill:none;stroke:#bf00bf;stroke-dasharray:5.55,2.4;stroke-dashoffset:0;stroke-width:1.5;\"/>\r\n",
       "   </g>\r\n",
       "   <g id=\"patch_3\">\r\n",
       "    <path d=\"M 40.603125 143.1 \r\n",
       "L 40.603125 7.2 \r\n",
       "\" style=\"fill:none;stroke:#000000;stroke-linecap:square;stroke-linejoin:miter;stroke-width:0.8;\"/>\r\n",
       "   </g>\r\n",
       "   <g id=\"patch_4\">\r\n",
       "    <path d=\"M 235.903125 143.1 \r\n",
       "L 235.903125 7.2 \r\n",
       "\" style=\"fill:none;stroke:#000000;stroke-linecap:square;stroke-linejoin:miter;stroke-width:0.8;\"/>\r\n",
       "   </g>\r\n",
       "   <g id=\"patch_5\">\r\n",
       "    <path d=\"M 40.603125 143.1 \r\n",
       "L 235.903125 143.1 \r\n",
       "\" style=\"fill:none;stroke:#000000;stroke-linecap:square;stroke-linejoin:miter;stroke-width:0.8;\"/>\r\n",
       "   </g>\r\n",
       "   <g id=\"patch_6\">\r\n",
       "    <path d=\"M 40.603125 7.2 \r\n",
       "L 235.903125 7.2 \r\n",
       "\" style=\"fill:none;stroke:#000000;stroke-linecap:square;stroke-linejoin:miter;stroke-width:0.8;\"/>\r\n",
       "   </g>\r\n",
       "   <g id=\"legend_1\">\r\n",
       "    <g id=\"patch_7\">\r\n",
       "     <path d=\"M 47.603125 44.55625 \r\n",
       "L 172.153125 44.55625 \r\n",
       "Q 174.153125 44.55625 174.153125 42.55625 \r\n",
       "L 174.153125 14.2 \r\n",
       "Q 174.153125 12.2 172.153125 12.2 \r\n",
       "L 47.603125 12.2 \r\n",
       "Q 45.603125 12.2 45.603125 14.2 \r\n",
       "L 45.603125 42.55625 \r\n",
       "Q 45.603125 44.55625 47.603125 44.55625 \r\n",
       "z\r\n",
       "\" style=\"fill:#ffffff;opacity:0.8;stroke:#cccccc;stroke-linejoin:miter;\"/>\r\n",
       "    </g>\r\n",
       "    <g id=\"line2d_17\">\r\n",
       "     <path d=\"M 49.603125 20.298437 \r\n",
       "L 69.603125 20.298437 \r\n",
       "\" style=\"fill:none;stroke:#1f77b4;stroke-linecap:square;stroke-width:1.5;\"/>\r\n",
       "    </g>\r\n",
       "    <g id=\"line2d_18\"/>\r\n",
       "    <g id=\"text_10\">\r\n",
       "     <!-- f(x) -->\r\n",
       "     <g transform=\"translate(77.603125 23.798437)scale(0.1 -0.1)\">\r\n",
       "      <use xlink:href=\"#DejaVuSans-66\"/>\r\n",
       "      <use x=\"35.205078\" xlink:href=\"#DejaVuSans-28\"/>\r\n",
       "      <use x=\"74.21875\" xlink:href=\"#DejaVuSans-78\"/>\r\n",
       "      <use x=\"133.398438\" xlink:href=\"#DejaVuSans-29\"/>\r\n",
       "     </g>\r\n",
       "    </g>\r\n",
       "    <g id=\"line2d_19\">\r\n",
       "     <path d=\"M 49.603125 34.976562 \r\n",
       "L 69.603125 34.976562 \r\n",
       "\" style=\"fill:none;stroke:#bf00bf;stroke-dasharray:5.55,2.4;stroke-dashoffset:0;stroke-width:1.5;\"/>\r\n",
       "    </g>\r\n",
       "    <g id=\"line2d_20\"/>\r\n",
       "    <g id=\"text_11\">\r\n",
       "     <!-- Tangent line (x=1) -->\r\n",
       "     <g transform=\"translate(77.603125 38.476562)scale(0.1 -0.1)\">\r\n",
       "      <defs>\r\n",
       "       <path d=\"M -19 4666 \r\n",
       "L 3928 4666 \r\n",
       "L 3928 4134 \r\n",
       "L 2272 4134 \r\n",
       "L 2272 0 \r\n",
       "L 1638 0 \r\n",
       "L 1638 4134 \r\n",
       "L -19 4134 \r\n",
       "L -19 4666 \r\n",
       "z\r\n",
       "\" id=\"DejaVuSans-54\" transform=\"scale(0.015625)\"/>\r\n",
       "       <path d=\"M 2194 1759 \r\n",
       "Q 1497 1759 1228 1600 \r\n",
       "Q 959 1441 959 1056 \r\n",
       "Q 959 750 1161 570 \r\n",
       "Q 1363 391 1709 391 \r\n",
       "Q 2188 391 2477 730 \r\n",
       "Q 2766 1069 2766 1631 \r\n",
       "L 2766 1759 \r\n",
       "L 2194 1759 \r\n",
       "z\r\n",
       "M 3341 1997 \r\n",
       "L 3341 0 \r\n",
       "L 2766 0 \r\n",
       "L 2766 531 \r\n",
       "Q 2569 213 2275 61 \r\n",
       "Q 1981 -91 1556 -91 \r\n",
       "Q 1019 -91 701 211 \r\n",
       "Q 384 513 384 1019 \r\n",
       "Q 384 1609 779 1909 \r\n",
       "Q 1175 2209 1959 2209 \r\n",
       "L 2766 2209 \r\n",
       "L 2766 2266 \r\n",
       "Q 2766 2663 2505 2880 \r\n",
       "Q 2244 3097 1772 3097 \r\n",
       "Q 1472 3097 1187 3025 \r\n",
       "Q 903 2953 641 2809 \r\n",
       "L 641 3341 \r\n",
       "Q 956 3463 1253 3523 \r\n",
       "Q 1550 3584 1831 3584 \r\n",
       "Q 2591 3584 2966 3190 \r\n",
       "Q 3341 2797 3341 1997 \r\n",
       "z\r\n",
       "\" id=\"DejaVuSans-61\" transform=\"scale(0.015625)\"/>\r\n",
       "       <path d=\"M 3513 2113 \r\n",
       "L 3513 0 \r\n",
       "L 2938 0 \r\n",
       "L 2938 2094 \r\n",
       "Q 2938 2591 2744 2837 \r\n",
       "Q 2550 3084 2163 3084 \r\n",
       "Q 1697 3084 1428 2787 \r\n",
       "Q 1159 2491 1159 1978 \r\n",
       "L 1159 0 \r\n",
       "L 581 0 \r\n",
       "L 581 3500 \r\n",
       "L 1159 3500 \r\n",
       "L 1159 2956 \r\n",
       "Q 1366 3272 1645 3428 \r\n",
       "Q 1925 3584 2291 3584 \r\n",
       "Q 2894 3584 3203 3211 \r\n",
       "Q 3513 2838 3513 2113 \r\n",
       "z\r\n",
       "\" id=\"DejaVuSans-6e\" transform=\"scale(0.015625)\"/>\r\n",
       "       <path d=\"M 2906 1791 \r\n",
       "Q 2906 2416 2648 2759 \r\n",
       "Q 2391 3103 1925 3103 \r\n",
       "Q 1463 3103 1205 2759 \r\n",
       "Q 947 2416 947 1791 \r\n",
       "Q 947 1169 1205 825 \r\n",
       "Q 1463 481 1925 481 \r\n",
       "Q 2391 481 2648 825 \r\n",
       "Q 2906 1169 2906 1791 \r\n",
       "z\r\n",
       "M 3481 434 \r\n",
       "Q 3481 -459 3084 -895 \r\n",
       "Q 2688 -1331 1869 -1331 \r\n",
       "Q 1566 -1331 1297 -1286 \r\n",
       "Q 1028 -1241 775 -1147 \r\n",
       "L 775 -588 \r\n",
       "Q 1028 -725 1275 -790 \r\n",
       "Q 1522 -856 1778 -856 \r\n",
       "Q 2344 -856 2625 -561 \r\n",
       "Q 2906 -266 2906 331 \r\n",
       "L 2906 616 \r\n",
       "Q 2728 306 2450 153 \r\n",
       "Q 2172 0 1784 0 \r\n",
       "Q 1141 0 747 490 \r\n",
       "Q 353 981 353 1791 \r\n",
       "Q 353 2603 747 3093 \r\n",
       "Q 1141 3584 1784 3584 \r\n",
       "Q 2172 3584 2450 3431 \r\n",
       "Q 2728 3278 2906 2969 \r\n",
       "L 2906 3500 \r\n",
       "L 3481 3500 \r\n",
       "L 3481 434 \r\n",
       "z\r\n",
       "\" id=\"DejaVuSans-67\" transform=\"scale(0.015625)\"/>\r\n",
       "       <path d=\"M 3597 1894 \r\n",
       "L 3597 1613 \r\n",
       "L 953 1613 \r\n",
       "Q 991 1019 1311 708 \r\n",
       "Q 1631 397 2203 397 \r\n",
       "Q 2534 397 2845 478 \r\n",
       "Q 3156 559 3463 722 \r\n",
       "L 3463 178 \r\n",
       "Q 3153 47 2828 -22 \r\n",
       "Q 2503 -91 2169 -91 \r\n",
       "Q 1331 -91 842 396 \r\n",
       "Q 353 884 353 1716 \r\n",
       "Q 353 2575 817 3079 \r\n",
       "Q 1281 3584 2069 3584 \r\n",
       "Q 2775 3584 3186 3129 \r\n",
       "Q 3597 2675 3597 1894 \r\n",
       "z\r\n",
       "M 3022 2063 \r\n",
       "Q 3016 2534 2758 2815 \r\n",
       "Q 2500 3097 2075 3097 \r\n",
       "Q 1594 3097 1305 2825 \r\n",
       "Q 1016 2553 972 2059 \r\n",
       "L 3022 2063 \r\n",
       "z\r\n",
       "\" id=\"DejaVuSans-65\" transform=\"scale(0.015625)\"/>\r\n",
       "       <path d=\"M 1172 4494 \r\n",
       "L 1172 3500 \r\n",
       "L 2356 3500 \r\n",
       "L 2356 3053 \r\n",
       "L 1172 3053 \r\n",
       "L 1172 1153 \r\n",
       "Q 1172 725 1289 603 \r\n",
       "Q 1406 481 1766 481 \r\n",
       "L 2356 481 \r\n",
       "L 2356 0 \r\n",
       "L 1766 0 \r\n",
       "Q 1100 0 847 248 \r\n",
       "Q 594 497 594 1153 \r\n",
       "L 594 3053 \r\n",
       "L 172 3053 \r\n",
       "L 172 3500 \r\n",
       "L 594 3500 \r\n",
       "L 594 4494 \r\n",
       "L 1172 4494 \r\n",
       "z\r\n",
       "\" id=\"DejaVuSans-74\" transform=\"scale(0.015625)\"/>\r\n",
       "       <path id=\"DejaVuSans-20\" transform=\"scale(0.015625)\"/>\r\n",
       "       <path d=\"M 603 4863 \r\n",
       "L 1178 4863 \r\n",
       "L 1178 0 \r\n",
       "L 603 0 \r\n",
       "L 603 4863 \r\n",
       "z\r\n",
       "\" id=\"DejaVuSans-6c\" transform=\"scale(0.015625)\"/>\r\n",
       "       <path d=\"M 603 3500 \r\n",
       "L 1178 3500 \r\n",
       "L 1178 0 \r\n",
       "L 603 0 \r\n",
       "L 603 3500 \r\n",
       "z\r\n",
       "M 603 4863 \r\n",
       "L 1178 4863 \r\n",
       "L 1178 4134 \r\n",
       "L 603 4134 \r\n",
       "L 603 4863 \r\n",
       "z\r\n",
       "\" id=\"DejaVuSans-69\" transform=\"scale(0.015625)\"/>\r\n",
       "       <path d=\"M 678 2906 \r\n",
       "L 4684 2906 \r\n",
       "L 4684 2381 \r\n",
       "L 678 2381 \r\n",
       "L 678 2906 \r\n",
       "z\r\n",
       "M 678 1631 \r\n",
       "L 4684 1631 \r\n",
       "L 4684 1100 \r\n",
       "L 678 1100 \r\n",
       "L 678 1631 \r\n",
       "z\r\n",
       "\" id=\"DejaVuSans-3d\" transform=\"scale(0.015625)\"/>\r\n",
       "      </defs>\r\n",
       "      <use xlink:href=\"#DejaVuSans-54\"/>\r\n",
       "      <use x=\"44.583984\" xlink:href=\"#DejaVuSans-61\"/>\r\n",
       "      <use x=\"105.863281\" xlink:href=\"#DejaVuSans-6e\"/>\r\n",
       "      <use x=\"169.242188\" xlink:href=\"#DejaVuSans-67\"/>\r\n",
       "      <use x=\"232.71875\" xlink:href=\"#DejaVuSans-65\"/>\r\n",
       "      <use x=\"294.242188\" xlink:href=\"#DejaVuSans-6e\"/>\r\n",
       "      <use x=\"357.621094\" xlink:href=\"#DejaVuSans-74\"/>\r\n",
       "      <use x=\"396.830078\" xlink:href=\"#DejaVuSans-20\"/>\r\n",
       "      <use x=\"428.617188\" xlink:href=\"#DejaVuSans-6c\"/>\r\n",
       "      <use x=\"456.400391\" xlink:href=\"#DejaVuSans-69\"/>\r\n",
       "      <use x=\"484.183594\" xlink:href=\"#DejaVuSans-6e\"/>\r\n",
       "      <use x=\"547.5625\" xlink:href=\"#DejaVuSans-65\"/>\r\n",
       "      <use x=\"609.085938\" xlink:href=\"#DejaVuSans-20\"/>\r\n",
       "      <use x=\"640.873047\" xlink:href=\"#DejaVuSans-28\"/>\r\n",
       "      <use x=\"679.886719\" xlink:href=\"#DejaVuSans-78\"/>\r\n",
       "      <use x=\"739.066406\" xlink:href=\"#DejaVuSans-3d\"/>\r\n",
       "      <use x=\"822.855469\" xlink:href=\"#DejaVuSans-31\"/>\r\n",
       "      <use x=\"886.478516\" xlink:href=\"#DejaVuSans-29\"/>\r\n",
       "     </g>\r\n",
       "    </g>\r\n",
       "   </g>\r\n",
       "  </g>\r\n",
       " </g>\r\n",
       " <defs>\r\n",
       "  <clipPath id=\"p416a94e68a\">\r\n",
       "   <rect height=\"135.9\" width=\"195.3\" x=\"40.603125\" y=\"7.2\"/>\r\n",
       "  </clipPath>\r\n",
       " </defs>\r\n",
       "</svg>\r\n"
      ],
      "text/plain": [
       "<Figure size 252x180 with 1 Axes>"
      ]
     },
     "metadata": {
      "needs_background": "light"
     },
     "output_type": "display_data"
    }
   ],
   "source": [
    "%%time\n",
    "x = np.arange(0, 3, 0.1)\n",
    "plot(x, [f(x), 2 * x - 3], 'x', 'f(x)', legend=['f(x)', 'Tangent line (x=1)'])"
   ]
  },
  {
   "cell_type": "markdown",
   "metadata": {
    "id": "EVFLkmCWH2rv"
   },
   "source": [
    "### Exercises"
   ]
  },
  {
   "cell_type": "code",
   "execution_count": 132,
   "metadata": {
    "colab": {
     "base_uri": "https://localhost:8080/",
     "height": 329
    },
    "id": "mokA4cGOwXvd",
    "outputId": "eb969d74-e51a-4a20-da11-7cba96968083"
   },
   "outputs": [
    {
     "name": "stderr",
     "output_type": "stream",
     "text": [
      "<timed exec>:3: RuntimeWarning: divide by zero encountered in true_divide\n"
     ]
    },
    {
     "name": "stdout",
     "output_type": "stream",
     "text": [
      "Wall time: 82.7 ms\n"
     ]
    },
    {
     "data": {
      "image/svg+xml": [
       "<?xml version=\"1.0\" encoding=\"utf-8\" standalone=\"no\"?>\r\n",
       "<!DOCTYPE svg PUBLIC \"-//W3C//DTD SVG 1.1//EN\"\r\n",
       "  \"http://www.w3.org/Graphics/SVG/1.1/DTD/svg11.dtd\">\r\n",
       "<svg height=\"180.65625pt\" version=\"1.1\" viewBox=\"0 0 249.465625 180.65625\" width=\"249.465625pt\" xmlns=\"http://www.w3.org/2000/svg\" xmlns:xlink=\"http://www.w3.org/1999/xlink\">\r\n",
       " <metadata>\r\n",
       "  <rdf:RDF xmlns:cc=\"http://creativecommons.org/ns#\" xmlns:dc=\"http://purl.org/dc/elements/1.1/\" xmlns:rdf=\"http://www.w3.org/1999/02/22-rdf-syntax-ns#\">\r\n",
       "   <cc:Work>\r\n",
       "    <dc:type rdf:resource=\"http://purl.org/dc/dcmitype/StillImage\"/>\r\n",
       "    <dc:date>2021-09-09T13:25:25.218957</dc:date>\r\n",
       "    <dc:format>image/svg+xml</dc:format>\r\n",
       "    <dc:creator>\r\n",
       "     <cc:Agent>\r\n",
       "      <dc:title>Matplotlib v3.4.3, https://matplotlib.org/</dc:title>\r\n",
       "     </cc:Agent>\r\n",
       "    </dc:creator>\r\n",
       "   </cc:Work>\r\n",
       "  </rdf:RDF>\r\n",
       " </metadata>\r\n",
       " <defs>\r\n",
       "  <style type=\"text/css\">*{stroke-linecap:butt;stroke-linejoin:round;}</style>\r\n",
       " </defs>\r\n",
       " <g id=\"figure_1\">\r\n",
       "  <g id=\"patch_1\">\r\n",
       "   <path d=\"M 0 180.65625 \r\n",
       "L 249.465625 180.65625 \r\n",
       "L 249.465625 0 \r\n",
       "L 0 0 \r\n",
       "z\r\n",
       "\" style=\"fill:none;\"/>\r\n",
       "  </g>\r\n",
       "  <g id=\"axes_1\">\r\n",
       "   <g id=\"patch_2\">\r\n",
       "    <path d=\"M 46.965625 143.1 \r\n",
       "L 242.265625 143.1 \r\n",
       "L 242.265625 7.2 \r\n",
       "L 46.965625 7.2 \r\n",
       "z\r\n",
       "\" style=\"fill:#ffffff;\"/>\r\n",
       "   </g>\r\n",
       "   <g id=\"matplotlib.axis_1\">\r\n",
       "    <g id=\"xtick_1\">\r\n",
       "     <g id=\"line2d_1\">\r\n",
       "      <path clip-path=\"url(#p2ff6091419)\" d=\"M 55.842898 143.1 \r\n",
       "L 55.842898 7.2 \r\n",
       "\" style=\"fill:none;stroke:#b0b0b0;stroke-linecap:square;stroke-width:0.8;\"/>\r\n",
       "     </g>\r\n",
       "     <g id=\"line2d_2\">\r\n",
       "      <defs>\r\n",
       "       <path d=\"M 0 0 \r\n",
       "L 0 3.5 \r\n",
       "\" id=\"m3712ef7b7a\" style=\"stroke:#000000;stroke-width:0.8;\"/>\r\n",
       "      </defs>\r\n",
       "      <g>\r\n",
       "       <use style=\"stroke:#000000;stroke-width:0.8;\" x=\"55.842898\" xlink:href=\"#m3712ef7b7a\" y=\"143.1\"/>\r\n",
       "      </g>\r\n",
       "     </g>\r\n",
       "     <g id=\"text_1\">\r\n",
       "      <!-- 0 -->\r\n",
       "      <g transform=\"translate(52.661648 157.698438)scale(0.1 -0.1)\">\r\n",
       "       <defs>\r\n",
       "        <path d=\"M 2034 4250 \r\n",
       "Q 1547 4250 1301 3770 \r\n",
       "Q 1056 3291 1056 2328 \r\n",
       "Q 1056 1369 1301 889 \r\n",
       "Q 1547 409 2034 409 \r\n",
       "Q 2525 409 2770 889 \r\n",
       "Q 3016 1369 3016 2328 \r\n",
       "Q 3016 3291 2770 3770 \r\n",
       "Q 2525 4250 2034 4250 \r\n",
       "z\r\n",
       "M 2034 4750 \r\n",
       "Q 2819 4750 3233 4129 \r\n",
       "Q 3647 3509 3647 2328 \r\n",
       "Q 3647 1150 3233 529 \r\n",
       "Q 2819 -91 2034 -91 \r\n",
       "Q 1250 -91 836 529 \r\n",
       "Q 422 1150 422 2328 \r\n",
       "Q 422 3509 836 4129 \r\n",
       "Q 1250 4750 2034 4750 \r\n",
       "z\r\n",
       "\" id=\"DejaVuSans-30\" transform=\"scale(0.015625)\"/>\r\n",
       "       </defs>\r\n",
       "       <use xlink:href=\"#DejaVuSans-30\"/>\r\n",
       "      </g>\r\n",
       "     </g>\r\n",
       "    </g>\r\n",
       "    <g id=\"xtick_2\">\r\n",
       "     <g id=\"line2d_3\">\r\n",
       "      <path clip-path=\"url(#p2ff6091419)\" d=\"M 92.076664 143.1 \r\n",
       "L 92.076664 7.2 \r\n",
       "\" style=\"fill:none;stroke:#b0b0b0;stroke-linecap:square;stroke-width:0.8;\"/>\r\n",
       "     </g>\r\n",
       "     <g id=\"line2d_4\">\r\n",
       "      <g>\r\n",
       "       <use style=\"stroke:#000000;stroke-width:0.8;\" x=\"92.076664\" xlink:href=\"#m3712ef7b7a\" y=\"143.1\"/>\r\n",
       "      </g>\r\n",
       "     </g>\r\n",
       "     <g id=\"text_2\">\r\n",
       "      <!-- 1 -->\r\n",
       "      <g transform=\"translate(88.895414 157.698438)scale(0.1 -0.1)\">\r\n",
       "       <defs>\r\n",
       "        <path d=\"M 794 531 \r\n",
       "L 1825 531 \r\n",
       "L 1825 4091 \r\n",
       "L 703 3866 \r\n",
       "L 703 4441 \r\n",
       "L 1819 4666 \r\n",
       "L 2450 4666 \r\n",
       "L 2450 531 \r\n",
       "L 3481 531 \r\n",
       "L 3481 0 \r\n",
       "L 794 0 \r\n",
       "L 794 531 \r\n",
       "z\r\n",
       "\" id=\"DejaVuSans-31\" transform=\"scale(0.015625)\"/>\r\n",
       "       </defs>\r\n",
       "       <use xlink:href=\"#DejaVuSans-31\"/>\r\n",
       "      </g>\r\n",
       "     </g>\r\n",
       "    </g>\r\n",
       "    <g id=\"xtick_3\">\r\n",
       "     <g id=\"line2d_5\">\r\n",
       "      <path clip-path=\"url(#p2ff6091419)\" d=\"M 128.31043 143.1 \r\n",
       "L 128.31043 7.2 \r\n",
       "\" style=\"fill:none;stroke:#b0b0b0;stroke-linecap:square;stroke-width:0.8;\"/>\r\n",
       "     </g>\r\n",
       "     <g id=\"line2d_6\">\r\n",
       "      <g>\r\n",
       "       <use style=\"stroke:#000000;stroke-width:0.8;\" x=\"128.31043\" xlink:href=\"#m3712ef7b7a\" y=\"143.1\"/>\r\n",
       "      </g>\r\n",
       "     </g>\r\n",
       "     <g id=\"text_3\">\r\n",
       "      <!-- 2 -->\r\n",
       "      <g transform=\"translate(125.12918 157.698438)scale(0.1 -0.1)\">\r\n",
       "       <defs>\r\n",
       "        <path d=\"M 1228 531 \r\n",
       "L 3431 531 \r\n",
       "L 3431 0 \r\n",
       "L 469 0 \r\n",
       "L 469 531 \r\n",
       "Q 828 903 1448 1529 \r\n",
       "Q 2069 2156 2228 2338 \r\n",
       "Q 2531 2678 2651 2914 \r\n",
       "Q 2772 3150 2772 3378 \r\n",
       "Q 2772 3750 2511 3984 \r\n",
       "Q 2250 4219 1831 4219 \r\n",
       "Q 1534 4219 1204 4116 \r\n",
       "Q 875 4013 500 3803 \r\n",
       "L 500 4441 \r\n",
       "Q 881 4594 1212 4672 \r\n",
       "Q 1544 4750 1819 4750 \r\n",
       "Q 2544 4750 2975 4387 \r\n",
       "Q 3406 4025 3406 3419 \r\n",
       "Q 3406 3131 3298 2873 \r\n",
       "Q 3191 2616 2906 2266 \r\n",
       "Q 2828 2175 2409 1742 \r\n",
       "Q 1991 1309 1228 531 \r\n",
       "z\r\n",
       "\" id=\"DejaVuSans-32\" transform=\"scale(0.015625)\"/>\r\n",
       "       </defs>\r\n",
       "       <use xlink:href=\"#DejaVuSans-32\"/>\r\n",
       "      </g>\r\n",
       "     </g>\r\n",
       "    </g>\r\n",
       "    <g id=\"xtick_4\">\r\n",
       "     <g id=\"line2d_7\">\r\n",
       "      <path clip-path=\"url(#p2ff6091419)\" d=\"M 164.544196 143.1 \r\n",
       "L 164.544196 7.2 \r\n",
       "\" style=\"fill:none;stroke:#b0b0b0;stroke-linecap:square;stroke-width:0.8;\"/>\r\n",
       "     </g>\r\n",
       "     <g id=\"line2d_8\">\r\n",
       "      <g>\r\n",
       "       <use style=\"stroke:#000000;stroke-width:0.8;\" x=\"164.544196\" xlink:href=\"#m3712ef7b7a\" y=\"143.1\"/>\r\n",
       "      </g>\r\n",
       "     </g>\r\n",
       "     <g id=\"text_4\">\r\n",
       "      <!-- 3 -->\r\n",
       "      <g transform=\"translate(161.362946 157.698438)scale(0.1 -0.1)\">\r\n",
       "       <defs>\r\n",
       "        <path d=\"M 2597 2516 \r\n",
       "Q 3050 2419 3304 2112 \r\n",
       "Q 3559 1806 3559 1356 \r\n",
       "Q 3559 666 3084 287 \r\n",
       "Q 2609 -91 1734 -91 \r\n",
       "Q 1441 -91 1130 -33 \r\n",
       "Q 819 25 488 141 \r\n",
       "L 488 750 \r\n",
       "Q 750 597 1062 519 \r\n",
       "Q 1375 441 1716 441 \r\n",
       "Q 2309 441 2620 675 \r\n",
       "Q 2931 909 2931 1356 \r\n",
       "Q 2931 1769 2642 2001 \r\n",
       "Q 2353 2234 1838 2234 \r\n",
       "L 1294 2234 \r\n",
       "L 1294 2753 \r\n",
       "L 1863 2753 \r\n",
       "Q 2328 2753 2575 2939 \r\n",
       "Q 2822 3125 2822 3475 \r\n",
       "Q 2822 3834 2567 4026 \r\n",
       "Q 2313 4219 1838 4219 \r\n",
       "Q 1578 4219 1281 4162 \r\n",
       "Q 984 4106 628 3988 \r\n",
       "L 628 4550 \r\n",
       "Q 988 4650 1302 4700 \r\n",
       "Q 1616 4750 1894 4750 \r\n",
       "Q 2613 4750 3031 4423 \r\n",
       "Q 3450 4097 3450 3541 \r\n",
       "Q 3450 3153 3228 2886 \r\n",
       "Q 3006 2619 2597 2516 \r\n",
       "z\r\n",
       "\" id=\"DejaVuSans-33\" transform=\"scale(0.015625)\"/>\r\n",
       "       </defs>\r\n",
       "       <use xlink:href=\"#DejaVuSans-33\"/>\r\n",
       "      </g>\r\n",
       "     </g>\r\n",
       "    </g>\r\n",
       "    <g id=\"xtick_5\">\r\n",
       "     <g id=\"line2d_9\">\r\n",
       "      <path clip-path=\"url(#p2ff6091419)\" d=\"M 200.777963 143.1 \r\n",
       "L 200.777963 7.2 \r\n",
       "\" style=\"fill:none;stroke:#b0b0b0;stroke-linecap:square;stroke-width:0.8;\"/>\r\n",
       "     </g>\r\n",
       "     <g id=\"line2d_10\">\r\n",
       "      <g>\r\n",
       "       <use style=\"stroke:#000000;stroke-width:0.8;\" x=\"200.777963\" xlink:href=\"#m3712ef7b7a\" y=\"143.1\"/>\r\n",
       "      </g>\r\n",
       "     </g>\r\n",
       "     <g id=\"text_5\">\r\n",
       "      <!-- 4 -->\r\n",
       "      <g transform=\"translate(197.596713 157.698438)scale(0.1 -0.1)\">\r\n",
       "       <defs>\r\n",
       "        <path d=\"M 2419 4116 \r\n",
       "L 825 1625 \r\n",
       "L 2419 1625 \r\n",
       "L 2419 4116 \r\n",
       "z\r\n",
       "M 2253 4666 \r\n",
       "L 3047 4666 \r\n",
       "L 3047 1625 \r\n",
       "L 3713 1625 \r\n",
       "L 3713 1100 \r\n",
       "L 3047 1100 \r\n",
       "L 3047 0 \r\n",
       "L 2419 0 \r\n",
       "L 2419 1100 \r\n",
       "L 313 1100 \r\n",
       "L 313 1709 \r\n",
       "L 2253 4666 \r\n",
       "z\r\n",
       "\" id=\"DejaVuSans-34\" transform=\"scale(0.015625)\"/>\r\n",
       "       </defs>\r\n",
       "       <use xlink:href=\"#DejaVuSans-34\"/>\r\n",
       "      </g>\r\n",
       "     </g>\r\n",
       "    </g>\r\n",
       "    <g id=\"xtick_6\">\r\n",
       "     <g id=\"line2d_11\">\r\n",
       "      <path clip-path=\"url(#p2ff6091419)\" d=\"M 237.011729 143.1 \r\n",
       "L 237.011729 7.2 \r\n",
       "\" style=\"fill:none;stroke:#b0b0b0;stroke-linecap:square;stroke-width:0.8;\"/>\r\n",
       "     </g>\r\n",
       "     <g id=\"line2d_12\">\r\n",
       "      <g>\r\n",
       "       <use style=\"stroke:#000000;stroke-width:0.8;\" x=\"237.011729\" xlink:href=\"#m3712ef7b7a\" y=\"143.1\"/>\r\n",
       "      </g>\r\n",
       "     </g>\r\n",
       "     <g id=\"text_6\">\r\n",
       "      <!-- 5 -->\r\n",
       "      <g transform=\"translate(233.830479 157.698438)scale(0.1 -0.1)\">\r\n",
       "       <defs>\r\n",
       "        <path d=\"M 691 4666 \r\n",
       "L 3169 4666 \r\n",
       "L 3169 4134 \r\n",
       "L 1269 4134 \r\n",
       "L 1269 2991 \r\n",
       "Q 1406 3038 1543 3061 \r\n",
       "Q 1681 3084 1819 3084 \r\n",
       "Q 2600 3084 3056 2656 \r\n",
       "Q 3513 2228 3513 1497 \r\n",
       "Q 3513 744 3044 326 \r\n",
       "Q 2575 -91 1722 -91 \r\n",
       "Q 1428 -91 1123 -41 \r\n",
       "Q 819 9 494 109 \r\n",
       "L 494 744 \r\n",
       "Q 775 591 1075 516 \r\n",
       "Q 1375 441 1709 441 \r\n",
       "Q 2250 441 2565 725 \r\n",
       "Q 2881 1009 2881 1497 \r\n",
       "Q 2881 1984 2565 2268 \r\n",
       "Q 2250 2553 1709 2553 \r\n",
       "Q 1456 2553 1204 2497 \r\n",
       "Q 953 2441 691 2322 \r\n",
       "L 691 4666 \r\n",
       "z\r\n",
       "\" id=\"DejaVuSans-35\" transform=\"scale(0.015625)\"/>\r\n",
       "       </defs>\r\n",
       "       <use xlink:href=\"#DejaVuSans-35\"/>\r\n",
       "      </g>\r\n",
       "     </g>\r\n",
       "    </g>\r\n",
       "    <g id=\"text_7\">\r\n",
       "     <!-- x -->\r\n",
       "     <g transform=\"translate(141.65625 171.376563)scale(0.1 -0.1)\">\r\n",
       "      <defs>\r\n",
       "       <path d=\"M 3513 3500 \r\n",
       "L 2247 1797 \r\n",
       "L 3578 0 \r\n",
       "L 2900 0 \r\n",
       "L 1881 1375 \r\n",
       "L 863 0 \r\n",
       "L 184 0 \r\n",
       "L 1544 1831 \r\n",
       "L 300 3500 \r\n",
       "L 978 3500 \r\n",
       "L 1906 2253 \r\n",
       "L 2834 3500 \r\n",
       "L 3513 3500 \r\n",
       "z\r\n",
       "\" id=\"DejaVuSans-78\" transform=\"scale(0.015625)\"/>\r\n",
       "      </defs>\r\n",
       "      <use xlink:href=\"#DejaVuSans-78\"/>\r\n",
       "     </g>\r\n",
       "    </g>\r\n",
       "   </g>\r\n",
       "   <g id=\"matplotlib.axis_2\">\r\n",
       "    <g id=\"ytick_1\">\r\n",
       "     <g id=\"line2d_13\">\r\n",
       "      <path clip-path=\"url(#p2ff6091419)\" d=\"M 46.965625 127.229593 \r\n",
       "L 242.265625 127.229593 \r\n",
       "\" style=\"fill:none;stroke:#b0b0b0;stroke-linecap:square;stroke-width:0.8;\"/>\r\n",
       "     </g>\r\n",
       "     <g id=\"line2d_14\">\r\n",
       "      <defs>\r\n",
       "       <path d=\"M 0 0 \r\n",
       "L -3.5 0 \r\n",
       "\" id=\"m463fce840e\" style=\"stroke:#000000;stroke-width:0.8;\"/>\r\n",
       "      </defs>\r\n",
       "      <g>\r\n",
       "       <use style=\"stroke:#000000;stroke-width:0.8;\" x=\"46.965625\" xlink:href=\"#m463fce840e\" y=\"127.229593\"/>\r\n",
       "      </g>\r\n",
       "     </g>\r\n",
       "     <g id=\"text_8\">\r\n",
       "      <!-- 0 -->\r\n",
       "      <g transform=\"translate(33.603125 131.028812)scale(0.1 -0.1)\">\r\n",
       "       <use xlink:href=\"#DejaVuSans-30\"/>\r\n",
       "      </g>\r\n",
       "     </g>\r\n",
       "    </g>\r\n",
       "    <g id=\"ytick_2\">\r\n",
       "     <g id=\"line2d_15\">\r\n",
       "      <path clip-path=\"url(#p2ff6091419)\" d=\"M 46.965625 102.994334 \r\n",
       "L 242.265625 102.994334 \r\n",
       "\" style=\"fill:none;stroke:#b0b0b0;stroke-linecap:square;stroke-width:0.8;\"/>\r\n",
       "     </g>\r\n",
       "     <g id=\"line2d_16\">\r\n",
       "      <g>\r\n",
       "       <use style=\"stroke:#000000;stroke-width:0.8;\" x=\"46.965625\" xlink:href=\"#m463fce840e\" y=\"102.994334\"/>\r\n",
       "      </g>\r\n",
       "     </g>\r\n",
       "     <g id=\"text_9\">\r\n",
       "      <!-- 25 -->\r\n",
       "      <g transform=\"translate(27.240625 106.793553)scale(0.1 -0.1)\">\r\n",
       "       <use xlink:href=\"#DejaVuSans-32\"/>\r\n",
       "       <use x=\"63.623047\" xlink:href=\"#DejaVuSans-35\"/>\r\n",
       "      </g>\r\n",
       "     </g>\r\n",
       "    </g>\r\n",
       "    <g id=\"ytick_3\">\r\n",
       "     <g id=\"line2d_17\">\r\n",
       "      <path clip-path=\"url(#p2ff6091419)\" d=\"M 46.965625 78.759075 \r\n",
       "L 242.265625 78.759075 \r\n",
       "\" style=\"fill:none;stroke:#b0b0b0;stroke-linecap:square;stroke-width:0.8;\"/>\r\n",
       "     </g>\r\n",
       "     <g id=\"line2d_18\">\r\n",
       "      <g>\r\n",
       "       <use style=\"stroke:#000000;stroke-width:0.8;\" x=\"46.965625\" xlink:href=\"#m463fce840e\" y=\"78.759075\"/>\r\n",
       "      </g>\r\n",
       "     </g>\r\n",
       "     <g id=\"text_10\">\r\n",
       "      <!-- 50 -->\r\n",
       "      <g transform=\"translate(27.240625 82.558294)scale(0.1 -0.1)\">\r\n",
       "       <use xlink:href=\"#DejaVuSans-35\"/>\r\n",
       "       <use x=\"63.623047\" xlink:href=\"#DejaVuSans-30\"/>\r\n",
       "      </g>\r\n",
       "     </g>\r\n",
       "    </g>\r\n",
       "    <g id=\"ytick_4\">\r\n",
       "     <g id=\"line2d_19\">\r\n",
       "      <path clip-path=\"url(#p2ff6091419)\" d=\"M 46.965625 54.523816 \r\n",
       "L 242.265625 54.523816 \r\n",
       "\" style=\"fill:none;stroke:#b0b0b0;stroke-linecap:square;stroke-width:0.8;\"/>\r\n",
       "     </g>\r\n",
       "     <g id=\"line2d_20\">\r\n",
       "      <g>\r\n",
       "       <use style=\"stroke:#000000;stroke-width:0.8;\" x=\"46.965625\" xlink:href=\"#m463fce840e\" y=\"54.523816\"/>\r\n",
       "      </g>\r\n",
       "     </g>\r\n",
       "     <g id=\"text_11\">\r\n",
       "      <!-- 75 -->\r\n",
       "      <g transform=\"translate(27.240625 58.323035)scale(0.1 -0.1)\">\r\n",
       "       <defs>\r\n",
       "        <path d=\"M 525 4666 \r\n",
       "L 3525 4666 \r\n",
       "L 3525 4397 \r\n",
       "L 1831 0 \r\n",
       "L 1172 0 \r\n",
       "L 2766 4134 \r\n",
       "L 525 4134 \r\n",
       "L 525 4666 \r\n",
       "z\r\n",
       "\" id=\"DejaVuSans-37\" transform=\"scale(0.015625)\"/>\r\n",
       "       </defs>\r\n",
       "       <use xlink:href=\"#DejaVuSans-37\"/>\r\n",
       "       <use x=\"63.623047\" xlink:href=\"#DejaVuSans-35\"/>\r\n",
       "      </g>\r\n",
       "     </g>\r\n",
       "    </g>\r\n",
       "    <g id=\"ytick_5\">\r\n",
       "     <g id=\"line2d_21\">\r\n",
       "      <path clip-path=\"url(#p2ff6091419)\" d=\"M 46.965625 30.288557 \r\n",
       "L 242.265625 30.288557 \r\n",
       "\" style=\"fill:none;stroke:#b0b0b0;stroke-linecap:square;stroke-width:0.8;\"/>\r\n",
       "     </g>\r\n",
       "     <g id=\"line2d_22\">\r\n",
       "      <g>\r\n",
       "       <use style=\"stroke:#000000;stroke-width:0.8;\" x=\"46.965625\" xlink:href=\"#m463fce840e\" y=\"30.288557\"/>\r\n",
       "      </g>\r\n",
       "     </g>\r\n",
       "     <g id=\"text_12\">\r\n",
       "      <!-- 100 -->\r\n",
       "      <g transform=\"translate(20.878125 34.087776)scale(0.1 -0.1)\">\r\n",
       "       <use xlink:href=\"#DejaVuSans-31\"/>\r\n",
       "       <use x=\"63.623047\" xlink:href=\"#DejaVuSans-30\"/>\r\n",
       "       <use x=\"127.246094\" xlink:href=\"#DejaVuSans-30\"/>\r\n",
       "      </g>\r\n",
       "     </g>\r\n",
       "    </g>\r\n",
       "    <g id=\"text_13\">\r\n",
       "     <!-- f(x) -->\r\n",
       "     <g transform=\"translate(14.798438 83.771094)rotate(-90)scale(0.1 -0.1)\">\r\n",
       "      <defs>\r\n",
       "       <path d=\"M 2375 4863 \r\n",
       "L 2375 4384 \r\n",
       "L 1825 4384 \r\n",
       "Q 1516 4384 1395 4259 \r\n",
       "Q 1275 4134 1275 3809 \r\n",
       "L 1275 3500 \r\n",
       "L 2222 3500 \r\n",
       "L 2222 3053 \r\n",
       "L 1275 3053 \r\n",
       "L 1275 0 \r\n",
       "L 697 0 \r\n",
       "L 697 3053 \r\n",
       "L 147 3053 \r\n",
       "L 147 3500 \r\n",
       "L 697 3500 \r\n",
       "L 697 3744 \r\n",
       "Q 697 4328 969 4595 \r\n",
       "Q 1241 4863 1831 4863 \r\n",
       "L 2375 4863 \r\n",
       "z\r\n",
       "\" id=\"DejaVuSans-66\" transform=\"scale(0.015625)\"/>\r\n",
       "       <path d=\"M 1984 4856 \r\n",
       "Q 1566 4138 1362 3434 \r\n",
       "Q 1159 2731 1159 2009 \r\n",
       "Q 1159 1288 1364 580 \r\n",
       "Q 1569 -128 1984 -844 \r\n",
       "L 1484 -844 \r\n",
       "Q 1016 -109 783 600 \r\n",
       "Q 550 1309 550 2009 \r\n",
       "Q 550 2706 781 3412 \r\n",
       "Q 1013 4119 1484 4856 \r\n",
       "L 1984 4856 \r\n",
       "z\r\n",
       "\" id=\"DejaVuSans-28\" transform=\"scale(0.015625)\"/>\r\n",
       "       <path d=\"M 513 4856 \r\n",
       "L 1013 4856 \r\n",
       "Q 1481 4119 1714 3412 \r\n",
       "Q 1947 2706 1947 2009 \r\n",
       "Q 1947 1309 1714 600 \r\n",
       "Q 1481 -109 1013 -844 \r\n",
       "L 513 -844 \r\n",
       "Q 928 -128 1133 580 \r\n",
       "Q 1338 1288 1338 2009 \r\n",
       "Q 1338 2731 1133 3434 \r\n",
       "Q 928 4138 513 4856 \r\n",
       "z\r\n",
       "\" id=\"DejaVuSans-29\" transform=\"scale(0.015625)\"/>\r\n",
       "      </defs>\r\n",
       "      <use xlink:href=\"#DejaVuSans-66\"/>\r\n",
       "      <use x=\"35.205078\" xlink:href=\"#DejaVuSans-28\"/>\r\n",
       "      <use x=\"74.21875\" xlink:href=\"#DejaVuSans-78\"/>\r\n",
       "      <use x=\"133.398438\" xlink:href=\"#DejaVuSans-29\"/>\r\n",
       "     </g>\r\n",
       "    </g>\r\n",
       "   </g>\r\n",
       "   <g id=\"line2d_23\">\r\n",
       "    <path clip-path=\"url(#p2ff6091419)\" d=\"M 59.466274 136.922727 \r\n",
       "L 63.089651 132.06889 \r\n",
       "L 66.713028 130.434787 \r\n",
       "L 70.336404 129.591077 \r\n",
       "L 73.959781 129.047238 \r\n",
       "L 77.583157 128.635884 \r\n",
       "L 81.206534 128.281957 \r\n",
       "L 84.829911 127.945018 \r\n",
       "L 88.453287 127.600016 \r\n",
       "L 92.076664 127.229593 \r\n",
       "L 95.700041 126.82059 \r\n",
       "L 99.323417 126.362294 \r\n",
       "L 102.946794 125.845499 \r\n",
       "L 106.57017 125.261967 \r\n",
       "L 110.193547 124.604107 \r\n",
       "L 113.816924 123.86477 \r\n",
       "L 117.4403 123.037121 \r\n",
       "L 121.063677 122.114553 \r\n",
       "L 124.687054 121.090623 \r\n",
       "L 128.31043 119.959015 \r\n",
       "L 131.933807 118.713508 \r\n",
       "L 135.557183 117.347953 \r\n",
       "L 139.18056 115.85626 \r\n",
       "L 142.803937 114.232385 \r\n",
       "L 146.427313 112.47032 \r\n",
       "L 150.05069 110.564087 \r\n",
       "L 153.674067 108.50773 \r\n",
       "L 157.297443 106.295315 \r\n",
       "L 160.92082 103.920923 \r\n",
       "L 164.544196 101.37865 \r\n",
       "L 168.167573 98.662602 \r\n",
       "L 171.79095 95.766895 \r\n",
       "L 175.414326 92.685654 \r\n",
       "L 179.037703 89.413009 \r\n",
       "L 182.66108 85.943098 \r\n",
       "L 186.284456 82.270064 \r\n",
       "L 189.907833 78.388053 \r\n",
       "L 193.531209 74.291216 \r\n",
       "L 197.154586 69.973707 \r\n",
       "L 200.777963 65.429683 \r\n",
       "L 204.401339 60.653303 \r\n",
       "L 208.024716 55.63873 \r\n",
       "L 211.648093 50.380128 \r\n",
       "L 215.271469 44.871662 \r\n",
       "L 218.894846 39.107499 \r\n",
       "L 222.518222 33.081808 \r\n",
       "L 226.141599 26.788759 \r\n",
       "L 229.764976 20.222523 \r\n",
       "L 233.388352 13.377273 \r\n",
       "\" style=\"fill:none;stroke:#1f77b4;stroke-linecap:square;stroke-width:1.5;\"/>\r\n",
       "   </g>\r\n",
       "   <g id=\"line2d_24\">\r\n",
       "    <path clip-path=\"url(#p2ff6091419)\" d=\"M 55.842898 131.107235 \r\n",
       "L 59.466274 130.71947 \r\n",
       "L 63.089651 130.331706 \r\n",
       "L 66.713028 129.943942 \r\n",
       "L 70.336404 129.556178 \r\n",
       "L 73.959781 129.168414 \r\n",
       "L 77.583157 128.78065 \r\n",
       "L 81.206534 128.392886 \r\n",
       "L 84.829911 128.005121 \r\n",
       "L 88.453287 127.617357 \r\n",
       "L 92.076664 127.229593 \r\n",
       "L 95.700041 126.841829 \r\n",
       "L 99.323417 126.454065 \r\n",
       "L 102.946794 126.066301 \r\n",
       "L 106.57017 125.678537 \r\n",
       "L 110.193547 125.290772 \r\n",
       "L 113.816924 124.903008 \r\n",
       "L 117.4403 124.515244 \r\n",
       "L 121.063677 124.12748 \r\n",
       "L 124.687054 123.739716 \r\n",
       "L 128.31043 123.351952 \r\n",
       "L 131.933807 122.964188 \r\n",
       "L 135.557183 122.576423 \r\n",
       "L 139.18056 122.188659 \r\n",
       "L 142.803937 121.800895 \r\n",
       "L 146.427313 121.413131 \r\n",
       "L 150.05069 121.025367 \r\n",
       "L 153.674067 120.637603 \r\n",
       "L 157.297443 120.249839 \r\n",
       "L 160.92082 119.862074 \r\n",
       "L 164.544196 119.47431 \r\n",
       "L 168.167573 119.086546 \r\n",
       "L 171.79095 118.698782 \r\n",
       "L 175.414326 118.311018 \r\n",
       "L 179.037703 117.923254 \r\n",
       "L 182.66108 117.53549 \r\n",
       "L 186.284456 117.147725 \r\n",
       "L 189.907833 116.759961 \r\n",
       "L 193.531209 116.372197 \r\n",
       "L 197.154586 115.984433 \r\n",
       "L 200.777963 115.596669 \r\n",
       "L 204.401339 115.208905 \r\n",
       "L 208.024716 114.821141 \r\n",
       "L 211.648093 114.433376 \r\n",
       "L 215.271469 114.045612 \r\n",
       "L 218.894846 113.657848 \r\n",
       "L 222.518222 113.270084 \r\n",
       "L 226.141599 112.88232 \r\n",
       "L 229.764976 112.494556 \r\n",
       "L 233.388352 112.106792 \r\n",
       "\" style=\"fill:none;stroke:#bf00bf;stroke-dasharray:5.55,2.4;stroke-dashoffset:0;stroke-width:1.5;\"/>\r\n",
       "   </g>\r\n",
       "   <g id=\"patch_3\">\r\n",
       "    <path d=\"M 46.965625 143.1 \r\n",
       "L 46.965625 7.2 \r\n",
       "\" style=\"fill:none;stroke:#000000;stroke-linecap:square;stroke-linejoin:miter;stroke-width:0.8;\"/>\r\n",
       "   </g>\r\n",
       "   <g id=\"patch_4\">\r\n",
       "    <path d=\"M 242.265625 143.1 \r\n",
       "L 242.265625 7.2 \r\n",
       "\" style=\"fill:none;stroke:#000000;stroke-linecap:square;stroke-linejoin:miter;stroke-width:0.8;\"/>\r\n",
       "   </g>\r\n",
       "   <g id=\"patch_5\">\r\n",
       "    <path d=\"M 46.965625 143.1 \r\n",
       "L 242.265625 143.1 \r\n",
       "\" style=\"fill:none;stroke:#000000;stroke-linecap:square;stroke-linejoin:miter;stroke-width:0.8;\"/>\r\n",
       "   </g>\r\n",
       "   <g id=\"patch_6\">\r\n",
       "    <path d=\"M 46.965625 7.2 \r\n",
       "L 242.265625 7.2 \r\n",
       "\" style=\"fill:none;stroke:#000000;stroke-linecap:square;stroke-linejoin:miter;stroke-width:0.8;\"/>\r\n",
       "   </g>\r\n",
       "   <g id=\"legend_1\">\r\n",
       "    <g id=\"patch_7\">\r\n",
       "     <path d=\"M 53.965625 44.55625 \r\n",
       "L 178.515625 44.55625 \r\n",
       "Q 180.515625 44.55625 180.515625 42.55625 \r\n",
       "L 180.515625 14.2 \r\n",
       "Q 180.515625 12.2 178.515625 12.2 \r\n",
       "L 53.965625 12.2 \r\n",
       "Q 51.965625 12.2 51.965625 14.2 \r\n",
       "L 51.965625 42.55625 \r\n",
       "Q 51.965625 44.55625 53.965625 44.55625 \r\n",
       "z\r\n",
       "\" style=\"fill:#ffffff;opacity:0.8;stroke:#cccccc;stroke-linejoin:miter;\"/>\r\n",
       "    </g>\r\n",
       "    <g id=\"line2d_25\">\r\n",
       "     <path d=\"M 55.965625 20.298437 \r\n",
       "L 75.965625 20.298437 \r\n",
       "\" style=\"fill:none;stroke:#1f77b4;stroke-linecap:square;stroke-width:1.5;\"/>\r\n",
       "    </g>\r\n",
       "    <g id=\"line2d_26\"/>\r\n",
       "    <g id=\"text_14\">\r\n",
       "     <!-- f(x) -->\r\n",
       "     <g transform=\"translate(83.965625 23.798437)scale(0.1 -0.1)\">\r\n",
       "      <use xlink:href=\"#DejaVuSans-66\"/>\r\n",
       "      <use x=\"35.205078\" xlink:href=\"#DejaVuSans-28\"/>\r\n",
       "      <use x=\"74.21875\" xlink:href=\"#DejaVuSans-78\"/>\r\n",
       "      <use x=\"133.398438\" xlink:href=\"#DejaVuSans-29\"/>\r\n",
       "     </g>\r\n",
       "    </g>\r\n",
       "    <g id=\"line2d_27\">\r\n",
       "     <path d=\"M 55.965625 34.976562 \r\n",
       "L 75.965625 34.976562 \r\n",
       "\" style=\"fill:none;stroke:#bf00bf;stroke-dasharray:5.55,2.4;stroke-dashoffset:0;stroke-width:1.5;\"/>\r\n",
       "    </g>\r\n",
       "    <g id=\"line2d_28\"/>\r\n",
       "    <g id=\"text_15\">\r\n",
       "     <!-- Tangent line (x=1) -->\r\n",
       "     <g transform=\"translate(83.965625 38.476562)scale(0.1 -0.1)\">\r\n",
       "      <defs>\r\n",
       "       <path d=\"M -19 4666 \r\n",
       "L 3928 4666 \r\n",
       "L 3928 4134 \r\n",
       "L 2272 4134 \r\n",
       "L 2272 0 \r\n",
       "L 1638 0 \r\n",
       "L 1638 4134 \r\n",
       "L -19 4134 \r\n",
       "L -19 4666 \r\n",
       "z\r\n",
       "\" id=\"DejaVuSans-54\" transform=\"scale(0.015625)\"/>\r\n",
       "       <path d=\"M 2194 1759 \r\n",
       "Q 1497 1759 1228 1600 \r\n",
       "Q 959 1441 959 1056 \r\n",
       "Q 959 750 1161 570 \r\n",
       "Q 1363 391 1709 391 \r\n",
       "Q 2188 391 2477 730 \r\n",
       "Q 2766 1069 2766 1631 \r\n",
       "L 2766 1759 \r\n",
       "L 2194 1759 \r\n",
       "z\r\n",
       "M 3341 1997 \r\n",
       "L 3341 0 \r\n",
       "L 2766 0 \r\n",
       "L 2766 531 \r\n",
       "Q 2569 213 2275 61 \r\n",
       "Q 1981 -91 1556 -91 \r\n",
       "Q 1019 -91 701 211 \r\n",
       "Q 384 513 384 1019 \r\n",
       "Q 384 1609 779 1909 \r\n",
       "Q 1175 2209 1959 2209 \r\n",
       "L 2766 2209 \r\n",
       "L 2766 2266 \r\n",
       "Q 2766 2663 2505 2880 \r\n",
       "Q 2244 3097 1772 3097 \r\n",
       "Q 1472 3097 1187 3025 \r\n",
       "Q 903 2953 641 2809 \r\n",
       "L 641 3341 \r\n",
       "Q 956 3463 1253 3523 \r\n",
       "Q 1550 3584 1831 3584 \r\n",
       "Q 2591 3584 2966 3190 \r\n",
       "Q 3341 2797 3341 1997 \r\n",
       "z\r\n",
       "\" id=\"DejaVuSans-61\" transform=\"scale(0.015625)\"/>\r\n",
       "       <path d=\"M 3513 2113 \r\n",
       "L 3513 0 \r\n",
       "L 2938 0 \r\n",
       "L 2938 2094 \r\n",
       "Q 2938 2591 2744 2837 \r\n",
       "Q 2550 3084 2163 3084 \r\n",
       "Q 1697 3084 1428 2787 \r\n",
       "Q 1159 2491 1159 1978 \r\n",
       "L 1159 0 \r\n",
       "L 581 0 \r\n",
       "L 581 3500 \r\n",
       "L 1159 3500 \r\n",
       "L 1159 2956 \r\n",
       "Q 1366 3272 1645 3428 \r\n",
       "Q 1925 3584 2291 3584 \r\n",
       "Q 2894 3584 3203 3211 \r\n",
       "Q 3513 2838 3513 2113 \r\n",
       "z\r\n",
       "\" id=\"DejaVuSans-6e\" transform=\"scale(0.015625)\"/>\r\n",
       "       <path d=\"M 2906 1791 \r\n",
       "Q 2906 2416 2648 2759 \r\n",
       "Q 2391 3103 1925 3103 \r\n",
       "Q 1463 3103 1205 2759 \r\n",
       "Q 947 2416 947 1791 \r\n",
       "Q 947 1169 1205 825 \r\n",
       "Q 1463 481 1925 481 \r\n",
       "Q 2391 481 2648 825 \r\n",
       "Q 2906 1169 2906 1791 \r\n",
       "z\r\n",
       "M 3481 434 \r\n",
       "Q 3481 -459 3084 -895 \r\n",
       "Q 2688 -1331 1869 -1331 \r\n",
       "Q 1566 -1331 1297 -1286 \r\n",
       "Q 1028 -1241 775 -1147 \r\n",
       "L 775 -588 \r\n",
       "Q 1028 -725 1275 -790 \r\n",
       "Q 1522 -856 1778 -856 \r\n",
       "Q 2344 -856 2625 -561 \r\n",
       "Q 2906 -266 2906 331 \r\n",
       "L 2906 616 \r\n",
       "Q 2728 306 2450 153 \r\n",
       "Q 2172 0 1784 0 \r\n",
       "Q 1141 0 747 490 \r\n",
       "Q 353 981 353 1791 \r\n",
       "Q 353 2603 747 3093 \r\n",
       "Q 1141 3584 1784 3584 \r\n",
       "Q 2172 3584 2450 3431 \r\n",
       "Q 2728 3278 2906 2969 \r\n",
       "L 2906 3500 \r\n",
       "L 3481 3500 \r\n",
       "L 3481 434 \r\n",
       "z\r\n",
       "\" id=\"DejaVuSans-67\" transform=\"scale(0.015625)\"/>\r\n",
       "       <path d=\"M 3597 1894 \r\n",
       "L 3597 1613 \r\n",
       "L 953 1613 \r\n",
       "Q 991 1019 1311 708 \r\n",
       "Q 1631 397 2203 397 \r\n",
       "Q 2534 397 2845 478 \r\n",
       "Q 3156 559 3463 722 \r\n",
       "L 3463 178 \r\n",
       "Q 3153 47 2828 -22 \r\n",
       "Q 2503 -91 2169 -91 \r\n",
       "Q 1331 -91 842 396 \r\n",
       "Q 353 884 353 1716 \r\n",
       "Q 353 2575 817 3079 \r\n",
       "Q 1281 3584 2069 3584 \r\n",
       "Q 2775 3584 3186 3129 \r\n",
       "Q 3597 2675 3597 1894 \r\n",
       "z\r\n",
       "M 3022 2063 \r\n",
       "Q 3016 2534 2758 2815 \r\n",
       "Q 2500 3097 2075 3097 \r\n",
       "Q 1594 3097 1305 2825 \r\n",
       "Q 1016 2553 972 2059 \r\n",
       "L 3022 2063 \r\n",
       "z\r\n",
       "\" id=\"DejaVuSans-65\" transform=\"scale(0.015625)\"/>\r\n",
       "       <path d=\"M 1172 4494 \r\n",
       "L 1172 3500 \r\n",
       "L 2356 3500 \r\n",
       "L 2356 3053 \r\n",
       "L 1172 3053 \r\n",
       "L 1172 1153 \r\n",
       "Q 1172 725 1289 603 \r\n",
       "Q 1406 481 1766 481 \r\n",
       "L 2356 481 \r\n",
       "L 2356 0 \r\n",
       "L 1766 0 \r\n",
       "Q 1100 0 847 248 \r\n",
       "Q 594 497 594 1153 \r\n",
       "L 594 3053 \r\n",
       "L 172 3053 \r\n",
       "L 172 3500 \r\n",
       "L 594 3500 \r\n",
       "L 594 4494 \r\n",
       "L 1172 4494 \r\n",
       "z\r\n",
       "\" id=\"DejaVuSans-74\" transform=\"scale(0.015625)\"/>\r\n",
       "       <path id=\"DejaVuSans-20\" transform=\"scale(0.015625)\"/>\r\n",
       "       <path d=\"M 603 4863 \r\n",
       "L 1178 4863 \r\n",
       "L 1178 0 \r\n",
       "L 603 0 \r\n",
       "L 603 4863 \r\n",
       "z\r\n",
       "\" id=\"DejaVuSans-6c\" transform=\"scale(0.015625)\"/>\r\n",
       "       <path d=\"M 603 3500 \r\n",
       "L 1178 3500 \r\n",
       "L 1178 0 \r\n",
       "L 603 0 \r\n",
       "L 603 3500 \r\n",
       "z\r\n",
       "M 603 4863 \r\n",
       "L 1178 4863 \r\n",
       "L 1178 4134 \r\n",
       "L 603 4134 \r\n",
       "L 603 4863 \r\n",
       "z\r\n",
       "\" id=\"DejaVuSans-69\" transform=\"scale(0.015625)\"/>\r\n",
       "       <path d=\"M 678 2906 \r\n",
       "L 4684 2906 \r\n",
       "L 4684 2381 \r\n",
       "L 678 2381 \r\n",
       "L 678 2906 \r\n",
       "z\r\n",
       "M 678 1631 \r\n",
       "L 4684 1631 \r\n",
       "L 4684 1100 \r\n",
       "L 678 1100 \r\n",
       "L 678 1631 \r\n",
       "z\r\n",
       "\" id=\"DejaVuSans-3d\" transform=\"scale(0.015625)\"/>\r\n",
       "      </defs>\r\n",
       "      <use xlink:href=\"#DejaVuSans-54\"/>\r\n",
       "      <use x=\"44.583984\" xlink:href=\"#DejaVuSans-61\"/>\r\n",
       "      <use x=\"105.863281\" xlink:href=\"#DejaVuSans-6e\"/>\r\n",
       "      <use x=\"169.242188\" xlink:href=\"#DejaVuSans-67\"/>\r\n",
       "      <use x=\"232.71875\" xlink:href=\"#DejaVuSans-65\"/>\r\n",
       "      <use x=\"294.242188\" xlink:href=\"#DejaVuSans-6e\"/>\r\n",
       "      <use x=\"357.621094\" xlink:href=\"#DejaVuSans-74\"/>\r\n",
       "      <use x=\"396.830078\" xlink:href=\"#DejaVuSans-20\"/>\r\n",
       "      <use x=\"428.617188\" xlink:href=\"#DejaVuSans-6c\"/>\r\n",
       "      <use x=\"456.400391\" xlink:href=\"#DejaVuSans-69\"/>\r\n",
       "      <use x=\"484.183594\" xlink:href=\"#DejaVuSans-6e\"/>\r\n",
       "      <use x=\"547.5625\" xlink:href=\"#DejaVuSans-65\"/>\r\n",
       "      <use x=\"609.085938\" xlink:href=\"#DejaVuSans-20\"/>\r\n",
       "      <use x=\"640.873047\" xlink:href=\"#DejaVuSans-28\"/>\r\n",
       "      <use x=\"679.886719\" xlink:href=\"#DejaVuSans-78\"/>\r\n",
       "      <use x=\"739.066406\" xlink:href=\"#DejaVuSans-3d\"/>\r\n",
       "      <use x=\"822.855469\" xlink:href=\"#DejaVuSans-31\"/>\r\n",
       "      <use x=\"886.478516\" xlink:href=\"#DejaVuSans-29\"/>\r\n",
       "     </g>\r\n",
       "    </g>\r\n",
       "   </g>\r\n",
       "  </g>\r\n",
       " </g>\r\n",
       " <defs>\r\n",
       "  <clipPath id=\"p2ff6091419\">\r\n",
       "   <rect height=\"135.9\" width=\"195.3\" x=\"46.965625\" y=\"7.2\"/>\r\n",
       "  </clipPath>\r\n",
       " </defs>\r\n",
       "</svg>\r\n"
      ],
      "text/plain": [
       "<Figure size 252x180 with 1 Axes>"
      ]
     },
     "metadata": {
      "needs_background": "light"
     },
     "output_type": "display_data"
    }
   ],
   "source": [
    "%%time\n",
    "# 1 Plot the function  y=f(x)=x3−1x  and its tangent line when  x=1\n",
    "def f2(x):\n",
    "    return x ** 3 - 1/x\n",
    "x = np.arange(0, 5, 0.1)\n",
    "plot(x, [f2(x), 4*x-4], 'x', 'f(x)', legend=['f(x)', 'Tangent line (x=1)'])"
   ]
  },
  {
   "cell_type": "code",
   "execution_count": 81,
   "metadata": {
    "colab": {
     "base_uri": "https://localhost:8080/"
    },
    "id": "WFkuXzxCwXsa",
    "outputId": "988e5c1e-828f-400e-d10a-5e07baed234a"
   },
   "outputs": [
    {
     "name": "stdout",
     "output_type": "stream",
     "text": [
      "Wall time: 0 ns\n"
     ]
    }
   ],
   "source": [
    "%%time\n",
    "# 2 Find the gradient of the function  f(x)=3x21+5ex2 .\n",
    "# grad = (6x, 5ex2)"
   ]
  },
  {
   "cell_type": "code",
   "execution_count": 82,
   "metadata": {
    "id": "aG7XPBULwXpV"
   },
   "outputs": [
    {
     "name": "stdout",
     "output_type": "stream",
     "text": [
      "Wall time: 0 ns\n"
     ]
    }
   ],
   "source": [
    "%%time\n",
    "# 3 What is the gradient of the function  f(x)=∥x∥2 ?\n",
    "# 1"
   ]
  },
  {
   "cell_type": "code",
   "execution_count": 83,
   "metadata": {
    "id": "kmZM0p5PwXm7"
   },
   "outputs": [
    {
     "name": "stdout",
     "output_type": "stream",
     "text": [
      "Wall time: 0 ns\n"
     ]
    }
   ],
   "source": [
    "%%time\n",
    "# 4 Can you write out the chain rule for the case where  u=f(x,y,z)  and  x=x(a,b) ,  y=y(a,b) , and  z=z(a,b) ?\n",
    "# du/da = du/dx * dx/da + du/dy * dy/da + du/dz * dz/da"
   ]
  },
  {
   "cell_type": "markdown",
   "metadata": {
    "id": "_TaE9MAPu8ZR"
   },
   "source": [
    "# 2.5 Automatic Differentiation"
   ]
  },
  {
   "cell_type": "code",
   "execution_count": 84,
   "metadata": {
    "colab": {
     "base_uri": "https://localhost:8080/"
    },
    "id": "B2CNQLDAwXjS",
    "outputId": "5c4c010f-0d83-4404-9b51-2b893e6fa1d8"
   },
   "outputs": [
    {
     "name": "stdout",
     "output_type": "stream",
     "text": [
      "tensor([0., 1., 2., 3.])\n",
      "Wall time: 996 µs\n"
     ]
    }
   ],
   "source": [
    "%%time\n",
    "import torch\n",
    "\n",
    "x = torch.arange(4.0)\n",
    "print(x)"
   ]
  },
  {
   "cell_type": "code",
   "execution_count": 85,
   "metadata": {
    "colab": {
     "base_uri": "https://localhost:8080/"
    },
    "id": "ZJqnFvuOwXhF",
    "outputId": "74ae70b5-2801-44ea-b2f4-cd243bfd97d9"
   },
   "outputs": [
    {
     "name": "stdout",
     "output_type": "stream",
     "text": [
      "None\n",
      "Wall time: 0 ns\n"
     ]
    }
   ],
   "source": [
    "%%time\n",
    "x.requires_grad_(True)\n",
    "print(x.grad)"
   ]
  },
  {
   "cell_type": "code",
   "execution_count": 86,
   "metadata": {
    "colab": {
     "base_uri": "https://localhost:8080/"
    },
    "id": "4iGpxultwXec",
    "outputId": "617a99ee-39c3-453f-b003-ed28c3da09f7"
   },
   "outputs": [
    {
     "name": "stdout",
     "output_type": "stream",
     "text": [
      "tensor(28., grad_fn=<MulBackward0>)\n",
      "Wall time: 142 ms\n"
     ]
    }
   ],
   "source": [
    "%%time\n",
    "y = 2 * torch.dot(x, x)\n",
    "print(y)"
   ]
  },
  {
   "cell_type": "code",
   "execution_count": 87,
   "metadata": {
    "colab": {
     "base_uri": "https://localhost:8080/"
    },
    "id": "I4E3I-CSwXbm",
    "outputId": "bc02efb5-4d99-4e67-e0c9-705fff33d732"
   },
   "outputs": [
    {
     "name": "stdout",
     "output_type": "stream",
     "text": [
      "tensor([ 0.,  4.,  8., 12.])\n",
      "Wall time: 377 ms\n"
     ]
    }
   ],
   "source": [
    "%%time\n",
    "y.backward()\n",
    "print(x.grad)"
   ]
  },
  {
   "cell_type": "code",
   "execution_count": 88,
   "metadata": {
    "colab": {
     "base_uri": "https://localhost:8080/"
    },
    "id": "6CEjw8DXwXYy",
    "outputId": "aff7c154-5c3e-4b32-b24f-74aa5380671c"
   },
   "outputs": [
    {
     "name": "stdout",
     "output_type": "stream",
     "text": [
      "Wall time: 0 ns\n"
     ]
    },
    {
     "data": {
      "text/plain": [
       "tensor([True, True, True, True])"
      ]
     },
     "execution_count": 88,
     "metadata": {},
     "output_type": "execute_result"
    }
   ],
   "source": [
    "%%time\n",
    "x.grad == 4 * x"
   ]
  },
  {
   "cell_type": "code",
   "execution_count": 89,
   "metadata": {
    "colab": {
     "base_uri": "https://localhost:8080/"
    },
    "id": "NSd3iwyVwXU_",
    "outputId": "b43cf90b-3f3a-483d-be89-62c492621beb"
   },
   "outputs": [
    {
     "name": "stdout",
     "output_type": "stream",
     "text": [
      "tensor([1., 1., 1., 1.])\n",
      "Wall time: 1e+03 µs\n"
     ]
    }
   ],
   "source": [
    "%%time\n",
    "x.grad.zero_()\n",
    "y = x.sum()\n",
    "y.backward()\n",
    "print(x.grad)"
   ]
  },
  {
   "cell_type": "code",
   "execution_count": 90,
   "metadata": {
    "colab": {
     "base_uri": "https://localhost:8080/"
    },
    "id": "EvylKxbFwXTA",
    "outputId": "cb59b317-82f0-4600-c22b-423dacd1c3c8"
   },
   "outputs": [
    {
     "name": "stdout",
     "output_type": "stream",
     "text": [
      "Wall time: 0 ns\n"
     ]
    },
    {
     "data": {
      "text/plain": [
       "tensor([1., 1., 1., 1.])"
      ]
     },
     "execution_count": 90,
     "metadata": {},
     "output_type": "execute_result"
    }
   ],
   "source": [
    "%%time\n",
    "torch.ones(len(x))"
   ]
  },
  {
   "cell_type": "code",
   "execution_count": 91,
   "metadata": {
    "colab": {
     "base_uri": "https://localhost:8080/"
    },
    "id": "f6siJPRLwXQm",
    "outputId": "cf56757a-09aa-4fd7-f39b-07a36c484526"
   },
   "outputs": [
    {
     "name": "stdout",
     "output_type": "stream",
     "text": [
      "tensor([0., 2., 4., 6.])\n",
      "Wall time: 998 µs\n"
     ]
    }
   ],
   "source": [
    "%%time\n",
    "x.grad.zero_()\n",
    "y = x * x\n",
    "# y.backward(torch.ones(len(x))) equivalent to the below\n",
    "y.sum().backward()\n",
    "print(x.grad)"
   ]
  },
  {
   "cell_type": "code",
   "execution_count": 92,
   "metadata": {
    "colab": {
     "base_uri": "https://localhost:8080/"
    },
    "id": "FxSMBRRYwXOQ",
    "outputId": "3df14170-ebc1-4a7e-a0af-93ab39e55af9"
   },
   "outputs": [
    {
     "name": "stdout",
     "output_type": "stream",
     "text": [
      "tensor([True, True, True, True])\n",
      "Wall time: 999 µs\n"
     ]
    }
   ],
   "source": [
    "%%time\n",
    "x.grad.zero_()\n",
    "y = x * x\n",
    "u = y.detach()\n",
    "z = u * x\n",
    "\n",
    "z.sum().backward()\n",
    "print(x.grad == u)"
   ]
  },
  {
   "cell_type": "code",
   "execution_count": 93,
   "metadata": {
    "colab": {
     "base_uri": "https://localhost:8080/"
    },
    "id": "oANLM3yuwXLx",
    "outputId": "4f63545b-d408-4bd3-ed3d-b998458fda34"
   },
   "outputs": [
    {
     "name": "stdout",
     "output_type": "stream",
     "text": [
      "tensor([True, True, True, True])\n",
      "Wall time: 1.96 ms\n"
     ]
    }
   ],
   "source": [
    "%%time\n",
    "x.grad.zero_()\n",
    "y.sum().backward()\n",
    "print(x.grad == 2 * x)"
   ]
  },
  {
   "cell_type": "code",
   "execution_count": 94,
   "metadata": {
    "colab": {
     "base_uri": "https://localhost:8080/"
    },
    "id": "sY4A-RyCwXIW",
    "outputId": "5f3db588-112c-42e6-dec6-bc224fc389d1"
   },
   "outputs": [
    {
     "name": "stdout",
     "output_type": "stream",
     "text": [
      "Wall time: 0 ns\n"
     ]
    }
   ],
   "source": [
    "%%time\n",
    "def f(a):\n",
    "    b = a * 2\n",
    "    while b.norm() < 1000:\n",
    "        b = b * 2\n",
    "    if b.sum() > 0:\n",
    "        c = b\n",
    "    else:\n",
    "        c = 100 * b\n",
    "    return c"
   ]
  },
  {
   "cell_type": "code",
   "execution_count": 95,
   "metadata": {
    "colab": {
     "base_uri": "https://localhost:8080/"
    },
    "id": "2ZUQM0LXwXDg",
    "outputId": "47e35279-e74a-4cbb-eea6-f30fc75f1d3b"
   },
   "outputs": [
    {
     "name": "stdout",
     "output_type": "stream",
     "text": [
      "Wall time: 2 ms\n"
     ]
    }
   ],
   "source": [
    "%%time\n",
    "a = torch.randn(size=(), requires_grad=True)\n",
    "d = f(a)\n",
    "d.backward()"
   ]
  },
  {
   "cell_type": "code",
   "execution_count": 96,
   "metadata": {
    "colab": {
     "base_uri": "https://localhost:8080/"
    },
    "id": "1T3NSvlEvIql",
    "outputId": "6f75c430-22bc-4862-c67a-8241b4acaa6b"
   },
   "outputs": [
    {
     "name": "stdout",
     "output_type": "stream",
     "text": [
      "Wall time: 0 ns\n"
     ]
    },
    {
     "data": {
      "text/plain": [
       "tensor(True)"
      ]
     },
     "execution_count": 96,
     "metadata": {},
     "output_type": "execute_result"
    }
   ],
   "source": [
    "%%time\n",
    "a.grad == d / a"
   ]
  },
  {
   "cell_type": "markdown",
   "metadata": {
    "id": "mbzsgaWVLRO2"
   },
   "source": [
    "# 2.6. Probability"
   ]
  },
  {
   "cell_type": "code",
   "execution_count": 97,
   "metadata": {
    "colab": {
     "base_uri": "https://localhost:8080/"
    },
    "id": "J1rRrCC0vIkf",
    "outputId": "1a1468c0-77d7-4ede-d762-abc07e7a8092",
    "scrolled": true
   },
   "outputs": [
    {
     "name": "stdout",
     "output_type": "stream",
     "text": [
      "Wall time: 2 ms\n"
     ]
    }
   ],
   "source": [
    "%%time\n",
    "%matplotlib inline\n",
    "import torch\n",
    "from torch.distributions import multinomial\n",
    "from matplotlib import pyplot as plt \n"
   ]
  },
  {
   "cell_type": "code",
   "execution_count": 98,
   "metadata": {
    "colab": {
     "base_uri": "https://localhost:8080/"
    },
    "id": "iRJ0lsPKvIh-",
    "outputId": "c66b9706-c623-403c-b894-564c7b32f03c"
   },
   "outputs": [
    {
     "name": "stdout",
     "output_type": "stream",
     "text": [
      "tensor([0., 0., 0., 0., 1., 0.])\n",
      "Wall time: 312 ms\n"
     ]
    }
   ],
   "source": [
    "%%time\n",
    "fair_probs = torch.ones([6]) / 6\n",
    "print(multinomial.Multinomial(1, fair_probs).sample())"
   ]
  },
  {
   "cell_type": "code",
   "execution_count": 99,
   "metadata": {
    "colab": {
     "base_uri": "https://localhost:8080/"
    },
    "id": "6LvxKO63vIfI",
    "outputId": "1763db8e-7f71-4f37-c3ca-69feeb29ae9b"
   },
   "outputs": [
    {
     "name": "stdout",
     "output_type": "stream",
     "text": [
      "Wall time: 998 µs\n"
     ]
    },
    {
     "data": {
      "text/plain": [
       "tensor([0., 2., 2., 1., 3., 2.])"
      ]
     },
     "execution_count": 99,
     "metadata": {},
     "output_type": "execute_result"
    }
   ],
   "source": [
    "%%time\n",
    "multinomial.Multinomial(10, fair_probs).sample()"
   ]
  },
  {
   "cell_type": "code",
   "execution_count": 100,
   "metadata": {
    "colab": {
     "base_uri": "https://localhost:8080/"
    },
    "id": "WWd3DU8evIc8",
    "outputId": "37a73dcc-8b06-4788-fb0d-40e7b0dc01d1"
   },
   "outputs": [
    {
     "name": "stdout",
     "output_type": "stream",
     "text": [
      "tensor([0.1790, 0.1750, 0.1570, 0.1770, 0.1590, 0.1530])\n",
      "Wall time: 1 ms\n"
     ]
    }
   ],
   "source": [
    "%%time\n",
    "counts = multinomial.Multinomial(1000, fair_probs).sample()\n",
    "print(counts / 1000)"
   ]
  },
  {
   "cell_type": "code",
   "execution_count": 133,
   "metadata": {
    "colab": {
     "base_uri": "https://localhost:8080/",
     "height": 441
    },
    "id": "teLFpg7mvIaC",
    "outputId": "e2a09b1f-658d-4fba-f96a-7fe7f35c8a2a"
   },
   "outputs": [
    {
     "name": "stdout",
     "output_type": "stream",
     "text": [
      "Wall time: 47 ms\n"
     ]
    },
    {
     "data": {
      "text/plain": [
       "<matplotlib.legend.Legend at 0x21c3566f610>"
      ]
     },
     "execution_count": 133,
     "metadata": {},
     "output_type": "execute_result"
    },
    {
     "data": {
      "image/svg+xml": [
       "<?xml version=\"1.0\" encoding=\"utf-8\" standalone=\"no\"?>\r\n",
       "<!DOCTYPE svg PUBLIC \"-//W3C//DTD SVG 1.1//EN\"\r\n",
       "  \"http://www.w3.org/Graphics/SVG/1.1/DTD/svg11.dtd\">\r\n",
       "<svg height=\"289.37625pt\" version=\"1.1\" viewBox=\"0 0 392.14375 289.37625\" width=\"392.14375pt\" xmlns=\"http://www.w3.org/2000/svg\" xmlns:xlink=\"http://www.w3.org/1999/xlink\">\r\n",
       " <metadata>\r\n",
       "  <rdf:RDF xmlns:cc=\"http://creativecommons.org/ns#\" xmlns:dc=\"http://purl.org/dc/elements/1.1/\" xmlns:rdf=\"http://www.w3.org/1999/02/22-rdf-syntax-ns#\">\r\n",
       "   <cc:Work>\r\n",
       "    <dc:type rdf:resource=\"http://purl.org/dc/dcmitype/StillImage\"/>\r\n",
       "    <dc:date>2021-09-09T13:25:38.065410</dc:date>\r\n",
       "    <dc:format>image/svg+xml</dc:format>\r\n",
       "    <dc:creator>\r\n",
       "     <cc:Agent>\r\n",
       "      <dc:title>Matplotlib v3.4.3, https://matplotlib.org/</dc:title>\r\n",
       "     </cc:Agent>\r\n",
       "    </dc:creator>\r\n",
       "   </cc:Work>\r\n",
       "  </rdf:RDF>\r\n",
       " </metadata>\r\n",
       " <defs>\r\n",
       "  <style type=\"text/css\">*{stroke-linecap:butt;stroke-linejoin:round;}</style>\r\n",
       " </defs>\r\n",
       " <g id=\"figure_1\">\r\n",
       "  <g id=\"patch_1\">\r\n",
       "   <path d=\"M 0 289.37625 \r\n",
       "L 392.14375 289.37625 \r\n",
       "L 392.14375 0 \r\n",
       "L 0 0 \r\n",
       "z\r\n",
       "\" style=\"fill:none;\"/>\r\n",
       "  </g>\r\n",
       "  <g id=\"axes_1\">\r\n",
       "   <g id=\"patch_2\">\r\n",
       "    <path d=\"M 50.14375 251.82 \r\n",
       "L 384.94375 251.82 \r\n",
       "L 384.94375 7.2 \r\n",
       "L 50.14375 7.2 \r\n",
       "z\r\n",
       "\" style=\"fill:#ffffff;\"/>\r\n",
       "   </g>\r\n",
       "   <g id=\"matplotlib.axis_1\">\r\n",
       "    <g id=\"xtick_1\">\r\n",
       "     <g id=\"line2d_1\">\r\n",
       "      <defs>\r\n",
       "       <path d=\"M 0 0 \r\n",
       "L 0 3.5 \r\n",
       "\" id=\"m5ef8b6a1da\" style=\"stroke:#000000;stroke-width:0.8;\"/>\r\n",
       "      </defs>\r\n",
       "      <g>\r\n",
       "       <use style=\"stroke:#000000;stroke-width:0.8;\" x=\"65.361932\" xlink:href=\"#m5ef8b6a1da\" y=\"251.82\"/>\r\n",
       "      </g>\r\n",
       "     </g>\r\n",
       "     <g id=\"text_1\">\r\n",
       "      <!-- 0 -->\r\n",
       "      <g transform=\"translate(62.180682 266.418437)scale(0.1 -0.1)\">\r\n",
       "       <defs>\r\n",
       "        <path d=\"M 2034 4250 \r\n",
       "Q 1547 4250 1301 3770 \r\n",
       "Q 1056 3291 1056 2328 \r\n",
       "Q 1056 1369 1301 889 \r\n",
       "Q 1547 409 2034 409 \r\n",
       "Q 2525 409 2770 889 \r\n",
       "Q 3016 1369 3016 2328 \r\n",
       "Q 3016 3291 2770 3770 \r\n",
       "Q 2525 4250 2034 4250 \r\n",
       "z\r\n",
       "M 2034 4750 \r\n",
       "Q 2819 4750 3233 4129 \r\n",
       "Q 3647 3509 3647 2328 \r\n",
       "Q 3647 1150 3233 529 \r\n",
       "Q 2819 -91 2034 -91 \r\n",
       "Q 1250 -91 836 529 \r\n",
       "Q 422 1150 422 2328 \r\n",
       "Q 422 3509 836 4129 \r\n",
       "Q 1250 4750 2034 4750 \r\n",
       "z\r\n",
       "\" id=\"DejaVuSans-30\" transform=\"scale(0.015625)\"/>\r\n",
       "       </defs>\r\n",
       "       <use xlink:href=\"#DejaVuSans-30\"/>\r\n",
       "      </g>\r\n",
       "     </g>\r\n",
       "    </g>\r\n",
       "    <g id=\"xtick_2\">\r\n",
       "     <g id=\"line2d_2\">\r\n",
       "      <g>\r\n",
       "       <use style=\"stroke:#000000;stroke-width:0.8;\" x=\"126.356649\" xlink:href=\"#m5ef8b6a1da\" y=\"251.82\"/>\r\n",
       "      </g>\r\n",
       "     </g>\r\n",
       "     <g id=\"text_2\">\r\n",
       "      <!-- 100 -->\r\n",
       "      <g transform=\"translate(116.812899 266.418437)scale(0.1 -0.1)\">\r\n",
       "       <defs>\r\n",
       "        <path d=\"M 794 531 \r\n",
       "L 1825 531 \r\n",
       "L 1825 4091 \r\n",
       "L 703 3866 \r\n",
       "L 703 4441 \r\n",
       "L 1819 4666 \r\n",
       "L 2450 4666 \r\n",
       "L 2450 531 \r\n",
       "L 3481 531 \r\n",
       "L 3481 0 \r\n",
       "L 794 0 \r\n",
       "L 794 531 \r\n",
       "z\r\n",
       "\" id=\"DejaVuSans-31\" transform=\"scale(0.015625)\"/>\r\n",
       "       </defs>\r\n",
       "       <use xlink:href=\"#DejaVuSans-31\"/>\r\n",
       "       <use x=\"63.623047\" xlink:href=\"#DejaVuSans-30\"/>\r\n",
       "       <use x=\"127.246094\" xlink:href=\"#DejaVuSans-30\"/>\r\n",
       "      </g>\r\n",
       "     </g>\r\n",
       "    </g>\r\n",
       "    <g id=\"xtick_3\">\r\n",
       "     <g id=\"line2d_3\">\r\n",
       "      <g>\r\n",
       "       <use style=\"stroke:#000000;stroke-width:0.8;\" x=\"187.351365\" xlink:href=\"#m5ef8b6a1da\" y=\"251.82\"/>\r\n",
       "      </g>\r\n",
       "     </g>\r\n",
       "     <g id=\"text_3\">\r\n",
       "      <!-- 200 -->\r\n",
       "      <g transform=\"translate(177.807615 266.418437)scale(0.1 -0.1)\">\r\n",
       "       <defs>\r\n",
       "        <path d=\"M 1228 531 \r\n",
       "L 3431 531 \r\n",
       "L 3431 0 \r\n",
       "L 469 0 \r\n",
       "L 469 531 \r\n",
       "Q 828 903 1448 1529 \r\n",
       "Q 2069 2156 2228 2338 \r\n",
       "Q 2531 2678 2651 2914 \r\n",
       "Q 2772 3150 2772 3378 \r\n",
       "Q 2772 3750 2511 3984 \r\n",
       "Q 2250 4219 1831 4219 \r\n",
       "Q 1534 4219 1204 4116 \r\n",
       "Q 875 4013 500 3803 \r\n",
       "L 500 4441 \r\n",
       "Q 881 4594 1212 4672 \r\n",
       "Q 1544 4750 1819 4750 \r\n",
       "Q 2544 4750 2975 4387 \r\n",
       "Q 3406 4025 3406 3419 \r\n",
       "Q 3406 3131 3298 2873 \r\n",
       "Q 3191 2616 2906 2266 \r\n",
       "Q 2828 2175 2409 1742 \r\n",
       "Q 1991 1309 1228 531 \r\n",
       "z\r\n",
       "\" id=\"DejaVuSans-32\" transform=\"scale(0.015625)\"/>\r\n",
       "       </defs>\r\n",
       "       <use xlink:href=\"#DejaVuSans-32\"/>\r\n",
       "       <use x=\"63.623047\" xlink:href=\"#DejaVuSans-30\"/>\r\n",
       "       <use x=\"127.246094\" xlink:href=\"#DejaVuSans-30\"/>\r\n",
       "      </g>\r\n",
       "     </g>\r\n",
       "    </g>\r\n",
       "    <g id=\"xtick_4\">\r\n",
       "     <g id=\"line2d_4\">\r\n",
       "      <g>\r\n",
       "       <use style=\"stroke:#000000;stroke-width:0.8;\" x=\"248.346082\" xlink:href=\"#m5ef8b6a1da\" y=\"251.82\"/>\r\n",
       "      </g>\r\n",
       "     </g>\r\n",
       "     <g id=\"text_4\">\r\n",
       "      <!-- 300 -->\r\n",
       "      <g transform=\"translate(238.802332 266.418437)scale(0.1 -0.1)\">\r\n",
       "       <defs>\r\n",
       "        <path d=\"M 2597 2516 \r\n",
       "Q 3050 2419 3304 2112 \r\n",
       "Q 3559 1806 3559 1356 \r\n",
       "Q 3559 666 3084 287 \r\n",
       "Q 2609 -91 1734 -91 \r\n",
       "Q 1441 -91 1130 -33 \r\n",
       "Q 819 25 488 141 \r\n",
       "L 488 750 \r\n",
       "Q 750 597 1062 519 \r\n",
       "Q 1375 441 1716 441 \r\n",
       "Q 2309 441 2620 675 \r\n",
       "Q 2931 909 2931 1356 \r\n",
       "Q 2931 1769 2642 2001 \r\n",
       "Q 2353 2234 1838 2234 \r\n",
       "L 1294 2234 \r\n",
       "L 1294 2753 \r\n",
       "L 1863 2753 \r\n",
       "Q 2328 2753 2575 2939 \r\n",
       "Q 2822 3125 2822 3475 \r\n",
       "Q 2822 3834 2567 4026 \r\n",
       "Q 2313 4219 1838 4219 \r\n",
       "Q 1578 4219 1281 4162 \r\n",
       "Q 984 4106 628 3988 \r\n",
       "L 628 4550 \r\n",
       "Q 988 4650 1302 4700 \r\n",
       "Q 1616 4750 1894 4750 \r\n",
       "Q 2613 4750 3031 4423 \r\n",
       "Q 3450 4097 3450 3541 \r\n",
       "Q 3450 3153 3228 2886 \r\n",
       "Q 3006 2619 2597 2516 \r\n",
       "z\r\n",
       "\" id=\"DejaVuSans-33\" transform=\"scale(0.015625)\"/>\r\n",
       "       </defs>\r\n",
       "       <use xlink:href=\"#DejaVuSans-33\"/>\r\n",
       "       <use x=\"63.623047\" xlink:href=\"#DejaVuSans-30\"/>\r\n",
       "       <use x=\"127.246094\" xlink:href=\"#DejaVuSans-30\"/>\r\n",
       "      </g>\r\n",
       "     </g>\r\n",
       "    </g>\r\n",
       "    <g id=\"xtick_5\">\r\n",
       "     <g id=\"line2d_5\">\r\n",
       "      <g>\r\n",
       "       <use style=\"stroke:#000000;stroke-width:0.8;\" x=\"309.340799\" xlink:href=\"#m5ef8b6a1da\" y=\"251.82\"/>\r\n",
       "      </g>\r\n",
       "     </g>\r\n",
       "     <g id=\"text_5\">\r\n",
       "      <!-- 400 -->\r\n",
       "      <g transform=\"translate(299.797049 266.418437)scale(0.1 -0.1)\">\r\n",
       "       <defs>\r\n",
       "        <path d=\"M 2419 4116 \r\n",
       "L 825 1625 \r\n",
       "L 2419 1625 \r\n",
       "L 2419 4116 \r\n",
       "z\r\n",
       "M 2253 4666 \r\n",
       "L 3047 4666 \r\n",
       "L 3047 1625 \r\n",
       "L 3713 1625 \r\n",
       "L 3713 1100 \r\n",
       "L 3047 1100 \r\n",
       "L 3047 0 \r\n",
       "L 2419 0 \r\n",
       "L 2419 1100 \r\n",
       "L 313 1100 \r\n",
       "L 313 1709 \r\n",
       "L 2253 4666 \r\n",
       "z\r\n",
       "\" id=\"DejaVuSans-34\" transform=\"scale(0.015625)\"/>\r\n",
       "       </defs>\r\n",
       "       <use xlink:href=\"#DejaVuSans-34\"/>\r\n",
       "       <use x=\"63.623047\" xlink:href=\"#DejaVuSans-30\"/>\r\n",
       "       <use x=\"127.246094\" xlink:href=\"#DejaVuSans-30\"/>\r\n",
       "      </g>\r\n",
       "     </g>\r\n",
       "    </g>\r\n",
       "    <g id=\"xtick_6\">\r\n",
       "     <g id=\"line2d_6\">\r\n",
       "      <g>\r\n",
       "       <use style=\"stroke:#000000;stroke-width:0.8;\" x=\"370.335515\" xlink:href=\"#m5ef8b6a1da\" y=\"251.82\"/>\r\n",
       "      </g>\r\n",
       "     </g>\r\n",
       "     <g id=\"text_6\">\r\n",
       "      <!-- 500 -->\r\n",
       "      <g transform=\"translate(360.791765 266.418437)scale(0.1 -0.1)\">\r\n",
       "       <defs>\r\n",
       "        <path d=\"M 691 4666 \r\n",
       "L 3169 4666 \r\n",
       "L 3169 4134 \r\n",
       "L 1269 4134 \r\n",
       "L 1269 2991 \r\n",
       "Q 1406 3038 1543 3061 \r\n",
       "Q 1681 3084 1819 3084 \r\n",
       "Q 2600 3084 3056 2656 \r\n",
       "Q 3513 2228 3513 1497 \r\n",
       "Q 3513 744 3044 326 \r\n",
       "Q 2575 -91 1722 -91 \r\n",
       "Q 1428 -91 1123 -41 \r\n",
       "Q 819 9 494 109 \r\n",
       "L 494 744 \r\n",
       "Q 775 591 1075 516 \r\n",
       "Q 1375 441 1709 441 \r\n",
       "Q 2250 441 2565 725 \r\n",
       "Q 2881 1009 2881 1497 \r\n",
       "Q 2881 1984 2565 2268 \r\n",
       "Q 2250 2553 1709 2553 \r\n",
       "Q 1456 2553 1204 2497 \r\n",
       "Q 953 2441 691 2322 \r\n",
       "L 691 4666 \r\n",
       "z\r\n",
       "\" id=\"DejaVuSans-35\" transform=\"scale(0.015625)\"/>\r\n",
       "       </defs>\r\n",
       "       <use xlink:href=\"#DejaVuSans-35\"/>\r\n",
       "       <use x=\"63.623047\" xlink:href=\"#DejaVuSans-30\"/>\r\n",
       "       <use x=\"127.246094\" xlink:href=\"#DejaVuSans-30\"/>\r\n",
       "      </g>\r\n",
       "     </g>\r\n",
       "    </g>\r\n",
       "    <g id=\"text_7\">\r\n",
       "     <!-- Groups of experiments -->\r\n",
       "     <g transform=\"translate(160.397656 280.096562)scale(0.1 -0.1)\">\r\n",
       "      <defs>\r\n",
       "       <path d=\"M 3809 666 \r\n",
       "L 3809 1919 \r\n",
       "L 2778 1919 \r\n",
       "L 2778 2438 \r\n",
       "L 4434 2438 \r\n",
       "L 4434 434 \r\n",
       "Q 4069 175 3628 42 \r\n",
       "Q 3188 -91 2688 -91 \r\n",
       "Q 1594 -91 976 548 \r\n",
       "Q 359 1188 359 2328 \r\n",
       "Q 359 3472 976 4111 \r\n",
       "Q 1594 4750 2688 4750 \r\n",
       "Q 3144 4750 3555 4637 \r\n",
       "Q 3966 4525 4313 4306 \r\n",
       "L 4313 3634 \r\n",
       "Q 3963 3931 3569 4081 \r\n",
       "Q 3175 4231 2741 4231 \r\n",
       "Q 1884 4231 1454 3753 \r\n",
       "Q 1025 3275 1025 2328 \r\n",
       "Q 1025 1384 1454 906 \r\n",
       "Q 1884 428 2741 428 \r\n",
       "Q 3075 428 3337 486 \r\n",
       "Q 3600 544 3809 666 \r\n",
       "z\r\n",
       "\" id=\"DejaVuSans-47\" transform=\"scale(0.015625)\"/>\r\n",
       "       <path d=\"M 2631 2963 \r\n",
       "Q 2534 3019 2420 3045 \r\n",
       "Q 2306 3072 2169 3072 \r\n",
       "Q 1681 3072 1420 2755 \r\n",
       "Q 1159 2438 1159 1844 \r\n",
       "L 1159 0 \r\n",
       "L 581 0 \r\n",
       "L 581 3500 \r\n",
       "L 1159 3500 \r\n",
       "L 1159 2956 \r\n",
       "Q 1341 3275 1631 3429 \r\n",
       "Q 1922 3584 2338 3584 \r\n",
       "Q 2397 3584 2469 3576 \r\n",
       "Q 2541 3569 2628 3553 \r\n",
       "L 2631 2963 \r\n",
       "z\r\n",
       "\" id=\"DejaVuSans-72\" transform=\"scale(0.015625)\"/>\r\n",
       "       <path d=\"M 1959 3097 \r\n",
       "Q 1497 3097 1228 2736 \r\n",
       "Q 959 2375 959 1747 \r\n",
       "Q 959 1119 1226 758 \r\n",
       "Q 1494 397 1959 397 \r\n",
       "Q 2419 397 2687 759 \r\n",
       "Q 2956 1122 2956 1747 \r\n",
       "Q 2956 2369 2687 2733 \r\n",
       "Q 2419 3097 1959 3097 \r\n",
       "z\r\n",
       "M 1959 3584 \r\n",
       "Q 2709 3584 3137 3096 \r\n",
       "Q 3566 2609 3566 1747 \r\n",
       "Q 3566 888 3137 398 \r\n",
       "Q 2709 -91 1959 -91 \r\n",
       "Q 1206 -91 779 398 \r\n",
       "Q 353 888 353 1747 \r\n",
       "Q 353 2609 779 3096 \r\n",
       "Q 1206 3584 1959 3584 \r\n",
       "z\r\n",
       "\" id=\"DejaVuSans-6f\" transform=\"scale(0.015625)\"/>\r\n",
       "       <path d=\"M 544 1381 \r\n",
       "L 544 3500 \r\n",
       "L 1119 3500 \r\n",
       "L 1119 1403 \r\n",
       "Q 1119 906 1312 657 \r\n",
       "Q 1506 409 1894 409 \r\n",
       "Q 2359 409 2629 706 \r\n",
       "Q 2900 1003 2900 1516 \r\n",
       "L 2900 3500 \r\n",
       "L 3475 3500 \r\n",
       "L 3475 0 \r\n",
       "L 2900 0 \r\n",
       "L 2900 538 \r\n",
       "Q 2691 219 2414 64 \r\n",
       "Q 2138 -91 1772 -91 \r\n",
       "Q 1169 -91 856 284 \r\n",
       "Q 544 659 544 1381 \r\n",
       "z\r\n",
       "M 1991 3584 \r\n",
       "L 1991 3584 \r\n",
       "z\r\n",
       "\" id=\"DejaVuSans-75\" transform=\"scale(0.015625)\"/>\r\n",
       "       <path d=\"M 1159 525 \r\n",
       "L 1159 -1331 \r\n",
       "L 581 -1331 \r\n",
       "L 581 3500 \r\n",
       "L 1159 3500 \r\n",
       "L 1159 2969 \r\n",
       "Q 1341 3281 1617 3432 \r\n",
       "Q 1894 3584 2278 3584 \r\n",
       "Q 2916 3584 3314 3078 \r\n",
       "Q 3713 2572 3713 1747 \r\n",
       "Q 3713 922 3314 415 \r\n",
       "Q 2916 -91 2278 -91 \r\n",
       "Q 1894 -91 1617 61 \r\n",
       "Q 1341 213 1159 525 \r\n",
       "z\r\n",
       "M 3116 1747 \r\n",
       "Q 3116 2381 2855 2742 \r\n",
       "Q 2594 3103 2138 3103 \r\n",
       "Q 1681 3103 1420 2742 \r\n",
       "Q 1159 2381 1159 1747 \r\n",
       "Q 1159 1113 1420 752 \r\n",
       "Q 1681 391 2138 391 \r\n",
       "Q 2594 391 2855 752 \r\n",
       "Q 3116 1113 3116 1747 \r\n",
       "z\r\n",
       "\" id=\"DejaVuSans-70\" transform=\"scale(0.015625)\"/>\r\n",
       "       <path d=\"M 2834 3397 \r\n",
       "L 2834 2853 \r\n",
       "Q 2591 2978 2328 3040 \r\n",
       "Q 2066 3103 1784 3103 \r\n",
       "Q 1356 3103 1142 2972 \r\n",
       "Q 928 2841 928 2578 \r\n",
       "Q 928 2378 1081 2264 \r\n",
       "Q 1234 2150 1697 2047 \r\n",
       "L 1894 2003 \r\n",
       "Q 2506 1872 2764 1633 \r\n",
       "Q 3022 1394 3022 966 \r\n",
       "Q 3022 478 2636 193 \r\n",
       "Q 2250 -91 1575 -91 \r\n",
       "Q 1294 -91 989 -36 \r\n",
       "Q 684 19 347 128 \r\n",
       "L 347 722 \r\n",
       "Q 666 556 975 473 \r\n",
       "Q 1284 391 1588 391 \r\n",
       "Q 1994 391 2212 530 \r\n",
       "Q 2431 669 2431 922 \r\n",
       "Q 2431 1156 2273 1281 \r\n",
       "Q 2116 1406 1581 1522 \r\n",
       "L 1381 1569 \r\n",
       "Q 847 1681 609 1914 \r\n",
       "Q 372 2147 372 2553 \r\n",
       "Q 372 3047 722 3315 \r\n",
       "Q 1072 3584 1716 3584 \r\n",
       "Q 2034 3584 2315 3537 \r\n",
       "Q 2597 3491 2834 3397 \r\n",
       "z\r\n",
       "\" id=\"DejaVuSans-73\" transform=\"scale(0.015625)\"/>\r\n",
       "       <path id=\"DejaVuSans-20\" transform=\"scale(0.015625)\"/>\r\n",
       "       <path d=\"M 2375 4863 \r\n",
       "L 2375 4384 \r\n",
       "L 1825 4384 \r\n",
       "Q 1516 4384 1395 4259 \r\n",
       "Q 1275 4134 1275 3809 \r\n",
       "L 1275 3500 \r\n",
       "L 2222 3500 \r\n",
       "L 2222 3053 \r\n",
       "L 1275 3053 \r\n",
       "L 1275 0 \r\n",
       "L 697 0 \r\n",
       "L 697 3053 \r\n",
       "L 147 3053 \r\n",
       "L 147 3500 \r\n",
       "L 697 3500 \r\n",
       "L 697 3744 \r\n",
       "Q 697 4328 969 4595 \r\n",
       "Q 1241 4863 1831 4863 \r\n",
       "L 2375 4863 \r\n",
       "z\r\n",
       "\" id=\"DejaVuSans-66\" transform=\"scale(0.015625)\"/>\r\n",
       "       <path d=\"M 3597 1894 \r\n",
       "L 3597 1613 \r\n",
       "L 953 1613 \r\n",
       "Q 991 1019 1311 708 \r\n",
       "Q 1631 397 2203 397 \r\n",
       "Q 2534 397 2845 478 \r\n",
       "Q 3156 559 3463 722 \r\n",
       "L 3463 178 \r\n",
       "Q 3153 47 2828 -22 \r\n",
       "Q 2503 -91 2169 -91 \r\n",
       "Q 1331 -91 842 396 \r\n",
       "Q 353 884 353 1716 \r\n",
       "Q 353 2575 817 3079 \r\n",
       "Q 1281 3584 2069 3584 \r\n",
       "Q 2775 3584 3186 3129 \r\n",
       "Q 3597 2675 3597 1894 \r\n",
       "z\r\n",
       "M 3022 2063 \r\n",
       "Q 3016 2534 2758 2815 \r\n",
       "Q 2500 3097 2075 3097 \r\n",
       "Q 1594 3097 1305 2825 \r\n",
       "Q 1016 2553 972 2059 \r\n",
       "L 3022 2063 \r\n",
       "z\r\n",
       "\" id=\"DejaVuSans-65\" transform=\"scale(0.015625)\"/>\r\n",
       "       <path d=\"M 3513 3500 \r\n",
       "L 2247 1797 \r\n",
       "L 3578 0 \r\n",
       "L 2900 0 \r\n",
       "L 1881 1375 \r\n",
       "L 863 0 \r\n",
       "L 184 0 \r\n",
       "L 1544 1831 \r\n",
       "L 300 3500 \r\n",
       "L 978 3500 \r\n",
       "L 1906 2253 \r\n",
       "L 2834 3500 \r\n",
       "L 3513 3500 \r\n",
       "z\r\n",
       "\" id=\"DejaVuSans-78\" transform=\"scale(0.015625)\"/>\r\n",
       "       <path d=\"M 603 3500 \r\n",
       "L 1178 3500 \r\n",
       "L 1178 0 \r\n",
       "L 603 0 \r\n",
       "L 603 3500 \r\n",
       "z\r\n",
       "M 603 4863 \r\n",
       "L 1178 4863 \r\n",
       "L 1178 4134 \r\n",
       "L 603 4134 \r\n",
       "L 603 4863 \r\n",
       "z\r\n",
       "\" id=\"DejaVuSans-69\" transform=\"scale(0.015625)\"/>\r\n",
       "       <path d=\"M 3328 2828 \r\n",
       "Q 3544 3216 3844 3400 \r\n",
       "Q 4144 3584 4550 3584 \r\n",
       "Q 5097 3584 5394 3201 \r\n",
       "Q 5691 2819 5691 2113 \r\n",
       "L 5691 0 \r\n",
       "L 5113 0 \r\n",
       "L 5113 2094 \r\n",
       "Q 5113 2597 4934 2840 \r\n",
       "Q 4756 3084 4391 3084 \r\n",
       "Q 3944 3084 3684 2787 \r\n",
       "Q 3425 2491 3425 1978 \r\n",
       "L 3425 0 \r\n",
       "L 2847 0 \r\n",
       "L 2847 2094 \r\n",
       "Q 2847 2600 2669 2842 \r\n",
       "Q 2491 3084 2119 3084 \r\n",
       "Q 1678 3084 1418 2786 \r\n",
       "Q 1159 2488 1159 1978 \r\n",
       "L 1159 0 \r\n",
       "L 581 0 \r\n",
       "L 581 3500 \r\n",
       "L 1159 3500 \r\n",
       "L 1159 2956 \r\n",
       "Q 1356 3278 1631 3431 \r\n",
       "Q 1906 3584 2284 3584 \r\n",
       "Q 2666 3584 2933 3390 \r\n",
       "Q 3200 3197 3328 2828 \r\n",
       "z\r\n",
       "\" id=\"DejaVuSans-6d\" transform=\"scale(0.015625)\"/>\r\n",
       "       <path d=\"M 3513 2113 \r\n",
       "L 3513 0 \r\n",
       "L 2938 0 \r\n",
       "L 2938 2094 \r\n",
       "Q 2938 2591 2744 2837 \r\n",
       "Q 2550 3084 2163 3084 \r\n",
       "Q 1697 3084 1428 2787 \r\n",
       "Q 1159 2491 1159 1978 \r\n",
       "L 1159 0 \r\n",
       "L 581 0 \r\n",
       "L 581 3500 \r\n",
       "L 1159 3500 \r\n",
       "L 1159 2956 \r\n",
       "Q 1366 3272 1645 3428 \r\n",
       "Q 1925 3584 2291 3584 \r\n",
       "Q 2894 3584 3203 3211 \r\n",
       "Q 3513 2838 3513 2113 \r\n",
       "z\r\n",
       "\" id=\"DejaVuSans-6e\" transform=\"scale(0.015625)\"/>\r\n",
       "       <path d=\"M 1172 4494 \r\n",
       "L 1172 3500 \r\n",
       "L 2356 3500 \r\n",
       "L 2356 3053 \r\n",
       "L 1172 3053 \r\n",
       "L 1172 1153 \r\n",
       "Q 1172 725 1289 603 \r\n",
       "Q 1406 481 1766 481 \r\n",
       "L 2356 481 \r\n",
       "L 2356 0 \r\n",
       "L 1766 0 \r\n",
       "Q 1100 0 847 248 \r\n",
       "Q 594 497 594 1153 \r\n",
       "L 594 3053 \r\n",
       "L 172 3053 \r\n",
       "L 172 3500 \r\n",
       "L 594 3500 \r\n",
       "L 594 4494 \r\n",
       "L 1172 4494 \r\n",
       "z\r\n",
       "\" id=\"DejaVuSans-74\" transform=\"scale(0.015625)\"/>\r\n",
       "      </defs>\r\n",
       "      <use xlink:href=\"#DejaVuSans-47\"/>\r\n",
       "      <use x=\"77.490234\" xlink:href=\"#DejaVuSans-72\"/>\r\n",
       "      <use x=\"116.353516\" xlink:href=\"#DejaVuSans-6f\"/>\r\n",
       "      <use x=\"177.535156\" xlink:href=\"#DejaVuSans-75\"/>\r\n",
       "      <use x=\"240.914062\" xlink:href=\"#DejaVuSans-70\"/>\r\n",
       "      <use x=\"304.390625\" xlink:href=\"#DejaVuSans-73\"/>\r\n",
       "      <use x=\"356.490234\" xlink:href=\"#DejaVuSans-20\"/>\r\n",
       "      <use x=\"388.277344\" xlink:href=\"#DejaVuSans-6f\"/>\r\n",
       "      <use x=\"449.458984\" xlink:href=\"#DejaVuSans-66\"/>\r\n",
       "      <use x=\"484.664062\" xlink:href=\"#DejaVuSans-20\"/>\r\n",
       "      <use x=\"516.451172\" xlink:href=\"#DejaVuSans-65\"/>\r\n",
       "      <use x=\"576.224609\" xlink:href=\"#DejaVuSans-78\"/>\r\n",
       "      <use x=\"635.404297\" xlink:href=\"#DejaVuSans-70\"/>\r\n",
       "      <use x=\"698.880859\" xlink:href=\"#DejaVuSans-65\"/>\r\n",
       "      <use x=\"760.404297\" xlink:href=\"#DejaVuSans-72\"/>\r\n",
       "      <use x=\"801.517578\" xlink:href=\"#DejaVuSans-69\"/>\r\n",
       "      <use x=\"829.300781\" xlink:href=\"#DejaVuSans-6d\"/>\r\n",
       "      <use x=\"926.712891\" xlink:href=\"#DejaVuSans-65\"/>\r\n",
       "      <use x=\"988.236328\" xlink:href=\"#DejaVuSans-6e\"/>\r\n",
       "      <use x=\"1051.615234\" xlink:href=\"#DejaVuSans-74\"/>\r\n",
       "      <use x=\"1090.824219\" xlink:href=\"#DejaVuSans-73\"/>\r\n",
       "     </g>\r\n",
       "    </g>\r\n",
       "   </g>\r\n",
       "   <g id=\"matplotlib.axis_2\">\r\n",
       "    <g id=\"ytick_1\">\r\n",
       "     <g id=\"line2d_7\">\r\n",
       "      <defs>\r\n",
       "       <path d=\"M 0 0 \r\n",
       "L -3.5 0 \r\n",
       "\" id=\"m515b35c739\" style=\"stroke:#000000;stroke-width:0.8;\"/>\r\n",
       "      </defs>\r\n",
       "      <g>\r\n",
       "       <use style=\"stroke:#000000;stroke-width:0.8;\" x=\"50.14375\" xlink:href=\"#m515b35c739\" y=\"240.700909\"/>\r\n",
       "      </g>\r\n",
       "     </g>\r\n",
       "     <g id=\"text_8\">\r\n",
       "      <!-- 0.00 -->\r\n",
       "      <g transform=\"translate(20.878125 244.500128)scale(0.1 -0.1)\">\r\n",
       "       <defs>\r\n",
       "        <path d=\"M 684 794 \r\n",
       "L 1344 794 \r\n",
       "L 1344 0 \r\n",
       "L 684 0 \r\n",
       "L 684 794 \r\n",
       "z\r\n",
       "\" id=\"DejaVuSans-2e\" transform=\"scale(0.015625)\"/>\r\n",
       "       </defs>\r\n",
       "       <use xlink:href=\"#DejaVuSans-30\"/>\r\n",
       "       <use x=\"63.623047\" xlink:href=\"#DejaVuSans-2e\"/>\r\n",
       "       <use x=\"95.410156\" xlink:href=\"#DejaVuSans-30\"/>\r\n",
       "       <use x=\"159.033203\" xlink:href=\"#DejaVuSans-30\"/>\r\n",
       "      </g>\r\n",
       "     </g>\r\n",
       "    </g>\r\n",
       "    <g id=\"ytick_2\">\r\n",
       "     <g id=\"line2d_8\">\r\n",
       "      <g>\r\n",
       "       <use style=\"stroke:#000000;stroke-width:0.8;\" x=\"50.14375\" xlink:href=\"#m515b35c739\" y=\"212.903182\"/>\r\n",
       "      </g>\r\n",
       "     </g>\r\n",
       "     <g id=\"text_9\">\r\n",
       "      <!-- 0.05 -->\r\n",
       "      <g transform=\"translate(20.878125 216.702401)scale(0.1 -0.1)\">\r\n",
       "       <use xlink:href=\"#DejaVuSans-30\"/>\r\n",
       "       <use x=\"63.623047\" xlink:href=\"#DejaVuSans-2e\"/>\r\n",
       "       <use x=\"95.410156\" xlink:href=\"#DejaVuSans-30\"/>\r\n",
       "       <use x=\"159.033203\" xlink:href=\"#DejaVuSans-35\"/>\r\n",
       "      </g>\r\n",
       "     </g>\r\n",
       "    </g>\r\n",
       "    <g id=\"ytick_3\">\r\n",
       "     <g id=\"line2d_9\">\r\n",
       "      <g>\r\n",
       "       <use style=\"stroke:#000000;stroke-width:0.8;\" x=\"50.14375\" xlink:href=\"#m515b35c739\" y=\"185.105455\"/>\r\n",
       "      </g>\r\n",
       "     </g>\r\n",
       "     <g id=\"text_10\">\r\n",
       "      <!-- 0.10 -->\r\n",
       "      <g transform=\"translate(20.878125 188.904674)scale(0.1 -0.1)\">\r\n",
       "       <use xlink:href=\"#DejaVuSans-30\"/>\r\n",
       "       <use x=\"63.623047\" xlink:href=\"#DejaVuSans-2e\"/>\r\n",
       "       <use x=\"95.410156\" xlink:href=\"#DejaVuSans-31\"/>\r\n",
       "       <use x=\"159.033203\" xlink:href=\"#DejaVuSans-30\"/>\r\n",
       "      </g>\r\n",
       "     </g>\r\n",
       "    </g>\r\n",
       "    <g id=\"ytick_4\">\r\n",
       "     <g id=\"line2d_10\">\r\n",
       "      <g>\r\n",
       "       <use style=\"stroke:#000000;stroke-width:0.8;\" x=\"50.14375\" xlink:href=\"#m515b35c739\" y=\"157.307729\"/>\r\n",
       "      </g>\r\n",
       "     </g>\r\n",
       "     <g id=\"text_11\">\r\n",
       "      <!-- 0.15 -->\r\n",
       "      <g transform=\"translate(20.878125 161.106947)scale(0.1 -0.1)\">\r\n",
       "       <use xlink:href=\"#DejaVuSans-30\"/>\r\n",
       "       <use x=\"63.623047\" xlink:href=\"#DejaVuSans-2e\"/>\r\n",
       "       <use x=\"95.410156\" xlink:href=\"#DejaVuSans-31\"/>\r\n",
       "       <use x=\"159.033203\" xlink:href=\"#DejaVuSans-35\"/>\r\n",
       "      </g>\r\n",
       "     </g>\r\n",
       "    </g>\r\n",
       "    <g id=\"ytick_5\">\r\n",
       "     <g id=\"line2d_11\">\r\n",
       "      <g>\r\n",
       "       <use style=\"stroke:#000000;stroke-width:0.8;\" x=\"50.14375\" xlink:href=\"#m515b35c739\" y=\"129.510002\"/>\r\n",
       "      </g>\r\n",
       "     </g>\r\n",
       "     <g id=\"text_12\">\r\n",
       "      <!-- 0.20 -->\r\n",
       "      <g transform=\"translate(20.878125 133.30922)scale(0.1 -0.1)\">\r\n",
       "       <use xlink:href=\"#DejaVuSans-30\"/>\r\n",
       "       <use x=\"63.623047\" xlink:href=\"#DejaVuSans-2e\"/>\r\n",
       "       <use x=\"95.410156\" xlink:href=\"#DejaVuSans-32\"/>\r\n",
       "       <use x=\"159.033203\" xlink:href=\"#DejaVuSans-30\"/>\r\n",
       "      </g>\r\n",
       "     </g>\r\n",
       "    </g>\r\n",
       "    <g id=\"ytick_6\">\r\n",
       "     <g id=\"line2d_12\">\r\n",
       "      <g>\r\n",
       "       <use style=\"stroke:#000000;stroke-width:0.8;\" x=\"50.14375\" xlink:href=\"#m515b35c739\" y=\"101.712275\"/>\r\n",
       "      </g>\r\n",
       "     </g>\r\n",
       "     <g id=\"text_13\">\r\n",
       "      <!-- 0.25 -->\r\n",
       "      <g transform=\"translate(20.878125 105.511494)scale(0.1 -0.1)\">\r\n",
       "       <use xlink:href=\"#DejaVuSans-30\"/>\r\n",
       "       <use x=\"63.623047\" xlink:href=\"#DejaVuSans-2e\"/>\r\n",
       "       <use x=\"95.410156\" xlink:href=\"#DejaVuSans-32\"/>\r\n",
       "       <use x=\"159.033203\" xlink:href=\"#DejaVuSans-35\"/>\r\n",
       "      </g>\r\n",
       "     </g>\r\n",
       "    </g>\r\n",
       "    <g id=\"ytick_7\">\r\n",
       "     <g id=\"line2d_13\">\r\n",
       "      <g>\r\n",
       "       <use style=\"stroke:#000000;stroke-width:0.8;\" x=\"50.14375\" xlink:href=\"#m515b35c739\" y=\"73.914548\"/>\r\n",
       "      </g>\r\n",
       "     </g>\r\n",
       "     <g id=\"text_14\">\r\n",
       "      <!-- 0.30 -->\r\n",
       "      <g transform=\"translate(20.878125 77.713767)scale(0.1 -0.1)\">\r\n",
       "       <use xlink:href=\"#DejaVuSans-30\"/>\r\n",
       "       <use x=\"63.623047\" xlink:href=\"#DejaVuSans-2e\"/>\r\n",
       "       <use x=\"95.410156\" xlink:href=\"#DejaVuSans-33\"/>\r\n",
       "       <use x=\"159.033203\" xlink:href=\"#DejaVuSans-30\"/>\r\n",
       "      </g>\r\n",
       "     </g>\r\n",
       "    </g>\r\n",
       "    <g id=\"ytick_8\">\r\n",
       "     <g id=\"line2d_14\">\r\n",
       "      <g>\r\n",
       "       <use style=\"stroke:#000000;stroke-width:0.8;\" x=\"50.14375\" xlink:href=\"#m515b35c739\" y=\"46.116821\"/>\r\n",
       "      </g>\r\n",
       "     </g>\r\n",
       "     <g id=\"text_15\">\r\n",
       "      <!-- 0.35 -->\r\n",
       "      <g transform=\"translate(20.878125 49.91604)scale(0.1 -0.1)\">\r\n",
       "       <use xlink:href=\"#DejaVuSans-30\"/>\r\n",
       "       <use x=\"63.623047\" xlink:href=\"#DejaVuSans-2e\"/>\r\n",
       "       <use x=\"95.410156\" xlink:href=\"#DejaVuSans-33\"/>\r\n",
       "       <use x=\"159.033203\" xlink:href=\"#DejaVuSans-35\"/>\r\n",
       "      </g>\r\n",
       "     </g>\r\n",
       "    </g>\r\n",
       "    <g id=\"ytick_9\">\r\n",
       "     <g id=\"line2d_15\">\r\n",
       "      <g>\r\n",
       "       <use style=\"stroke:#000000;stroke-width:0.8;\" x=\"50.14375\" xlink:href=\"#m515b35c739\" y=\"18.319094\"/>\r\n",
       "      </g>\r\n",
       "     </g>\r\n",
       "     <g id=\"text_16\">\r\n",
       "      <!-- 0.40 -->\r\n",
       "      <g transform=\"translate(20.878125 22.118313)scale(0.1 -0.1)\">\r\n",
       "       <use xlink:href=\"#DejaVuSans-30\"/>\r\n",
       "       <use x=\"63.623047\" xlink:href=\"#DejaVuSans-2e\"/>\r\n",
       "       <use x=\"95.410156\" xlink:href=\"#DejaVuSans-34\"/>\r\n",
       "       <use x=\"159.033203\" xlink:href=\"#DejaVuSans-30\"/>\r\n",
       "      </g>\r\n",
       "     </g>\r\n",
       "    </g>\r\n",
       "    <g id=\"text_17\">\r\n",
       "     <!-- Estimated probability -->\r\n",
       "     <g transform=\"translate(14.798438 183.033437)rotate(-90)scale(0.1 -0.1)\">\r\n",
       "      <defs>\r\n",
       "       <path d=\"M 628 4666 \r\n",
       "L 3578 4666 \r\n",
       "L 3578 4134 \r\n",
       "L 1259 4134 \r\n",
       "L 1259 2753 \r\n",
       "L 3481 2753 \r\n",
       "L 3481 2222 \r\n",
       "L 1259 2222 \r\n",
       "L 1259 531 \r\n",
       "L 3634 531 \r\n",
       "L 3634 0 \r\n",
       "L 628 0 \r\n",
       "L 628 4666 \r\n",
       "z\r\n",
       "\" id=\"DejaVuSans-45\" transform=\"scale(0.015625)\"/>\r\n",
       "       <path d=\"M 2194 1759 \r\n",
       "Q 1497 1759 1228 1600 \r\n",
       "Q 959 1441 959 1056 \r\n",
       "Q 959 750 1161 570 \r\n",
       "Q 1363 391 1709 391 \r\n",
       "Q 2188 391 2477 730 \r\n",
       "Q 2766 1069 2766 1631 \r\n",
       "L 2766 1759 \r\n",
       "L 2194 1759 \r\n",
       "z\r\n",
       "M 3341 1997 \r\n",
       "L 3341 0 \r\n",
       "L 2766 0 \r\n",
       "L 2766 531 \r\n",
       "Q 2569 213 2275 61 \r\n",
       "Q 1981 -91 1556 -91 \r\n",
       "Q 1019 -91 701 211 \r\n",
       "Q 384 513 384 1019 \r\n",
       "Q 384 1609 779 1909 \r\n",
       "Q 1175 2209 1959 2209 \r\n",
       "L 2766 2209 \r\n",
       "L 2766 2266 \r\n",
       "Q 2766 2663 2505 2880 \r\n",
       "Q 2244 3097 1772 3097 \r\n",
       "Q 1472 3097 1187 3025 \r\n",
       "Q 903 2953 641 2809 \r\n",
       "L 641 3341 \r\n",
       "Q 956 3463 1253 3523 \r\n",
       "Q 1550 3584 1831 3584 \r\n",
       "Q 2591 3584 2966 3190 \r\n",
       "Q 3341 2797 3341 1997 \r\n",
       "z\r\n",
       "\" id=\"DejaVuSans-61\" transform=\"scale(0.015625)\"/>\r\n",
       "       <path d=\"M 2906 2969 \r\n",
       "L 2906 4863 \r\n",
       "L 3481 4863 \r\n",
       "L 3481 0 \r\n",
       "L 2906 0 \r\n",
       "L 2906 525 \r\n",
       "Q 2725 213 2448 61 \r\n",
       "Q 2172 -91 1784 -91 \r\n",
       "Q 1150 -91 751 415 \r\n",
       "Q 353 922 353 1747 \r\n",
       "Q 353 2572 751 3078 \r\n",
       "Q 1150 3584 1784 3584 \r\n",
       "Q 2172 3584 2448 3432 \r\n",
       "Q 2725 3281 2906 2969 \r\n",
       "z\r\n",
       "M 947 1747 \r\n",
       "Q 947 1113 1208 752 \r\n",
       "Q 1469 391 1925 391 \r\n",
       "Q 2381 391 2643 752 \r\n",
       "Q 2906 1113 2906 1747 \r\n",
       "Q 2906 2381 2643 2742 \r\n",
       "Q 2381 3103 1925 3103 \r\n",
       "Q 1469 3103 1208 2742 \r\n",
       "Q 947 2381 947 1747 \r\n",
       "z\r\n",
       "\" id=\"DejaVuSans-64\" transform=\"scale(0.015625)\"/>\r\n",
       "       <path d=\"M 3116 1747 \r\n",
       "Q 3116 2381 2855 2742 \r\n",
       "Q 2594 3103 2138 3103 \r\n",
       "Q 1681 3103 1420 2742 \r\n",
       "Q 1159 2381 1159 1747 \r\n",
       "Q 1159 1113 1420 752 \r\n",
       "Q 1681 391 2138 391 \r\n",
       "Q 2594 391 2855 752 \r\n",
       "Q 3116 1113 3116 1747 \r\n",
       "z\r\n",
       "M 1159 2969 \r\n",
       "Q 1341 3281 1617 3432 \r\n",
       "Q 1894 3584 2278 3584 \r\n",
       "Q 2916 3584 3314 3078 \r\n",
       "Q 3713 2572 3713 1747 \r\n",
       "Q 3713 922 3314 415 \r\n",
       "Q 2916 -91 2278 -91 \r\n",
       "Q 1894 -91 1617 61 \r\n",
       "Q 1341 213 1159 525 \r\n",
       "L 1159 0 \r\n",
       "L 581 0 \r\n",
       "L 581 4863 \r\n",
       "L 1159 4863 \r\n",
       "L 1159 2969 \r\n",
       "z\r\n",
       "\" id=\"DejaVuSans-62\" transform=\"scale(0.015625)\"/>\r\n",
       "       <path d=\"M 603 4863 \r\n",
       "L 1178 4863 \r\n",
       "L 1178 0 \r\n",
       "L 603 0 \r\n",
       "L 603 4863 \r\n",
       "z\r\n",
       "\" id=\"DejaVuSans-6c\" transform=\"scale(0.015625)\"/>\r\n",
       "       <path d=\"M 2059 -325 \r\n",
       "Q 1816 -950 1584 -1140 \r\n",
       "Q 1353 -1331 966 -1331 \r\n",
       "L 506 -1331 \r\n",
       "L 506 -850 \r\n",
       "L 844 -850 \r\n",
       "Q 1081 -850 1212 -737 \r\n",
       "Q 1344 -625 1503 -206 \r\n",
       "L 1606 56 \r\n",
       "L 191 3500 \r\n",
       "L 800 3500 \r\n",
       "L 1894 763 \r\n",
       "L 2988 3500 \r\n",
       "L 3597 3500 \r\n",
       "L 2059 -325 \r\n",
       "z\r\n",
       "\" id=\"DejaVuSans-79\" transform=\"scale(0.015625)\"/>\r\n",
       "      </defs>\r\n",
       "      <use xlink:href=\"#DejaVuSans-45\"/>\r\n",
       "      <use x=\"63.183594\" xlink:href=\"#DejaVuSans-73\"/>\r\n",
       "      <use x=\"115.283203\" xlink:href=\"#DejaVuSans-74\"/>\r\n",
       "      <use x=\"154.492188\" xlink:href=\"#DejaVuSans-69\"/>\r\n",
       "      <use x=\"182.275391\" xlink:href=\"#DejaVuSans-6d\"/>\r\n",
       "      <use x=\"279.6875\" xlink:href=\"#DejaVuSans-61\"/>\r\n",
       "      <use x=\"340.966797\" xlink:href=\"#DejaVuSans-74\"/>\r\n",
       "      <use x=\"380.175781\" xlink:href=\"#DejaVuSans-65\"/>\r\n",
       "      <use x=\"441.699219\" xlink:href=\"#DejaVuSans-64\"/>\r\n",
       "      <use x=\"505.175781\" xlink:href=\"#DejaVuSans-20\"/>\r\n",
       "      <use x=\"536.962891\" xlink:href=\"#DejaVuSans-70\"/>\r\n",
       "      <use x=\"600.439453\" xlink:href=\"#DejaVuSans-72\"/>\r\n",
       "      <use x=\"639.302734\" xlink:href=\"#DejaVuSans-6f\"/>\r\n",
       "      <use x=\"700.484375\" xlink:href=\"#DejaVuSans-62\"/>\r\n",
       "      <use x=\"763.960938\" xlink:href=\"#DejaVuSans-61\"/>\r\n",
       "      <use x=\"825.240234\" xlink:href=\"#DejaVuSans-62\"/>\r\n",
       "      <use x=\"888.716797\" xlink:href=\"#DejaVuSans-69\"/>\r\n",
       "      <use x=\"916.5\" xlink:href=\"#DejaVuSans-6c\"/>\r\n",
       "      <use x=\"944.283203\" xlink:href=\"#DejaVuSans-69\"/>\r\n",
       "      <use x=\"972.066406\" xlink:href=\"#DejaVuSans-74\"/>\r\n",
       "      <use x=\"1011.275391\" xlink:href=\"#DejaVuSans-79\"/>\r\n",
       "     </g>\r\n",
       "    </g>\r\n",
       "   </g>\r\n",
       "   <g id=\"line2d_16\">\r\n",
       "    <path clip-path=\"url(#p0b7f2b3e37)\" d=\"M 65.361932 240.700909 \r\n",
       "L 65.971879 157.307725 \r\n",
       "L 66.581826 166.573634 \r\n",
       "L 67.191773 129.51 \r\n",
       "L 67.80172 151.748185 \r\n",
       "L 68.411668 148.041817 \r\n",
       "L 69.021615 145.394414 \r\n",
       "L 69.631562 143.408867 \r\n",
       "L 70.241509 129.51 \r\n",
       "L 71.461403 119.401737 \r\n",
       "L 72.681298 129.51 \r\n",
       "L 73.291245 133.481104 \r\n",
       "L 73.901192 129.51 \r\n",
       "L 75.121086 129.51 \r\n",
       "L 76.340981 141.214304 \r\n",
       "L 76.950928 143.408867 \r\n",
       "L 77.560875 140.09961 \r\n",
       "L 78.780769 139.178777 \r\n",
       "L 80.000664 133.957637 \r\n",
       "L 80.610611 133.786573 \r\n",
       "L 81.220558 131.569096 \r\n",
       "L 81.830505 133.481104 \r\n",
       "L 83.0504 133.216368 \r\n",
       "L 83.660347 134.890208 \r\n",
       "L 84.270294 134.722077 \r\n",
       "L 84.880241 132.879427 \r\n",
       "L 85.490188 127.87484 \r\n",
       "L 86.100135 129.51 \r\n",
       "L 86.710083 129.51 \r\n",
       "L 87.32003 128.007423 \r\n",
       "L 87.929977 128.046964 \r\n",
       "L 88.539924 129.51 \r\n",
       "L 89.149871 129.51 \r\n",
       "L 89.759819 130.865985 \r\n",
       "L 90.979713 128.217084 \r\n",
       "L 91.58966 129.51 \r\n",
       "L 92.199607 128.274544 \r\n",
       "L 92.809554 129.51 \r\n",
       "L 93.419502 131.875767 \r\n",
       "L 94.029449 131.826475 \r\n",
       "L 94.639396 132.913807 \r\n",
       "L 95.249343 132.845726 \r\n",
       "L 95.85929 131.690214 \r\n",
       "L 97.079185 133.705883 \r\n",
       "L 97.689132 132.598636 \r\n",
       "L 98.299079 133.55331 \r\n",
       "L 98.909026 133.481104 \r\n",
       "L 99.518973 134.386792 \r\n",
       "L 100.12892 136.2198 \r\n",
       "L 102.568709 135.786908 \r\n",
       "L 103.788603 137.328116 \r\n",
       "L 104.398551 137.207835 \r\n",
       "L 105.008498 135.40649 \r\n",
       "L 106.228392 133.597905 \r\n",
       "L 106.838339 133.538655 \r\n",
       "L 107.448286 134.275326 \r\n",
       "L 108.058234 134.208206 \r\n",
       "L 108.668181 134.915111 \r\n",
       "L 109.278128 134.841074 \r\n",
       "L 109.888075 135.520317 \r\n",
       "L 111.107969 133.899116 \r\n",
       "L 111.717917 133.842112 \r\n",
       "L 112.327864 131.648287 \r\n",
       "L 115.3776 131.519473 \r\n",
       "L 117.207441 133.388758 \r\n",
       "L 117.817388 133.344171 \r\n",
       "L 118.427335 133.93237 \r\n",
       "L 119.037283 133.88268 \r\n",
       "L 119.64723 133.216368 \r\n",
       "L 120.867124 133.135795 \r\n",
       "L 121.477071 133.694608 \r\n",
       "L 122.087018 131.875767 \r\n",
       "L 123.306913 131.826475 \r\n",
       "L 124.526807 132.913807 \r\n",
       "L 125.136754 132.879427 \r\n",
       "L 125.746701 133.957637 \r\n",
       "L 126.356649 133.363151 \r\n",
       "L 126.966596 134.415481 \r\n",
       "L 127.576543 134.907622 \r\n",
       "L 128.18649 135.92486 \r\n",
       "L 128.796437 136.39325 \r\n",
       "L 129.406384 135.803825 \r\n",
       "L 130.016332 136.264593 \r\n",
       "L 130.626279 135.172498 \r\n",
       "L 131.236226 136.140651 \r\n",
       "L 132.45612 137.022903 \r\n",
       "L 133.066067 136.459433 \r\n",
       "L 133.676015 136.39793 \r\n",
       "L 134.285962 135.849836 \r\n",
       "L 134.895909 136.278147 \r\n",
       "L 138.555592 135.94253 \r\n",
       "L 139.165539 136.345507 \r\n",
       "L 139.775486 137.193925 \r\n",
       "L 140.385433 137.131958 \r\n",
       "L 141.605328 136.128506 \r\n",
       "L 142.825222 136.893775 \r\n",
       "L 143.435169 136.836538 \r\n",
       "L 144.655064 137.573465 \r\n",
       "L 145.265011 137.512377 \r\n",
       "L 146.484905 136.563154 \r\n",
       "L 147.704799 136.459433 \r\n",
       "L 148.314747 136.814518 \r\n",
       "L 148.924694 136.761581 \r\n",
       "L 150.144588 135.863771 \r\n",
       "L 150.754535 136.212998 \r\n",
       "L 151.364482 135.774275 \r\n",
       "L 151.97443 135.730475 \r\n",
       "L 152.584377 135.301196 \r\n",
       "L 153.194324 135.261257 \r\n",
       "L 153.804271 135.602656 \r\n",
       "L 154.414218 135.183011 \r\n",
       "L 155.024165 135.144679 \r\n",
       "L 155.634113 134.733733 \r\n",
       "L 156.24406 135.069548 \r\n",
       "L 156.854007 134.296368 \r\n",
       "L 157.463954 134.630634 \r\n",
       "L 158.073901 134.597165 \r\n",
       "L 158.683848 134.203128 \r\n",
       "L 159.293796 134.172848 \r\n",
       "L 159.903743 133.786573 \r\n",
       "L 160.51369 133.759334 \r\n",
       "L 161.123637 133.380573 \r\n",
       "L 161.733584 133.705883 \r\n",
       "L 162.343531 133.332192 \r\n",
       "L 162.953479 133.308449 \r\n",
       "L 163.563426 132.941816 \r\n",
       "L 164.78332 133.577964 \r\n",
       "L 165.393267 132.879427 \r\n",
       "L 167.833056 134.115545 \r\n",
       "L 168.443003 134.742515 \r\n",
       "L 169.05295 134.711912 \r\n",
       "L 169.662897 134.035212 \r\n",
       "L 170.272845 134.330417 \r\n",
       "L 170.882792 134.941745 \r\n",
       "L 172.102686 135.511784 \r\n",
       "L 172.712633 135.163775 \r\n",
       "L 173.32258 135.44435 \r\n",
       "L 173.932528 136.032374 \r\n",
       "L 174.542475 136.305004 \r\n",
       "L 175.152422 136.26746 \r\n",
       "L 175.762369 136.535799 \r\n",
       "L 178.202158 136.384708 \r\n",
       "L 178.812105 136.942553 \r\n",
       "L 179.422052 136.607293 \r\n",
       "L 180.031999 136.863901 \r\n",
       "L 180.641946 137.410404 \r\n",
       "L 181.251894 137.369049 \r\n",
       "L 181.861841 137.907234 \r\n",
       "L 183.691682 138.633359 \r\n",
       "L 184.301629 138.586809 \r\n",
       "L 184.911577 138.822947 \r\n",
       "L 185.521524 137.652772 \r\n",
       "L 186.131471 137.891229 \r\n",
       "L 187.961312 136.941078 \r\n",
       "L 189.791154 136.832329 \r\n",
       "L 190.401101 137.336549 \r\n",
       "L 191.011048 137.298739 \r\n",
       "L 192.230943 137.756219 \r\n",
       "L 192.84089 137.452207 \r\n",
       "L 193.450837 137.678056 \r\n",
       "L 194.060784 137.115042 \r\n",
       "L 194.670731 137.601359 \r\n",
       "L 195.890626 137.008927 \r\n",
       "L 196.500573 137.231594 \r\n",
       "L 197.11052 137.196013 \r\n",
       "L 197.720467 136.905729 \r\n",
       "L 198.330414 136.871953 \r\n",
       "L 198.940361 137.091199 \r\n",
       "L 199.550309 137.56002 \r\n",
       "L 200.160256 137.774187 \r\n",
       "L 200.770203 137.487822 \r\n",
       "L 201.38015 137.948598 \r\n",
       "L 205.64978 139.377594 \r\n",
       "L 206.259727 139.814329 \r\n",
       "L 206.869675 139.770107 \r\n",
       "L 207.479622 139.488671 \r\n",
       "L 208.089569 139.446213 \r\n",
       "L 208.699516 139.168538 \r\n",
       "L 209.309463 139.596939 \r\n",
       "L 209.91941 139.78815 \r\n",
       "L 210.529358 139.51253 \r\n",
       "L 211.139305 139.470851 \r\n",
       "L 211.749252 139.660207 \r\n",
       "L 212.969146 139.119088 \r\n",
       "L 213.579093 138.396161 \r\n",
       "L 214.798988 138.323913 \r\n",
       "L 215.408935 138.738397 \r\n",
       "L 216.018882 138.701183 \r\n",
       "L 216.628829 138.440996 \r\n",
       "L 218.458671 138.996529 \r\n",
       "L 220.288512 138.884922 \r\n",
       "L 220.898459 139.065472 \r\n",
       "L 221.508407 139.460943 \r\n",
       "L 222.118354 139.637855 \r\n",
       "L 223.338248 139.559949 \r\n",
       "L 224.558142 140.332019 \r\n",
       "L 225.16809 140.290871 \r\n",
       "L 225.778037 139.828852 \r\n",
       "L 226.387984 140.209502 \r\n",
       "L 228.217825 140.089735 \r\n",
       "L 230.047667 141.20351 \r\n",
       "L 230.657614 141.364914 \r\n",
       "L 231.877508 141.278384 \r\n",
       "L 235.537191 142.217533 \r\n",
       "L 236.147139 142.172309 \r\n",
       "L 236.757086 141.930264 \r\n",
       "L 237.97698 141.842798 \r\n",
       "L 238.586927 141.604449 \r\n",
       "L 239.196874 141.75655 \r\n",
       "L 240.416769 141.285426 \r\n",
       "L 241.026716 141.437055 \r\n",
       "L 241.636663 141.395923 \r\n",
       "L 242.24661 141.737181 \r\n",
       "L 242.856557 141.885703 \r\n",
       "L 244.076452 141.801517 \r\n",
       "L 244.686399 141.948308 \r\n",
       "L 245.296346 142.281928 \r\n",
       "L 245.906293 142.238923 \r\n",
       "L 247.126188 141.781908 \r\n",
       "L 247.736135 141.741 \r\n",
       "L 248.346082 142.069773 \r\n",
       "L 249.565976 142.353836 \r\n",
       "L 250.785871 142.269617 \r\n",
       "L 251.395818 142.409598 \r\n",
       "L 252.005765 142.36758 \r\n",
       "L 252.615712 142.506343 \r\n",
       "L 253.225659 142.284363 \r\n",
       "L 253.835606 142.243157 \r\n",
       "L 254.445554 142.380975 \r\n",
       "L 255.665448 142.298728 \r\n",
       "L 256.275395 142.080949 \r\n",
       "L 256.885342 142.217533 \r\n",
       "L 257.495289 142.177321 \r\n",
       "L 258.105237 142.312737 \r\n",
       "L 259.325131 142.23247 \r\n",
       "L 260.545025 141.806819 \r\n",
       "L 261.154972 141.423311 \r\n",
       "L 262.374867 141.692959 \r\n",
       "L 262.984814 141.655472 \r\n",
       "L 263.594761 141.788751 \r\n",
       "L 264.204708 142.091238 \r\n",
       "L 264.814655 141.713885 \r\n",
       "L 267.254444 142.23667 \r\n",
       "L 267.864391 142.198454 \r\n",
       "L 268.474338 142.32692 \r\n",
       "L 269.084286 142.288654 \r\n",
       "L 269.694233 141.754238 \r\n",
       "L 270.914127 141.681791 \r\n",
       "L 271.524074 141.481881 \r\n",
       "L 272.134021 141.119639 \r\n",
       "L 273.353916 141.376869 \r\n",
       "L 274.57381 141.307876 \r\n",
       "L 275.183757 141.112531 \r\n",
       "L 276.403652 141.366091 \r\n",
       "L 277.013599 141.17227 \r\n",
       "L 277.623546 141.298151 \r\n",
       "L 278.233493 140.946777 \r\n",
       "L 278.84344 140.914195 \r\n",
       "L 279.453387 141.039745 \r\n",
       "L 280.063335 140.849585 \r\n",
       "L 281.893176 141.222531 \r\n",
       "L 283.11307 141.778271 \r\n",
       "L 283.723018 141.744098 \r\n",
       "L 284.942912 141.984328 \r\n",
       "L 285.552859 141.79629 \r\n",
       "L 286.772753 142.03425 \r\n",
       "L 287.382701 142.304569 \r\n",
       "L 287.992648 142.269617 \r\n",
       "L 288.602595 142.08336 \r\n",
       "L 289.212542 142.049195 \r\n",
       "L 289.822489 142.16588 \r\n",
       "L 290.432436 141.981412 \r\n",
       "L 291.042384 141.648091 \r\n",
       "L 292.262278 141.583009 \r\n",
       "L 292.872225 141.699379 \r\n",
       "L 293.482172 141.666871 \r\n",
       "L 294.092119 141.782405 \r\n",
       "L 294.702067 141.749847 \r\n",
       "L 295.312014 141.570391 \r\n",
       "L 295.921961 141.831946 \r\n",
       "L 297.751802 142.171795 \r\n",
       "L 298.971697 142.684962 \r\n",
       "L 299.581644 142.650748 \r\n",
       "L 301.411485 142.979007 \r\n",
       "L 303.851274 143.976164 \r\n",
       "L 304.461221 143.797892 \r\n",
       "L 305.071168 143.761632 \r\n",
       "L 305.681116 143.584802 \r\n",
       "L 306.291063 143.689649 \r\n",
       "L 306.90101 143.373857 \r\n",
       "L 307.510957 143.478712 \r\n",
       "L 308.730851 143.408867 \r\n",
       "L 309.340799 142.819633 \r\n",
       "L 311.780587 143.237273 \r\n",
       "L 312.390534 143.477329 \r\n",
       "L 313.000482 143.579616 \r\n",
       "L 313.610429 143.817659 \r\n",
       "L 314.220376 143.918604 \r\n",
       "L 314.830323 143.883462 \r\n",
       "L 315.44027 143.577951 \r\n",
       "L 316.660165 144.048279 \r\n",
       "L 317.270112 143.878872 \r\n",
       "L 317.880059 143.844252 \r\n",
       "L 319.7099 144.140385 \r\n",
       "L 320.319848 143.840093 \r\n",
       "L 320.929795 143.673602 \r\n",
       "L 321.539742 143.904073 \r\n",
       "L 322.149689 144.001704 \r\n",
       "L 323.369583 143.671108 \r\n",
       "L 323.979531 143.768599 \r\n",
       "L 324.589478 143.604626 \r\n",
       "L 325.199425 143.571613 \r\n",
       "L 325.809372 143.798555 \r\n",
       "L 326.419319 143.894836 \r\n",
       "L 327.029266 143.732098 \r\n",
       "L 328.249161 143.923641 \r\n",
       "L 328.859108 143.890346 \r\n",
       "L 329.469055 143.985318 \r\n",
       "L 332.518791 143.820451 \r\n",
       "L 333.128738 143.914279 \r\n",
       "L 333.738685 143.881614 \r\n",
       "L 334.348632 143.723317 \r\n",
       "L 335.568527 143.909723 \r\n",
       "L 336.178474 143.877364 \r\n",
       "L 336.788421 143.7205 \r\n",
       "L 337.398368 143.688704 \r\n",
       "L 338.008315 143.284767 \r\n",
       "L 338.618263 143.501735 \r\n",
       "L 339.22821 143.59418 \r\n",
       "L 340.448104 143.531865 \r\n",
       "L 341.058051 143.623639 \r\n",
       "L 341.667998 143.592548 \r\n",
       "L 342.277946 143.683792 \r\n",
       "L 342.887893 143.652709 \r\n",
       "L 343.49784 143.743414 \r\n",
       "L 344.107787 143.955105 \r\n",
       "L 344.717734 143.923641 \r\n",
       "L 345.327681 144.013162 \r\n",
       "L 345.937629 144.222897 \r\n",
       "L 347.76747 144.127776 \r\n",
       "L 348.377417 143.976777 \r\n",
       "L 348.987365 143.945727 \r\n",
       "L 349.597312 144.033864 \r\n",
       "L 350.207259 144.002831 \r\n",
       "L 350.817206 144.209012 \r\n",
       "L 351.427153 144.177739 \r\n",
       "L 352.0371 144.264634 \r\n",
       "L 355.086836 144.10965 \r\n",
       "L 355.696783 144.195592 \r\n",
       "L 356.306731 143.932257 \r\n",
       "L 357.526625 143.872162 \r\n",
       "L 358.746519 143.581877 \r\n",
       "L 359.966414 143.753463 \r\n",
       "L 360.576361 143.724095 \r\n",
       "L 361.186308 143.809242 \r\n",
       "L 361.796255 144.008199 \r\n",
       "L 362.406202 143.750638 \r\n",
       "L 363.016149 143.835213 \r\n",
       "L 364.236044 143.663628 \r\n",
       "L 364.845991 143.747863 \r\n",
       "L 365.455938 143.944517 \r\n",
       "L 366.065885 143.802764 \r\n",
       "L 366.675832 143.886204 \r\n",
       "L 367.28578 143.857217 \r\n",
       "L 367.895727 143.716482 \r\n",
       "L 369.725568 143.964822 \r\n",
       "L 369.725568 143.964822 \r\n",
       "\" style=\"fill:none;stroke:#1f77b4;stroke-linecap:square;stroke-width:1.5;\"/>\r\n",
       "   </g>\r\n",
       "   <g id=\"line2d_17\">\r\n",
       "    <path clip-path=\"url(#p0b7f2b3e37)\" d=\"M 65.361932 18.319091 \r\n",
       "L 67.191773 101.712275 \r\n",
       "L 67.80172 118.390912 \r\n",
       "L 68.411668 138.775908 \r\n",
       "L 69.021615 145.394414 \r\n",
       "L 69.631562 136.459433 \r\n",
       "L 70.241509 135.687272 \r\n",
       "L 70.851456 140.629088 \r\n",
       "L 71.461403 139.618263 \r\n",
       "L 72.071351 143.408867 \r\n",
       "L 72.681298 138.063146 \r\n",
       "L 73.291245 141.423311 \r\n",
       "L 73.901192 140.629088 \r\n",
       "L 74.511139 136.459433 \r\n",
       "L 75.121086 136.050641 \r\n",
       "L 75.731034 138.775908 \r\n",
       "L 76.340981 138.288232 \r\n",
       "L 76.950928 135.069548 \r\n",
       "L 77.560875 134.804805 \r\n",
       "L 78.170822 137.091199 \r\n",
       "L 78.780769 134.344393 \r\n",
       "L 79.390717 136.459433 \r\n",
       "L 80.610611 144.478006 \r\n",
       "L 81.220558 141.864545 \r\n",
       "L 81.830505 143.408867 \r\n",
       "L 82.440452 146.763762 \r\n",
       "L 83.660347 149.237417 \r\n",
       "L 84.270294 148.620936 \r\n",
       "L 84.880241 149.726534 \r\n",
       "L 85.490188 149.131924 \r\n",
       "L 86.100135 150.15974 \r\n",
       "L 86.710083 149.586139 \r\n",
       "L 88.539924 152.31839 \r\n",
       "L 89.759819 153.917762 \r\n",
       "L 90.369766 155.984024 \r\n",
       "L 91.58966 154.780662 \r\n",
       "L 93.419502 156.716288 \r\n",
       "L 94.029449 156.149488 \r\n",
       "L 95.249343 157.307725 \r\n",
       "L 95.85929 155.672565 \r\n",
       "L 96.469237 156.238586 \r\n",
       "L 97.689132 153.189549 \r\n",
       "L 98.299079 153.769836 \r\n",
       "L 98.909026 155.322178 \r\n",
       "L 99.518973 153.893969 \r\n",
       "L 100.12892 154.432105 \r\n",
       "L 100.738868 155.894288 \r\n",
       "L 101.348815 156.381135 \r\n",
       "L 101.958762 155.029226 \r\n",
       "L 103.178656 157.748959 \r\n",
       "L 103.788603 157.307725 \r\n",
       "L 104.398551 158.5907 \r\n",
       "L 105.008498 158.992443 \r\n",
       "L 106.228392 158.125309 \r\n",
       "L 106.838339 158.516323 \r\n",
       "L 107.448286 159.690392 \r\n",
       "L 109.278128 158.450098 \r\n",
       "L 110.498022 156.195822 \r\n",
       "L 111.107969 155.844689 \r\n",
       "L 111.717917 154.780662 \r\n",
       "L 112.937811 155.548382 \r\n",
       "L 113.547758 153.833013 \r\n",
       "L 114.157705 154.905457 \r\n",
       "L 114.767652 153.917762 \r\n",
       "L 115.3776 153.623692 \r\n",
       "L 116.597494 151.748185 \r\n",
       "L 117.207441 152.136059 \r\n",
       "L 117.817388 153.154042 \r\n",
       "L 118.427335 152.253598 \r\n",
       "L 119.64723 152.983641 \r\n",
       "L 120.257177 153.947561 \r\n",
       "L 120.867124 154.286234 \r\n",
       "L 121.477071 152.824225 \r\n",
       "L 123.306913 153.833013 \r\n",
       "L 123.91686 152.435962 \r\n",
       "L 124.526807 152.202028 \r\n",
       "L 125.136754 152.53438 \r\n",
       "L 125.746701 152.304141 \r\n",
       "L 126.356649 152.628905 \r\n",
       "L 126.966596 153.492351 \r\n",
       "L 127.576543 153.259519 \r\n",
       "L 128.18649 154.1003 \r\n",
       "L 128.796437 152.277664 \r\n",
       "L 129.406384 153.111842 \r\n",
       "L 130.626279 151.645227 \r\n",
       "L 131.236226 152.462256 \r\n",
       "L 131.846173 152.253598 \r\n",
       "L 132.45612 151.547836 \r\n",
       "L 133.066067 151.847457 \r\n",
       "L 133.676015 151.649783 \r\n",
       "L 134.285962 152.430933 \r\n",
       "L 134.895909 152.715062 \r\n",
       "L 135.505856 152.515019 \r\n",
       "L 136.115803 153.268739 \r\n",
       "L 136.72575 152.596248 \r\n",
       "L 137.945645 153.13807 \r\n",
       "L 139.165539 152.750726 \r\n",
       "L 139.775486 153.013771 \r\n",
       "L 140.385433 152.375875 \r\n",
       "L 140.995381 152.637711 \r\n",
       "L 141.605328 152.01292 \r\n",
       "L 142.825222 151.661315 \r\n",
       "L 144.045116 153.031152 \r\n",
       "L 144.655064 153.275997 \r\n",
       "L 145.265011 152.674775 \r\n",
       "L 145.874958 152.500605 \r\n",
       "L 146.484905 153.158814 \r\n",
       "L 147.094852 153.395457 \r\n",
       "L 148.314747 154.669991 \r\n",
       "L 148.924694 154.084808 \r\n",
       "L 149.534641 154.707941 \r\n",
       "L 150.144588 154.527955 \r\n",
       "L 151.364482 155.741657 \r\n",
       "L 153.194324 156.349182 \r\n",
       "L 153.804271 156.165352 \r\n",
       "L 154.414218 155.605826 \r\n",
       "L 155.024165 155.805148 \r\n",
       "L 155.634113 156.374922 \r\n",
       "L 156.24406 156.195822 \r\n",
       "L 156.854007 156.387274 \r\n",
       "L 159.293796 155.693665 \r\n",
       "L 159.903743 156.238586 \r\n",
       "L 160.51369 156.422449 \r\n",
       "L 161.123637 156.252123 \r\n",
       "L 161.733584 156.783242 \r\n",
       "L 162.343531 156.960254 \r\n",
       "L 162.953479 156.789762 \r\n",
       "L 163.563426 157.307725 \r\n",
       "L 164.173373 157.137191 \r\n",
       "L 164.78332 157.646722 \r\n",
       "L 165.393267 157.139254 \r\n",
       "L 166.003214 156.972813 \r\n",
       "L 166.613162 156.475461 \r\n",
       "L 167.833056 157.472211 \r\n",
       "L 168.443003 157.634759 \r\n",
       "L 169.05295 157.145169 \r\n",
       "L 169.662897 157.307725 \r\n",
       "L 170.272845 156.825691 \r\n",
       "L 170.882792 156.988214 \r\n",
       "L 171.492739 156.513511 \r\n",
       "L 172.712633 156.836577 \r\n",
       "L 173.32258 156.683059 \r\n",
       "L 173.932528 155.910078 \r\n",
       "L 174.542475 156.072277 \r\n",
       "L 175.152422 155.61836 \r\n",
       "L 175.762369 154.5585 \r\n",
       "L 176.982263 154.286234 \r\n",
       "L 177.592211 153.851793 \r\n",
       "L 178.202158 154.019825 \r\n",
       "L 178.812105 154.48336 \r\n",
       "L 179.422052 154.646248 \r\n",
       "L 180.031999 154.219089 \r\n",
       "L 180.641946 154.674257 \r\n",
       "L 181.251894 154.251431 \r\n",
       "L 181.861841 154.412131 \r\n",
       "L 182.471788 154.283102 \r\n",
       "L 183.081735 154.44198 \r\n",
       "L 185.521524 153.938307 \r\n",
       "L 186.131471 154.374297 \r\n",
       "L 186.741418 154.249981 \r\n",
       "L 187.351365 154.680081 \r\n",
       "L 187.961312 154.280253 \r\n",
       "L 188.57126 154.158232 \r\n",
       "L 189.181207 154.309935 \r\n",
       "L 189.791154 154.731353 \r\n",
       "L 190.401101 154.069159 \r\n",
       "L 191.011048 154.487668 \r\n",
       "L 191.620995 154.634873 \r\n",
       "L 192.230943 154.248648 \r\n",
       "L 192.84089 154.660323 \r\n",
       "L 193.450837 154.541127 \r\n",
       "L 194.670731 154.828123 \r\n",
       "L 195.280678 154.450016 \r\n",
       "L 195.890626 154.851186 \r\n",
       "L 197.11052 154.617625 \r\n",
       "L 197.720467 155.0125 \r\n",
       "L 198.330414 154.134473 \r\n",
       "L 198.940361 154.022542 \r\n",
       "L 199.550309 153.66006 \r\n",
       "L 200.160256 153.551278 \r\n",
       "L 201.38015 152.840239 \r\n",
       "L 203.209992 152.531911 \r\n",
       "L 203.819939 152.918617 \r\n",
       "L 204.429886 153.05917 \r\n",
       "L 205.039833 152.956783 \r\n",
       "L 205.64978 151.89259 \r\n",
       "L 206.869675 152.17768 \r\n",
       "L 207.479622 152.080803 \r\n",
       "L 208.089569 152.457915 \r\n",
       "L 208.699516 152.596248 \r\n",
       "L 209.309463 152.49884 \r\n",
       "L 209.91941 152.635839 \r\n",
       "L 210.529358 153.004311 \r\n",
       "L 211.139305 152.674775 \r\n",
       "L 211.749252 153.040025 \r\n",
       "L 212.359199 152.942799 \r\n",
       "L 212.969146 153.07515 \r\n",
       "L 213.579093 153.434278 \r\n",
       "L 214.189041 153.563547 \r\n",
       "L 214.798988 153.917762 \r\n",
       "L 216.628829 154.293516 \r\n",
       "L 217.238776 154.194385 \r\n",
       "L 217.848724 154.317532 \r\n",
       "L 219.068618 155.000404 \r\n",
       "L 219.678565 155.118929 \r\n",
       "L 220.898459 154.918861 \r\n",
       "L 221.508407 155.036317 \r\n",
       "L 222.118354 154.721892 \r\n",
       "L 222.728301 154.839207 \r\n",
       "L 223.338248 154.314127 \r\n",
       "L 223.948195 154.432105 \r\n",
       "L 224.558142 154.12478 \r\n",
       "L 225.16809 154.242584 \r\n",
       "L 225.778037 154.570073 \r\n",
       "L 226.997931 154.799666 \r\n",
       "L 227.607878 154.704942 \r\n",
       "L 230.657614 155.263781 \r\n",
       "L 231.267561 155.169439 \r\n",
       "L 231.877508 155.481602 \r\n",
       "L 232.487456 154.982825 \r\n",
       "L 233.097403 155.293398 \r\n",
       "L 233.70735 155.401028 \r\n",
       "L 234.317297 155.707856 \r\n",
       "L 234.927244 155.613961 \r\n",
       "L 235.537191 155.91784 \r\n",
       "L 237.367033 156.227253 \r\n",
       "L 238.586927 156.039761 \r\n",
       "L 239.196874 155.752608 \r\n",
       "L 239.806822 155.854887 \r\n",
       "L 241.026716 155.672565 \r\n",
       "L 241.636663 155.774057 \r\n",
       "L 242.856557 155.213379 \r\n",
       "L 243.466505 155.125656 \r\n",
       "L 244.076452 155.227628 \r\n",
       "L 244.686399 155.140452 \r\n",
       "L 245.296346 154.86604 \r\n",
       "L 245.906293 154.967855 \r\n",
       "L 246.51624 154.882427 \r\n",
       "L 247.126188 155.169439 \r\n",
       "L 248.346082 155.368355 \r\n",
       "L 248.956029 154.914545 \r\n",
       "L 250.175923 154.747408 \r\n",
       "L 250.785871 155.029226 \r\n",
       "L 251.395818 154.764143 \r\n",
       "L 252.005765 154.681887 \r\n",
       "L 252.615712 154.96117 \r\n",
       "L 253.225659 154.698878 \r\n",
       "L 253.835606 154.617625 \r\n",
       "L 254.445554 154.894422 \r\n",
       "L 255.055501 154.813062 \r\n",
       "L 255.665448 154.554598 \r\n",
       "L 256.275395 154.474836 \r\n",
       "L 256.885342 154.219089 \r\n",
       "L 257.495289 154.316836 \r\n",
       "L 258.105237 154.238582 \r\n",
       "L 259.325131 154.432105 \r\n",
       "L 260.545025 154.276823 \r\n",
       "L 261.154972 154.54522 \r\n",
       "L 261.76492 154.467711 \r\n",
       "L 262.374867 154.219089 \r\n",
       "L 262.984814 154.314127 \r\n",
       "L 263.594761 154.238044 \r\n",
       "L 264.204708 154.502456 \r\n",
       "L 264.814655 154.595754 \r\n",
       "L 265.424603 154.857474 \r\n",
       "L 266.03455 154.612191 \r\n",
       "L 266.644497 154.704313 \r\n",
       "L 267.254444 154.628428 \r\n",
       "L 267.864391 154.886909 \r\n",
       "L 269.084286 155.067317 \r\n",
       "L 269.694233 155.322178 \r\n",
       "L 270.30418 155.24558 \r\n",
       "L 270.914127 155.333925 \r\n",
       "L 271.524074 154.929755 \r\n",
       "L 272.743969 155.106734 \r\n",
       "L 273.353916 155.357013 \r\n",
       "L 273.963863 155.443742 \r\n",
       "L 274.57381 155.368355 \r\n",
       "L 275.183757 155.13225 \r\n",
       "L 275.793704 155.058204 \r\n",
       "L 276.403652 154.824362 \r\n",
       "L 277.013599 154.751617 \r\n",
       "L 277.623546 154.997886 \r\n",
       "L 278.233493 154.925066 \r\n",
       "L 280.063335 155.181559 \r\n",
       "L 280.673282 154.951991 \r\n",
       "L 281.893176 155.121389 \r\n",
       "L 282.503123 155.049647 \r\n",
       "L 283.723018 155.21709 \r\n",
       "L 284.332965 155.145679 \r\n",
       "L 284.942912 155.382678 \r\n",
       "L 285.552859 155.311209 \r\n",
       "L 286.162806 155.546444 \r\n",
       "L 286.772753 155.322178 \r\n",
       "L 287.382701 155.556095 \r\n",
       "L 287.992648 155.636826 \r\n",
       "L 288.602595 155.565639 \r\n",
       "L 289.822489 156.027078 \r\n",
       "L 290.432436 156.105663 \r\n",
       "L 291.652331 155.962675 \r\n",
       "L 292.872225 156.118521 \r\n",
       "L 293.482172 156.047565 \r\n",
       "L 294.092119 155.829123 \r\n",
       "L 294.702067 155.906781 \r\n",
       "L 295.312014 156.131105 \r\n",
       "L 295.921961 156.207553 \r\n",
       "L 296.531908 155.990991 \r\n",
       "L 297.751802 156.143424 \r\n",
       "L 298.36175 156.364202 \r\n",
       "L 298.971697 156.294274 \r\n",
       "L 299.581644 156.513511 \r\n",
       "L 300.191591 156.44355 \r\n",
       "L 301.411485 156.877866 \r\n",
       "L 303.241327 156.24132 \r\n",
       "L 303.851274 156.45678 \r\n",
       "L 304.461221 156.38821 \r\n",
       "L 305.071168 156.461096 \r\n",
       "L 305.681116 156.392866 \r\n",
       "L 306.291063 156.044193 \r\n",
       "L 306.90101 156.117394 \r\n",
       "L 307.510957 156.050547 \r\n",
       "L 308.120904 156.123367 \r\n",
       "L 308.730851 156.056827 \r\n",
       "L 309.340799 156.267913 \r\n",
       "L 309.950746 155.786458 \r\n",
       "L 313.610429 155.400042 \r\n",
       "L 314.220376 155.200812 \r\n",
       "L 314.830323 155.138149 \r\n",
       "L 315.44027 155.211059 \r\n",
       "L 316.050217 155.148678 \r\n",
       "L 316.660165 154.682765 \r\n",
       "L 317.270112 154.890537 \r\n",
       "L 317.880059 154.96334 \r\n",
       "L 319.7099 154.780662 \r\n",
       "L 320.319848 154.985724 \r\n",
       "L 320.929795 154.925066 \r\n",
       "L 321.539742 155.128812 \r\n",
       "L 322.149689 154.936358 \r\n",
       "L 323.369583 155.078667 \r\n",
       "L 323.979531 154.756877 \r\n",
       "L 324.589478 154.697611 \r\n",
       "L 325.199425 154.768823 \r\n",
       "L 325.809372 154.709814 \r\n",
       "L 326.419319 154.391884 \r\n",
       "L 327.029266 154.592598 \r\n",
       "L 328.859108 154.804007 \r\n",
       "L 330.079002 155.198939 \r\n",
       "L 331.298897 155.081368 \r\n",
       "L 331.908844 155.149912 \r\n",
       "L 332.518791 155.091508 \r\n",
       "L 333.128738 155.159721 \r\n",
       "L 333.738685 155.353691 \r\n",
       "L 334.348632 155.29522 \r\n",
       "L 334.95858 154.986023 \r\n",
       "L 336.178474 154.871524 \r\n",
       "L 336.788421 154.939315 \r\n",
       "L 337.398368 154.758045 \r\n",
       "L 338.008315 154.701695 \r\n",
       "L 338.618263 154.150304 \r\n",
       "L 339.22821 154.219089 \r\n",
       "L 339.838157 154.410847 \r\n",
       "L 341.667998 154.613674 \r\n",
       "L 342.887893 154.503574 \r\n",
       "L 343.49784 154.692184 \r\n",
       "L 344.107787 154.637201 \r\n",
       "L 344.717734 154.703584 \r\n",
       "L 345.327681 154.890537 \r\n",
       "L 345.937629 154.956075 \r\n",
       "L 346.547576 154.901 \r\n",
       "L 347.157523 154.726084 \r\n",
       "L 348.377417 154.856745 \r\n",
       "L 348.987365 154.563744 \r\n",
       "L 350.207259 154.694264 \r\n",
       "L 350.817206 154.522032 \r\n",
       "L 351.427153 154.468813 \r\n",
       "L 352.647048 154.598629 \r\n",
       "L 354.476889 154.440174 \r\n",
       "L 355.086836 154.621395 \r\n",
       "L 355.696783 154.452195 \r\n",
       "L 356.306731 154.516324 \r\n",
       "L 357.526625 154.412131 \r\n",
       "L 358.136572 154.475946 \r\n",
       "L 358.746519 154.65483 \r\n",
       "L 360.576361 154.155407 \r\n",
       "L 361.186308 154.104699 \r\n",
       "L 361.796255 153.940038 \r\n",
       "L 364.236044 154.193929 \r\n",
       "L 364.845991 154.143759 \r\n",
       "L 365.455938 153.981021 \r\n",
       "L 366.065885 154.044024 \r\n",
       "L 366.675832 154.219089 \r\n",
       "L 367.28578 154.169275 \r\n",
       "L 367.895727 154.343379 \r\n",
       "L 369.725568 154.083192 \r\n",
       "L 369.725568 154.083192 \r\n",
       "\" style=\"fill:none;stroke:#ff7f0e;stroke-linecap:square;stroke-width:1.5;\"/>\r\n",
       "   </g>\r\n",
       "   <g id=\"line2d_18\">\r\n",
       "    <path clip-path=\"url(#p0b7f2b3e37)\" d=\"M 65.361932 73.914541 \r\n",
       "L 65.971879 101.712275 \r\n",
       "L 66.581826 73.914541 \r\n",
       "L 67.191773 115.611142 \r\n",
       "L 67.80172 118.390912 \r\n",
       "L 68.411668 138.775908 \r\n",
       "L 69.021615 137.452207 \r\n",
       "L 69.631562 150.3583 \r\n",
       "L 70.241509 160.396361 \r\n",
       "L 70.851456 168.426822 \r\n",
       "L 72.071351 171.206592 \r\n",
       "L 72.681298 176.552308 \r\n",
       "L 73.291245 161.278829 \r\n",
       "L 74.511139 164.257159 \r\n",
       "L 75.121086 165.483527 \r\n",
       "L 75.731034 163.484997 \r\n",
       "L 76.340981 164.622922 \r\n",
       "L 77.560875 161.278829 \r\n",
       "L 78.170822 157.307725 \r\n",
       "L 78.780769 156.099135 \r\n",
       "L 79.390717 157.307725 \r\n",
       "L 80.610611 155.169439 \r\n",
       "L 81.220558 156.278185 \r\n",
       "L 81.830505 159.293281 \r\n",
       "L 82.440452 160.183354 \r\n",
       "L 83.0504 157.307725 \r\n",
       "L 83.660347 156.411025 \r\n",
       "L 85.490188 158.942886 \r\n",
       "L 86.100135 156.513511 \r\n",
       "L 86.710083 155.763411 \r\n",
       "L 88.539924 149.467341 \r\n",
       "L 89.149871 146.188637 \r\n",
       "L 90.369766 150.689219 \r\n",
       "L 90.979713 150.19668 \r\n",
       "L 92.809554 152.473341 \r\n",
       "L 93.419502 153.167645 \r\n",
       "L 95.249343 151.748185 \r\n",
       "L 95.85929 153.492351 \r\n",
       "L 96.469237 154.1003 \r\n",
       "L 97.079185 155.734275 \r\n",
       "L 97.689132 155.248637 \r\n",
       "L 98.299079 153.769836 \r\n",
       "L 98.909026 151.351074 \r\n",
       "L 99.518973 150.967897 \r\n",
       "L 101.348815 147.115227 \r\n",
       "L 102.568709 150.134125 \r\n",
       "L 103.788603 149.489618 \r\n",
       "L 104.398551 148.326923 \r\n",
       "L 105.008498 148.884171 \r\n",
       "L 105.618445 147.765227 \r\n",
       "L 106.838339 147.236087 \r\n",
       "L 107.448286 146.188637 \r\n",
       "L 108.668181 147.269664 \r\n",
       "L 109.278128 145.503213 \r\n",
       "L 109.888075 146.038383 \r\n",
       "L 110.498022 147.300548 \r\n",
       "L 111.107969 147.797983 \r\n",
       "L 112.327864 150.180103 \r\n",
       "L 112.937811 149.214718 \r\n",
       "L 113.547758 149.663358 \r\n",
       "L 114.157705 150.787273 \r\n",
       "L 116.597494 152.402244 \r\n",
       "L 117.207441 152.136059 \r\n",
       "L 117.817388 152.515019 \r\n",
       "L 118.427335 152.253598 \r\n",
       "L 119.037283 151.373384 \r\n",
       "L 119.64723 152.365909 \r\n",
       "L 120.257177 151.503805 \r\n",
       "L 120.867124 151.264743 \r\n",
       "L 121.477071 151.628625 \r\n",
       "L 122.087018 152.576199 \r\n",
       "L 122.696966 152.333401 \r\n",
       "L 124.526807 153.336622 \r\n",
       "L 126.966596 152.402244 \r\n",
       "L 127.576543 153.259519 \r\n",
       "L 128.18649 153.565726 \r\n",
       "L 128.796437 153.336622 \r\n",
       "L 129.406384 153.636333 \r\n",
       "L 130.016332 152.371683 \r\n",
       "L 130.626279 153.189549 \r\n",
       "L 131.236226 153.482352 \r\n",
       "L 131.846173 154.275249 \r\n",
       "L 132.45612 154.552999 \r\n",
       "L 133.066067 153.833013 \r\n",
       "L 133.676015 153.617768 \r\n",
       "L 136.72575 154.951991 \r\n",
       "L 138.555592 157.077991 \r\n",
       "L 139.165539 156.396329 \r\n",
       "L 139.775486 154.821752 \r\n",
       "L 141.605328 155.54279 \r\n",
       "L 142.215275 156.213327 \r\n",
       "L 143.435169 155.799324 \r\n",
       "L 144.655064 156.246746 \r\n",
       "L 145.265011 156.044193 \r\n",
       "L 145.874958 156.262702 \r\n",
       "L 146.484905 156.063057 \r\n",
       "L 147.094852 155.454545 \r\n",
       "L 147.704799 156.081357 \r\n",
       "L 148.314747 156.293213 \r\n",
       "L 151.97443 155.169439 \r\n",
       "L 152.584377 154.605174 \r\n",
       "L 153.194324 154.815522 \r\n",
       "L 153.804271 154.642197 \r\n",
       "L 154.414218 155.227628 \r\n",
       "L 155.024165 155.429502 \r\n",
       "L 156.24406 155.083911 \r\n",
       "L 156.854007 155.282727 \r\n",
       "L 158.073901 156.399303 \r\n",
       "L 158.683848 156.585709 \r\n",
       "L 159.903743 157.66411 \r\n",
       "L 160.51369 157.130672 \r\n",
       "L 161.733584 156.783242 \r\n",
       "L 162.953479 155.753818 \r\n",
       "L 163.563426 155.935005 \r\n",
       "L 164.78332 154.934751 \r\n",
       "L 165.393267 155.117603 \r\n",
       "L 166.003214 154.96334 \r\n",
       "L 166.613162 154.478017 \r\n",
       "L 167.223109 154.329404 \r\n",
       "L 167.833056 154.511511 \r\n",
       "L 169.662897 154.075438 \r\n",
       "L 170.272845 154.254803 \r\n",
       "L 170.882792 154.112585 \r\n",
       "L 171.492739 154.289688 \r\n",
       "L 172.102686 153.833013 \r\n",
       "L 172.712633 154.323795 \r\n",
       "L 173.32258 154.496723 \r\n",
       "L 173.932528 154.046542 \r\n",
       "L 175.152422 153.77542 \r\n",
       "L 176.982263 154.286234 \r\n",
       "L 177.592211 154.152309 \r\n",
       "L 178.202158 153.720925 \r\n",
       "L 178.812105 152.996855 \r\n",
       "L 179.422052 153.463364 \r\n",
       "L 180.641946 153.796437 \r\n",
       "L 183.691682 153.17371 \r\n",
       "L 185.521524 154.499879 \r\n",
       "L 186.131471 154.374297 \r\n",
       "L 186.741418 154.527955 \r\n",
       "L 187.351365 153.850302 \r\n",
       "L 189.181207 154.309935 \r\n",
       "L 189.791154 153.375368 \r\n",
       "L 190.401101 153.529399 \r\n",
       "L 191.011048 153.950518 \r\n",
       "L 191.620995 153.298439 \r\n",
       "L 192.230943 152.918617 \r\n",
       "L 192.84089 152.807143 \r\n",
       "L 193.450837 152.433244 \r\n",
       "L 194.060784 152.587358 \r\n",
       "L 194.670731 152.479016 \r\n",
       "L 195.890626 151.748185 \r\n",
       "L 196.500573 152.160001 \r\n",
       "L 197.11052 152.31182 \r\n",
       "L 197.720467 152.20723 \r\n",
       "L 198.330414 152.357451 \r\n",
       "L 198.940361 152.253598 \r\n",
       "L 200.160256 152.549557 \r\n",
       "L 201.38015 152.343848 \r\n",
       "L 202.600044 151.649783 \r\n",
       "L 203.209992 151.797162 \r\n",
       "L 203.819939 150.967897 \r\n",
       "L 205.64978 150.689219 \r\n",
       "L 206.259727 149.879025 \r\n",
       "L 206.869675 149.791608 \r\n",
       "L 208.089569 150.565302 \r\n",
       "L 208.699516 150.711662 \r\n",
       "L 209.309463 150.387618 \r\n",
       "L 211.139305 150.126653 \r\n",
       "L 211.749252 149.810413 \r\n",
       "L 212.359199 149.95626 \r\n",
       "L 212.969146 150.329694 \r\n",
       "L 213.579093 150.01652 \r\n",
       "L 214.189041 150.15974 \r\n",
       "L 214.798988 149.623808 \r\n",
       "L 215.408935 149.767451 \r\n",
       "L 216.018882 149.461592 \r\n",
       "L 216.628829 148.934921 \r\n",
       "L 217.238776 149.0796 \r\n",
       "L 217.848724 149.001635 \r\n",
       "L 218.458671 149.365518 \r\n",
       "L 219.068618 149.506783 \r\n",
       "L 219.678565 149.865819 \r\n",
       "L 220.288512 149.567971 \r\n",
       "L 221.508407 149.411877 \r\n",
       "L 222.118354 149.550226 \r\n",
       "L 222.728301 149.258194 \r\n",
       "L 223.948195 149.532887 \r\n",
       "L 225.778037 149.305349 \r\n",
       "L 226.997931 149.574524 \r\n",
       "L 227.607878 149.499377 \r\n",
       "L 228.217825 149.632233 \r\n",
       "L 229.43772 149.071365 \r\n",
       "L 230.047667 148.383738 \r\n",
       "L 230.657614 148.314348 \r\n",
       "L 231.267561 148.652756 \r\n",
       "L 231.877508 148.177092 \r\n",
       "L 232.487456 148.513537 \r\n",
       "L 233.097403 148.444686 \r\n",
       "L 234.317297 147.908496 \r\n",
       "L 234.927244 147.244753 \r\n",
       "L 236.757086 147.056085 \r\n",
       "L 237.367033 146.797637 \r\n",
       "L 237.97698 146.932523 \r\n",
       "L 238.586927 147.261529 \r\n",
       "L 239.196874 147.005078 \r\n",
       "L 239.806822 147.137827 \r\n",
       "L 240.416769 146.883579 \r\n",
       "L 241.026716 146.823468 \r\n",
       "L 241.636663 147.14718 \r\n",
       "L 242.24661 146.895525 \r\n",
       "L 243.466505 147.156342 \r\n",
       "L 244.076452 147.096322 \r\n",
       "L 244.686399 146.848246 \r\n",
       "L 245.296346 147.165314 \r\n",
       "L 245.906293 147.105865 \r\n",
       "L 246.51624 147.419942 \r\n",
       "L 247.126188 146.988169 \r\n",
       "L 247.736135 146.929914 \r\n",
       "L 248.346082 146.317931 \r\n",
       "L 248.956029 146.078181 \r\n",
       "L 249.565976 146.206987 \r\n",
       "L 250.175923 146.517824 \r\n",
       "L 250.785871 146.644335 \r\n",
       "L 252.005765 146.532711 \r\n",
       "L 252.615712 146.838454 \r\n",
       "L 253.225659 146.602458 \r\n",
       "L 253.835606 146.547317 \r\n",
       "L 254.445554 145.777484 \r\n",
       "L 255.055501 146.081727 \r\n",
       "L 256.275395 146.330283 \r\n",
       "L 256.885342 146.276882 \r\n",
       "L 257.495289 146.047894 \r\n",
       "L 258.105237 145.644959 \r\n",
       "L 258.715184 145.419392 \r\n",
       "L 259.325131 145.36952 \r\n",
       "L 259.935078 145.667434 \r\n",
       "L 262.984814 146.274173 \r\n",
       "L 264.204708 146.171637 \r\n",
       "L 264.814655 146.290336 \r\n",
       "L 265.424603 145.901368 \r\n",
       "L 266.03455 146.020166 \r\n",
       "L 266.644497 145.802328 \r\n",
       "L 267.254444 146.088164 \r\n",
       "L 268.474338 146.3218 \r\n",
       "L 269.084286 146.271613 \r\n",
       "L 270.30418 146.832026 \r\n",
       "L 271.524074 147.057833 \r\n",
       "L 272.134021 147.006221 \r\n",
       "L 272.743969 147.117944 \r\n",
       "L 273.353916 146.903901 \r\n",
       "L 273.963863 147.015276 \r\n",
       "L 274.57381 146.964385 \r\n",
       "L 277.013599 147.402794 \r\n",
       "L 277.623546 147.351522 \r\n",
       "L 278.233493 147.618237 \r\n",
       "L 279.453387 147.515345 \r\n",
       "L 280.673282 147.727723 \r\n",
       "L 281.283229 147.676402 \r\n",
       "L 282.503123 147.886087 \r\n",
       "L 283.11307 147.368878 \r\n",
       "L 283.723018 147.009402 \r\n",
       "L 284.332965 147.269664 \r\n",
       "L 286.772753 147.074501 \r\n",
       "L 287.382701 146.874061 \r\n",
       "L 287.992648 146.978518 \r\n",
       "L 289.822489 146.836499 \r\n",
       "L 290.432436 146.93993 \r\n",
       "L 291.042384 146.892949 \r\n",
       "L 291.652331 147.145117 \r\n",
       "L 292.872225 147.050816 \r\n",
       "L 293.482172 147.152291 \r\n",
       "L 294.092119 146.957509 \r\n",
       "L 294.702067 146.911233 \r\n",
       "L 295.312014 147.012277 \r\n",
       "L 297.141855 146.436704 \r\n",
       "L 298.36175 146.34831 \r\n",
       "L 298.971697 146.159683 \r\n",
       "L 299.581644 146.260843 \r\n",
       "L 300.191591 146.217442 \r\n",
       "L 300.801538 146.030612 \r\n",
       "L 301.411485 146.131326 \r\n",
       "L 302.021433 146.088595 \r\n",
       "L 302.63138 146.188637 \r\n",
       "L 305.071168 146.019313 \r\n",
       "L 306.291063 146.216713 \r\n",
       "L 306.90101 146.034597 \r\n",
       "L 308.730851 146.327624 \r\n",
       "L 309.340799 146.562974 \r\n",
       "L 309.950746 146.52055 \r\n",
       "L 310.560693 146.34039 \r\n",
       "L 311.17064 146.436339 \r\n",
       "L 313.000482 146.311577 \r\n",
       "L 313.610429 146.406656 \r\n",
       "L 314.220376 146.63721 \r\n",
       "L 315.44027 146.553861 \r\n",
       "L 316.660165 146.740558 \r\n",
       "L 317.270112 146.698937 \r\n",
       "L 317.880059 146.791482 \r\n",
       "L 319.099953 146.041987 \r\n",
       "L 320.929795 146.321004 \r\n",
       "L 321.539742 146.016968 \r\n",
       "L 322.149689 146.241334 \r\n",
       "L 322.759636 146.333216 \r\n",
       "L 323.369583 146.293533 \r\n",
       "L 324.589478 146.475748 \r\n",
       "L 325.199425 146.305819 \r\n",
       "L 325.809372 146.266576 \r\n",
       "L 327.029266 146.447225 \r\n",
       "L 327.639214 146.278928 \r\n",
       "L 328.859108 146.458268 \r\n",
       "L 329.469055 146.163022 \r\n",
       "L 330.079002 146.252542 \r\n",
       "L 330.688949 146.469162 \r\n",
       "L 331.908844 146.645586 \r\n",
       "L 333.128738 146.31499 \r\n",
       "L 333.738685 145.898684 \r\n",
       "L 334.348632 145.735821 \r\n",
       "L 335.568527 145.662737 \r\n",
       "L 336.788421 145.839608 \r\n",
       "L 337.398368 145.803074 \r\n",
       "L 338.618263 146.225784 \r\n",
       "L 339.838157 146.151655 \r\n",
       "L 340.448104 146.237838 \r\n",
       "L 341.058051 146.200914 \r\n",
       "L 341.667998 146.286599 \r\n",
       "L 342.277946 146.005353 \r\n",
       "L 342.887893 145.969184 \r\n",
       "L 343.49784 145.811516 \r\n",
       "L 344.107787 145.775918 \r\n",
       "L 344.717734 145.861603 \r\n",
       "L 345.327681 145.826055 \r\n",
       "L 345.937629 145.549473 \r\n",
       "L 346.547576 145.514753 \r\n",
       "L 347.157523 145.720338 \r\n",
       "L 348.377417 145.889737 \r\n",
       "L 348.987365 146.093193 \r\n",
       "L 349.597312 145.938639 \r\n",
       "L 352.0371 145.799114 \r\n",
       "L 352.647048 145.882389 \r\n",
       "L 353.256995 145.730238 \r\n",
       "L 353.866942 145.930604 \r\n",
       "L 354.476889 145.778983 \r\n",
       "L 355.086836 145.74481 \r\n",
       "L 355.696783 145.827322 \r\n",
       "L 356.306731 145.676878 \r\n",
       "L 356.916678 145.759192 \r\n",
       "L 357.526625 145.725342 \r\n",
       "L 358.136572 145.9228 \r\n",
       "L 358.746519 145.888743 \r\n",
       "L 359.356466 146.085041 \r\n",
       "L 359.966414 146.050801 \r\n",
       "L 360.576361 146.131326 \r\n",
       "L 362.406202 146.712689 \r\n",
       "L 363.626097 146.415554 \r\n",
       "L 364.236044 146.494355 \r\n",
       "L 364.845991 146.459834 \r\n",
       "L 366.065885 146.616292 \r\n",
       "L 368.505674 146.367256 \r\n",
       "L 369.725568 146.188637 \r\n",
       "L 369.725568 146.188637 \r\n",
       "\" style=\"fill:none;stroke:#2ca02c;stroke-linecap:square;stroke-width:1.5;\"/>\r\n",
       "   </g>\r\n",
       "   <g id=\"line2d_19\">\r\n",
       "    <path clip-path=\"url(#p0b7f2b3e37)\" d=\"M 65.361932 129.51 \r\n",
       "L 66.581826 185.105455 \r\n",
       "L 67.191773 157.307725 \r\n",
       "L 67.80172 151.748185 \r\n",
       "L 68.411668 148.041817 \r\n",
       "L 69.021615 145.394414 \r\n",
       "L 69.631562 150.3583 \r\n",
       "L 70.241509 154.219089 \r\n",
       "L 70.851456 146.188637 \r\n",
       "L 71.461403 149.726534 \r\n",
       "L 72.071351 148.041817 \r\n",
       "L 73.291245 153.336622 \r\n",
       "L 73.901192 159.160914 \r\n",
       "L 74.511139 160.782446 \r\n",
       "L 75.121086 152.402244 \r\n",
       "L 75.731034 151.130453 \r\n",
       "L 76.950928 154.527955 \r\n",
       "L 78.170822 152.253598 \r\n",
       "L 78.780769 156.099135 \r\n",
       "L 80.000664 158.419637 \r\n",
       "L 80.610611 157.307725 \r\n",
       "L 81.830505 159.293281 \r\n",
       "L 82.440452 156.349182 \r\n",
       "L 83.0504 157.307725 \r\n",
       "L 83.660347 154.617625 \r\n",
       "L 84.880241 156.465371 \r\n",
       "L 85.490188 155.672565 \r\n",
       "L 86.100135 156.513511 \r\n",
       "L 86.710083 154.219089 \r\n",
       "L 88.539924 156.594963 \r\n",
       "L 89.149871 157.307725 \r\n",
       "L 89.759819 155.273747 \r\n",
       "L 90.369766 150.689219 \r\n",
       "L 91.58966 154.780662 \r\n",
       "L 92.199607 154.219089 \r\n",
       "L 92.809554 150.056144 \r\n",
       "L 93.419502 149.618995 \r\n",
       "L 94.029449 151.516538 \r\n",
       "L 95.249343 150.636274 \r\n",
       "L 96.469237 147.68544 \r\n",
       "L 97.689132 149.071365 \r\n",
       "L 98.299079 147.704875 \r\n",
       "L 99.518973 149.017177 \r\n",
       "L 100.12892 148.680848 \r\n",
       "L 100.738868 147.413621 \r\n",
       "L 102.568709 146.547317 \r\n",
       "L 103.178656 145.394414 \r\n",
       "L 103.788603 145.146223 \r\n",
       "L 105.618445 146.935439 \r\n",
       "L 106.228392 145.861603 \r\n",
       "L 106.838339 146.430358 \r\n",
       "L 107.448286 144.6002 \r\n",
       "L 108.058234 144.387657 \r\n",
       "L 108.668181 143.408867 \r\n",
       "L 109.278128 144.741631 \r\n",
       "L 110.498022 145.818002 \r\n",
       "L 111.717917 145.394414 \r\n",
       "L 112.327864 145.90353 \r\n",
       "L 112.937811 145.696023 \r\n",
       "L 113.547758 146.188637 \r\n",
       "L 114.157705 145.982729 \r\n",
       "L 114.767652 145.103848 \r\n",
       "L 115.3776 146.255624 \r\n",
       "L 117.207441 147.610847 \r\n",
       "L 117.817388 147.402794 \r\n",
       "L 119.037283 149.499377 \r\n",
       "L 119.64723 148.659549 \r\n",
       "L 120.257177 149.670988 \r\n",
       "L 120.867124 148.847554 \r\n",
       "L 122.087018 148.436111 \r\n",
       "L 122.696966 149.407321 \r\n",
       "L 123.306913 148.041817 \r\n",
       "L 124.526807 146.529017 \r\n",
       "L 125.746701 146.188637 \r\n",
       "L 126.356649 145.47305 \r\n",
       "L 126.966596 145.31655 \r\n",
       "L 127.576543 145.70285 \r\n",
       "L 128.18649 145.01258 \r\n",
       "L 128.796437 145.923902 \r\n",
       "L 129.406384 145.244567 \r\n",
       "L 130.016332 145.617098 \r\n",
       "L 130.626279 145.467955 \r\n",
       "L 131.846173 144.166986 \r\n",
       "L 134.895909 143.529727 \r\n",
       "L 135.505856 143.888134 \r\n",
       "L 136.115803 143.290069 \r\n",
       "L 136.72575 143.644441 \r\n",
       "L 137.335698 143.52566 \r\n",
       "L 137.945645 143.872162 \r\n",
       "L 139.165539 142.725315 \r\n",
       "L 142.215275 144.39382 \r\n",
       "L 142.825222 145.146223 \r\n",
       "L 143.435169 145.025014 \r\n",
       "L 144.045116 144.478006 \r\n",
       "L 144.655064 143.090573 \r\n",
       "L 145.265011 143.830044 \r\n",
       "L 145.874958 144.140385 \r\n",
       "L 146.484905 143.616307 \r\n",
       "L 147.094852 144.335457 \r\n",
       "L 147.704799 144.635235 \r\n",
       "L 148.314747 143.713218 \r\n",
       "L 148.924694 144.416031 \r\n",
       "L 149.534641 144.308789 \r\n",
       "L 150.144588 144.997303 \r\n",
       "L 150.754535 144.09888 \r\n",
       "L 151.364482 144.387657 \r\n",
       "L 151.97443 145.061176 \r\n",
       "L 152.584377 144.953181 \r\n",
       "L 153.194324 145.230094 \r\n",
       "L 153.804271 145.122422 \r\n",
       "L 154.414218 145.394414 \r\n",
       "L 155.024165 144.160151 \r\n",
       "L 156.24406 144.706091 \r\n",
       "L 156.854007 144.605453 \r\n",
       "L 157.463954 143.408867 \r\n",
       "L 158.073901 143.681389 \r\n",
       "L 159.293796 143.498537 \r\n",
       "L 159.903743 142.339719 \r\n",
       "L 160.51369 142.966225 \r\n",
       "L 161.123637 142.881061 \r\n",
       "L 161.733584 142.09765 \r\n",
       "L 162.953479 142.631909 \r\n",
       "L 163.563426 142.550913 \r\n",
       "L 164.173373 142.129827 \r\n",
       "L 164.78332 141.374889 \r\n",
       "L 165.393267 141.639922 \r\n",
       "L 166.003214 141.566846 \r\n",
       "L 166.613162 141.827555 \r\n",
       "L 167.223109 141.423311 \r\n",
       "L 167.833056 141.352819 \r\n",
       "L 168.443003 140.956122 \r\n",
       "L 170.882792 140.692994 \r\n",
       "L 171.492739 141.264466 \r\n",
       "L 172.102686 141.513569 \r\n",
       "L 172.712633 140.81755 \r\n",
       "L 173.932528 141.312391 \r\n",
       "L 174.542475 141.246821 \r\n",
       "L 175.152422 141.48913 \r\n",
       "L 176.372316 140.750612 \r\n",
       "L 176.982263 140.689523 \r\n",
       "L 177.592211 140.929612 \r\n",
       "L 178.202158 141.466017 \r\n",
       "L 180.641946 140.043881 \r\n",
       "L 181.251894 139.988723 \r\n",
       "L 182.471788 140.45626 \r\n",
       "L 183.081735 140.113262 \r\n",
       "L 183.691682 139.488671 \r\n",
       "L 184.301629 139.721412 \r\n",
       "L 184.911577 138.822947 \r\n",
       "L 185.521524 139.056699 \r\n",
       "L 186.131471 138.449977 \r\n",
       "L 186.741418 138.405274 \r\n",
       "L 187.351365 138.914208 \r\n",
       "L 189.181207 139.593493 \r\n",
       "L 189.791154 140.086694 \r\n",
       "L 190.401101 140.305236 \r\n",
       "L 191.011048 139.984507 \r\n",
       "L 191.620995 139.934146 \r\n",
       "L 193.450837 140.576392 \r\n",
       "L 194.060784 140.524192 \r\n",
       "L 194.670731 140.211473 \r\n",
       "L 195.280678 140.681048 \r\n",
       "L 195.890626 140.629088 \r\n",
       "L 196.500573 140.320231 \r\n",
       "L 197.11052 140.782813 \r\n",
       "L 198.330414 140.679863 \r\n",
       "L 198.940361 140.123676 \r\n",
       "L 200.160256 140.028058 \r\n",
       "L 200.770203 140.479506 \r\n",
       "L 201.38015 140.430537 \r\n",
       "L 201.990097 140.876186 \r\n",
       "L 202.600044 140.825892 \r\n",
       "L 203.819939 141.214304 \r\n",
       "L 204.429886 140.920425 \r\n",
       "L 205.64978 141.30298 \r\n",
       "L 206.869675 141.201745 \r\n",
       "L 208.699516 140.346401 \r\n",
       "L 209.91941 140.255339 \r\n",
       "L 211.139305 141.092392 \r\n",
       "L 211.749252 140.813639 \r\n",
       "L 212.359199 140.996666 \r\n",
       "L 212.969146 140.949395 \r\n",
       "L 214.189041 141.309856 \r\n",
       "L 214.798988 141.26189 \r\n",
       "L 215.408935 140.76414 \r\n",
       "L 216.018882 140.942942 \r\n",
       "L 217.238776 141.741 \r\n",
       "L 217.848724 141.692271 \r\n",
       "L 218.458671 140.982077 \r\n",
       "L 219.068618 140.936737 \r\n",
       "L 219.678565 140.672871 \r\n",
       "L 220.288512 140.847116 \r\n",
       "L 220.898459 140.802828 \r\n",
       "L 221.508407 140.326237 \r\n",
       "L 222.118354 140.499803 \r\n",
       "L 222.728301 140.45737 \r\n",
       "L 223.338248 140.629088 \r\n",
       "L 223.948195 139.947459 \r\n",
       "L 224.558142 140.332019 \r\n",
       "L 225.778037 140.250029 \r\n",
       "L 226.997931 139.751268 \r\n",
       "L 228.827773 139.637052 \r\n",
       "L 229.43772 139.393641 \r\n",
       "L 230.047667 139.357165 \r\n",
       "L 230.657614 139.11657 \r\n",
       "L 231.877508 139.046451 \r\n",
       "L 232.487456 138.607437 \r\n",
       "L 233.097403 138.574474 \r\n",
       "L 233.70735 138.742456 \r\n",
       "L 234.317297 138.509268 \r\n",
       "L 234.927244 138.875544 \r\n",
       "L 235.537191 138.643541 \r\n",
       "L 236.147139 138.808888 \r\n",
       "L 237.367033 138.350266 \r\n",
       "L 237.97698 138.319141 \r\n",
       "L 238.586927 137.898088 \r\n",
       "L 239.196874 138.063146 \r\n",
       "L 239.806822 137.839634 \r\n",
       "L 242.24661 139.253535 \r\n",
       "L 243.466505 139.187028 \r\n",
       "L 244.076452 139.343214 \r\n",
       "L 245.296346 139.276773 \r\n",
       "L 247.126188 139.736589 \r\n",
       "L 248.346082 139.66864 \r\n",
       "L 248.956029 139.819093 \r\n",
       "L 250.785871 139.170849 \r\n",
       "L 251.395818 139.139277 \r\n",
       "L 252.005765 138.926825 \r\n",
       "L 252.615712 138.535239 \r\n",
       "L 253.225659 138.865868 \r\n",
       "L 253.835606 139.015028 \r\n",
       "L 254.445554 139.341996 \r\n",
       "L 255.055501 139.132294 \r\n",
       "L 255.665448 139.279167 \r\n",
       "L 256.275395 139.248059 \r\n",
       "L 256.885342 139.040652 \r\n",
       "L 258.105237 139.331284 \r\n",
       "L 258.715184 139.3004 \r\n",
       "L 259.325131 139.095428 \r\n",
       "L 260.545025 139.382092 \r\n",
       "L 261.154972 139.351432 \r\n",
       "L 261.76492 139.493086 \r\n",
       "L 262.374867 139.462277 \r\n",
       "L 262.984814 139.08953 \r\n",
       "L 264.204708 139.030934 \r\n",
       "L 265.424603 139.311021 \r\n",
       "L 267.254444 139.222461 \r\n",
       "L 267.864391 139.026337 \r\n",
       "L 268.474338 139.330754 \r\n",
       "L 269.084286 139.135483 \r\n",
       "L 270.30418 139.078362 \r\n",
       "L 270.914127 138.885569 \r\n",
       "L 271.524074 139.021904 \r\n",
       "L 272.134021 139.320962 \r\n",
       "L 272.743969 139.29219 \r\n",
       "L 273.353916 139.588713 \r\n",
       "L 273.963863 139.397236 \r\n",
       "L 274.57381 139.530109 \r\n",
       "L 275.183757 139.501072 \r\n",
       "L 275.793704 139.311509 \r\n",
       "L 277.013599 139.574695 \r\n",
       "L 277.623546 139.227257 \r\n",
       "L 278.233493 139.358341 \r\n",
       "L 278.84344 139.330282 \r\n",
       "L 280.063335 138.959656 \r\n",
       "L 280.673282 138.932963 \r\n",
       "L 281.893176 138.567689 \r\n",
       "L 282.503123 138.698044 \r\n",
       "L 283.11307 138.672379 \r\n",
       "L 283.723018 138.956582 \r\n",
       "L 284.332965 138.930346 \r\n",
       "L 284.942912 139.058248 \r\n",
       "L 286.162806 139.005642 \r\n",
       "L 286.772753 139.132294 \r\n",
       "L 287.382701 138.648984 \r\n",
       "L 289.212542 138.574474 \r\n",
       "L 289.822489 138.399251 \r\n",
       "L 290.432436 138.52548 \r\n",
       "L 291.042384 138.501182 \r\n",
       "L 291.652331 138.178108 \r\n",
       "L 292.262278 138.452967 \r\n",
       "L 292.872225 138.280404 \r\n",
       "L 294.702067 138.210616 \r\n",
       "L 295.312014 138.040522 \r\n",
       "L 296.531908 138.288232 \r\n",
       "L 297.141855 138.265194 \r\n",
       "L 297.751802 138.096731 \r\n",
       "L 298.36175 137.783996 \r\n",
       "L 298.971697 138.052012 \r\n",
       "L 299.581644 137.741017 \r\n",
       "L 300.191591 137.863725 \r\n",
       "L 300.801538 137.842136 \r\n",
       "L 301.411485 137.53409 \r\n",
       "L 302.021433 137.656375 \r\n",
       "L 302.63138 137.635491 \r\n",
       "L 303.851274 137.310387 \r\n",
       "L 304.461221 137.573465 \r\n",
       "L 305.071168 137.552995 \r\n",
       "L 305.681116 137.814135 \r\n",
       "L 306.291063 137.933554 \r\n",
       "L 306.90101 138.192415 \r\n",
       "L 308.120904 137.87022 \r\n",
       "L 309.950746 138.22272 \r\n",
       "L 310.560693 138.063146 \r\n",
       "L 311.780587 138.020913 \r\n",
       "L 312.390534 138.273818 \r\n",
       "L 313.000482 138.115686 \r\n",
       "L 313.610429 137.685802 \r\n",
       "L 314.220376 137.665811 \r\n",
       "L 316.050217 138.011245 \r\n",
       "L 316.660165 137.990666 \r\n",
       "L 317.270112 138.238758 \r\n",
       "L 317.880059 138.351691 \r\n",
       "L 318.490006 138.330433 \r\n",
       "L 319.7099 138.820246 \r\n",
       "L 320.319848 138.798028 \r\n",
       "L 320.929795 139.040652 \r\n",
       "L 321.539742 139.018011 \r\n",
       "L 322.149689 138.863739 \r\n",
       "L 323.979531 139.190152 \r\n",
       "L 325.199425 139.144811 \r\n",
       "L 325.809372 139.382092 \r\n",
       "L 326.419319 139.359078 \r\n",
       "L 328.249161 138.904606 \r\n",
       "L 328.859108 139.1397 \r\n",
       "L 329.469055 139.245607 \r\n",
       "L 330.688949 139.200954 \r\n",
       "L 331.298897 139.306 \r\n",
       "L 331.908844 139.156699 \r\n",
       "L 332.518791 139.134729 \r\n",
       "L 333.128738 139.365557 \r\n",
       "L 333.738685 139.469277 \r\n",
       "L 334.95858 139.926309 \r\n",
       "L 335.568527 140.028058 \r\n",
       "L 336.178474 140.004422 \r\n",
       "L 336.788421 139.85624 \r\n",
       "L 337.398368 140.081848 \r\n",
       "L 338.618263 140.282396 \r\n",
       "L 339.22821 140.134909 \r\n",
       "L 339.838157 140.357891 \r\n",
       "L 341.058051 140.06455 \r\n",
       "L 341.667998 140.286215 \r\n",
       "L 342.887893 140.482786 \r\n",
       "L 343.49784 140.458778 \r\n",
       "L 344.717734 139.926582 \r\n",
       "L 345.327681 139.783072 \r\n",
       "L 346.547576 139.738602 \r\n",
       "L 347.157523 139.596434 \r\n",
       "L 347.76747 139.574695 \r\n",
       "L 348.377417 139.792168 \r\n",
       "L 349.597312 139.98623 \r\n",
       "L 350.207259 140.201433 \r\n",
       "L 350.817206 140.297175 \r\n",
       "L 351.427153 140.510804 \r\n",
       "L 352.0371 140.487451 \r\n",
       "L 352.647048 140.699762 \r\n",
       "L 353.256995 140.793649 \r\n",
       "L 354.476889 140.746138 \r\n",
       "L 355.086836 140.605735 \r\n",
       "L 355.696783 140.582472 \r\n",
       "L 356.306731 140.675613 \r\n",
       "L 356.916678 140.536237 \r\n",
       "L 357.526625 140.744912 \r\n",
       "L 359.356466 140.675133 \r\n",
       "L 359.966414 140.766932 \r\n",
       "L 361.186308 140.720606 \r\n",
       "L 361.796255 140.925909 \r\n",
       "L 362.406202 140.902514 \r\n",
       "L 363.016149 140.765524 \r\n",
       "L 363.626097 140.856014 \r\n",
       "L 364.236044 140.832909 \r\n",
       "L 364.845991 140.922894 \r\n",
       "L 365.455938 140.786972 \r\n",
       "L 366.065885 140.876683 \r\n",
       "L 367.895727 140.584345 \r\n",
       "L 368.505674 140.673749 \r\n",
       "L 369.115621 140.539965 \r\n",
       "L 369.725568 140.629088 \r\n",
       "L 369.725568 140.629088 \r\n",
       "\" style=\"fill:none;stroke:#d62728;stroke-linecap:square;stroke-width:1.5;\"/>\r\n",
       "   </g>\r\n",
       "   <g id=\"line2d_20\">\r\n",
       "    <path clip-path=\"url(#p0b7f2b3e37)\" d=\"M 65.361932 185.105455 \r\n",
       "L 65.971879 212.903182 \r\n",
       "L 66.581826 185.105455 \r\n",
       "L 67.191773 185.105455 \r\n",
       "L 67.80172 196.224547 \r\n",
       "L 68.411668 185.105455 \r\n",
       "L 69.021615 177.163247 \r\n",
       "L 69.631562 171.206592 \r\n",
       "L 70.241509 172.75091 \r\n",
       "L 70.851456 168.426822 \r\n",
       "L 71.461403 174.997192 \r\n",
       "L 72.071351 166.573634 \r\n",
       "L 72.681298 167.999158 \r\n",
       "L 73.291245 173.192144 \r\n",
       "L 73.901192 170.280002 \r\n",
       "L 74.511139 171.206592 \r\n",
       "L 75.121086 175.294493 \r\n",
       "L 75.731034 169.66227 \r\n",
       "L 76.340981 161.696841 \r\n",
       "L 76.950928 162.867274 \r\n",
       "L 77.560875 166.573634 \r\n",
       "L 78.170822 164.888924 \r\n",
       "L 79.390717 166.573634 \r\n",
       "L 80.000664 162.867274 \r\n",
       "L 80.610611 157.307725 \r\n",
       "L 81.220558 160.396361 \r\n",
       "L 81.830505 159.293281 \r\n",
       "L 82.440452 156.349182 \r\n",
       "L 83.0504 157.307725 \r\n",
       "L 83.660347 156.411025 \r\n",
       "L 84.270294 157.307725 \r\n",
       "L 84.880241 156.465371 \r\n",
       "L 85.490188 158.942886 \r\n",
       "L 86.100135 158.101948 \r\n",
       "L 87.32003 162.566758 \r\n",
       "L 87.929977 161.696841 \r\n",
       "L 88.539924 163.722585 \r\n",
       "L 89.149871 162.867274 \r\n",
       "L 89.759819 163.409668 \r\n",
       "L 90.979713 167.004611 \r\n",
       "L 91.58966 166.152456 \r\n",
       "L 92.199607 166.573634 \r\n",
       "L 92.809554 168.185101 \r\n",
       "L 93.419502 166.179347 \r\n",
       "L 94.029449 165.415396 \r\n",
       "L 94.639396 162.413431 \r\n",
       "L 95.249343 161.755362 \r\n",
       "L 95.85929 163.303313 \r\n",
       "L 96.469237 161.584298 \r\n",
       "L 97.079185 162.0281 \r\n",
       "L 97.689132 163.484997 \r\n",
       "L 98.299079 163.878099 \r\n",
       "L 98.909026 163.264385 \r\n",
       "L 99.518973 163.647562 \r\n",
       "L 100.12892 163.058982 \r\n",
       "L 101.348815 163.793864 \r\n",
       "L 101.958762 162.320431 \r\n",
       "L 102.568709 161.791234 \r\n",
       "L 103.178656 162.161296 \r\n",
       "L 103.788603 161.65112 \r\n",
       "L 104.398551 159.446012 \r\n",
       "L 105.618445 160.211968 \r\n",
       "L 106.228392 161.39563 \r\n",
       "L 106.838339 160.93352 \r\n",
       "L 107.448286 162.073051 \r\n",
       "L 108.058234 162.39745 \r\n",
       "L 108.668181 163.484997 \r\n",
       "L 109.888075 164.069335 \r\n",
       "L 110.498022 165.091088 \r\n",
       "L 112.327864 165.860871 \r\n",
       "L 112.937811 166.808214 \r\n",
       "L 113.547758 166.341986 \r\n",
       "L 114.157705 165.200914 \r\n",
       "L 114.767652 165.443646 \r\n",
       "L 115.3776 163.00124 \r\n",
       "L 115.987547 162.60253 \r\n",
       "L 116.597494 163.521341 \r\n",
       "L 117.207441 163.772316 \r\n",
       "L 118.427335 162.993627 \r\n",
       "L 119.037283 163.242075 \r\n",
       "L 119.64723 162.867274 \r\n",
       "L 120.257177 163.111646 \r\n",
       "L 120.867124 163.955011 \r\n",
       "L 121.477071 163.584634 \r\n",
       "L 122.087018 163.81358 \r\n",
       "L 122.696966 163.45249 \r\n",
       "L 123.91686 163.898942 \r\n",
       "L 125.136754 163.204215 \r\n",
       "L 126.356649 163.637902 \r\n",
       "L 126.966596 162.75826 \r\n",
       "L 127.576543 161.35594 \r\n",
       "L 128.18649 159.446012 \r\n",
       "L 128.796437 160.219871 \r\n",
       "L 129.406384 160.454642 \r\n",
       "L 130.626279 161.940684 \r\n",
       "L 131.236226 160.623055 \r\n",
       "L 131.846173 160.845623 \r\n",
       "L 132.45612 160.563316 \r\n",
       "L 133.066067 161.278829 \r\n",
       "L 133.676015 161.489691 \r\n",
       "L 134.285962 160.721481 \r\n",
       "L 135.505856 161.141896 \r\n",
       "L 136.72575 162.49036 \r\n",
       "L 137.945645 161.014094 \r\n",
       "L 138.555592 161.213192 \r\n",
       "L 139.165539 161.864732 \r\n",
       "L 139.775486 162.053682 \r\n",
       "L 140.995381 160.643459 \r\n",
       "L 141.605328 160.837595 \r\n",
       "L 142.215275 160.153165 \r\n",
       "L 142.825222 159.913764 \r\n",
       "L 143.435169 160.109051 \r\n",
       "L 144.045116 159.873676 \r\n",
       "L 144.655064 160.066279 \r\n",
       "L 145.265011 159.834797 \r\n",
       "L 145.874958 160.024799 \r\n",
       "L 146.484905 160.626857 \r\n",
       "L 148.314747 159.945468 \r\n",
       "L 149.534641 158.707618 \r\n",
       "L 150.754535 159.082055 \r\n",
       "L 151.364482 158.482283 \r\n",
       "L 151.97443 158.27968 \r\n",
       "L 152.584377 158.465971 \r\n",
       "L 153.194324 157.499434 \r\n",
       "L 153.804271 157.688516 \r\n",
       "L 154.414218 158.253228 \r\n",
       "L 155.024165 158.434664 \r\n",
       "L 155.634113 157.867417 \r\n",
       "L 157.463954 158.405006 \r\n",
       "L 158.073901 157.852779 \r\n",
       "L 158.683848 158.029749 \r\n",
       "L 159.293796 157.487065 \r\n",
       "L 161.123637 158.011466 \r\n",
       "L 161.733584 157.832217 \r\n",
       "L 162.953479 158.171014 \r\n",
       "L 163.563426 157.307725 \r\n",
       "L 164.78332 157.646722 \r\n",
       "L 165.393267 158.15008 \r\n",
       "L 166.003214 157.97755 \r\n",
       "L 166.613162 158.139998 \r\n",
       "L 167.223109 157.96958 \r\n",
       "L 167.833056 157.472211 \r\n",
       "L 168.443003 157.307725 \r\n",
       "L 169.662897 158.277419 \r\n",
       "L 170.272845 158.111135 \r\n",
       "L 170.882792 158.266268 \r\n",
       "L 172.102686 157.939491 \r\n",
       "L 172.712633 158.092976 \r\n",
       "L 173.32258 157.620062 \r\n",
       "L 173.932528 157.773613 \r\n",
       "L 174.542475 157.307725 \r\n",
       "L 175.762369 158.224134 \r\n",
       "L 176.982263 158.516323 \r\n",
       "L 177.592211 158.960564 \r\n",
       "L 178.202158 159.101134 \r\n",
       "L 178.812105 158.942886 \r\n",
       "L 179.422052 159.082055 \r\n",
       "L 180.031999 159.513894 \r\n",
       "L 180.641946 158.770769 \r\n",
       "L 181.251894 159.199717 \r\n",
       "L 181.861841 158.176407 \r\n",
       "L 183.081735 157.880879 \r\n",
       "L 185.521524 158.43087 \r\n",
       "L 186.741418 159.253566 \r\n",
       "L 187.351365 159.10559 \r\n",
       "L 188.57126 159.909489 \r\n",
       "L 189.791154 160.155303 \r\n",
       "L 190.401101 160.00654 \r\n",
       "L 191.011048 160.12779 \r\n",
       "L 191.620995 160.515159 \r\n",
       "L 192.230943 160.366811 \r\n",
       "L 192.84089 159.955128 \r\n",
       "L 193.450837 159.810839 \r\n",
       "L 194.060784 159.930159 \r\n",
       "L 194.670731 159.787336 \r\n",
       "L 195.890626 160.540021 \r\n",
       "L 197.11052 160.254028 \r\n",
       "L 198.330414 160.988702 \r\n",
       "L 198.940361 161.098329 \r\n",
       "L 199.550309 160.703827 \r\n",
       "L 200.160256 160.563316 \r\n",
       "L 200.770203 160.673374 \r\n",
       "L 201.990097 161.384728 \r\n",
       "L 202.600044 161.489691 \r\n",
       "L 203.209992 160.858977 \r\n",
       "L 205.039833 160.450077 \r\n",
       "L 205.64978 160.79749 \r\n",
       "L 206.259727 160.902263 \r\n",
       "L 206.869675 160.767534 \r\n",
       "L 208.089569 160.97466 \r\n",
       "L 208.699516 160.84134 \r\n",
       "L 209.309463 160.943718 \r\n",
       "L 210.529358 160.680673 \r\n",
       "L 211.139305 160.782446 \r\n",
       "L 212.969146 160.396361 \r\n",
       "L 213.579093 160.497629 \r\n",
       "L 214.189041 160.144235 \r\n",
       "L 215.408935 159.896184 \r\n",
       "L 216.018882 159.549484 \r\n",
       "L 216.628829 159.652119 \r\n",
       "L 217.848724 159.411938 \r\n",
       "L 219.068618 158.296581 \r\n",
       "L 219.678565 157.964369 \r\n",
       "L 220.288512 158.288826 \r\n",
       "L 221.508407 158.064867 \r\n",
       "L 222.118354 157.523218 \r\n",
       "L 223.338248 157.735389 \r\n",
       "L 223.948195 157.627245 \r\n",
       "L 224.558142 157.095529 \r\n",
       "L 225.16809 156.990641 \r\n",
       "L 225.778037 157.307725 \r\n",
       "L 226.387984 157.202829 \r\n",
       "L 226.997931 157.307725 \r\n",
       "L 227.607878 157.620062 \r\n",
       "L 228.217825 157.515174 \r\n",
       "L 228.827773 156.997716 \r\n",
       "L 230.047667 157.205156 \r\n",
       "L 231.267561 156.594963 \r\n",
       "L 232.487456 157.206648 \r\n",
       "L 233.097403 156.904865 \r\n",
       "L 233.70735 156.805966 \r\n",
       "L 234.317297 156.507795 \r\n",
       "L 234.927244 156.809561 \r\n",
       "L 236.147139 156.61526 \r\n",
       "L 236.757086 156.913431 \r\n",
       "L 239.196874 157.307725 \r\n",
       "L 240.416769 157.114691 \r\n",
       "L 241.026716 156.63443 \r\n",
       "L 242.24661 156.830107 \r\n",
       "L 242.856557 157.117334 \r\n",
       "L 243.466505 157.212853 \r\n",
       "L 244.076452 157.118626 \r\n",
       "L 244.686399 157.213499 \r\n",
       "L 245.296346 156.744264 \r\n",
       "L 245.906293 156.83975 \r\n",
       "L 246.51624 156.374922 \r\n",
       "L 247.736135 156.195822 \r\n",
       "L 248.346082 156.291863 \r\n",
       "L 248.956029 156.571361 \r\n",
       "L 249.565976 156.298573 \r\n",
       "L 250.785871 156.122911 \r\n",
       "L 251.395818 156.217618 \r\n",
       "L 252.005765 156.492808 \r\n",
       "L 252.615712 156.224701 \r\n",
       "L 253.835606 156.769705 \r\n",
       "L 254.445554 156.860817 \r\n",
       "L 255.055501 156.77316 \r\n",
       "L 255.665448 156.508433 \r\n",
       "L 256.885342 156.690001 \r\n",
       "L 257.495289 156.603985 \r\n",
       "L 258.105237 156.693895 \r\n",
       "L 258.715184 156.958075 \r\n",
       "L 259.325131 157.046312 \r\n",
       "L 259.935078 156.960254 \r\n",
       "L 260.545025 157.047936 \r\n",
       "L 261.154972 157.307725 \r\n",
       "L 261.76492 157.221667 \r\n",
       "L 262.374867 156.964545 \r\n",
       "L 262.984814 157.051133 \r\n",
       "L 263.594761 157.307725 \r\n",
       "L 264.204708 156.882687 \r\n",
       "L 264.814655 156.968729 \r\n",
       "L 265.424603 156.885272 \r\n",
       "L 266.03455 156.970783 \r\n",
       "L 267.864391 156.723396 \r\n",
       "L 268.474338 156.475461 \r\n",
       "L 269.694233 156.645879 \r\n",
       "L 270.30418 156.235413 \r\n",
       "L 270.914127 156.320825 \r\n",
       "L 271.524074 156.569737 \r\n",
       "L 272.134021 156.490149 \r\n",
       "L 272.743969 156.084952 \r\n",
       "L 273.353916 155.844689 \r\n",
       "L 273.963863 155.76791 \r\n",
       "L 275.183757 156.260275 \r\n",
       "L 275.793704 156.343648 \r\n",
       "L 276.403652 155.945883 \r\n",
       "L 278.84344 155.644613 \r\n",
       "L 280.673282 155.894288 \r\n",
       "L 281.283229 155.81996 \r\n",
       "L 282.503123 155.049647 \r\n",
       "L 283.11307 154.97831 \r\n",
       "L 283.723018 155.062231 \r\n",
       "L 284.332965 154.682384 \r\n",
       "L 284.942912 154.612655 \r\n",
       "L 285.552859 154.69689 \r\n",
       "L 286.162806 154.627508 \r\n",
       "L 287.382701 155.099146 \r\n",
       "L 288.602595 155.262663 \r\n",
       "L 289.212542 155.494832 \r\n",
       "L 290.432436 155.354371 \r\n",
       "L 291.042384 155.584419 \r\n",
       "L 291.652331 155.663775 \r\n",
       "L 292.262278 155.444612 \r\n",
       "L 292.872225 155.375264 \r\n",
       "L 293.482172 155.158039 \r\n",
       "L 294.092119 155.237685 \r\n",
       "L 294.702067 155.169439 \r\n",
       "L 295.312014 155.248637 \r\n",
       "L 295.921961 155.474105 \r\n",
       "L 296.531908 155.405775 \r\n",
       "L 297.751802 155.561273 \r\n",
       "L 298.971697 155.136028 \r\n",
       "L 300.191591 155.003254 \r\n",
       "L 300.801538 154.793726 \r\n",
       "L 301.411485 154.728561 \r\n",
       "L 302.021433 154.80665 \r\n",
       "L 302.63138 154.741783 \r\n",
       "L 303.241327 154.819441 \r\n",
       "L 304.461221 154.407708 \r\n",
       "L 305.071168 154.485622 \r\n",
       "L 305.681116 154.422396 \r\n",
       "L 306.291063 154.219089 \r\n",
       "L 308.120904 154.033312 \r\n",
       "L 308.730851 154.110986 \r\n",
       "L 309.340799 154.326927 \r\n",
       "L 309.950746 154.403491 \r\n",
       "L 310.560693 154.617625 \r\n",
       "L 311.17064 154.555476 \r\n",
       "L 311.780587 154.356361 \r\n",
       "L 312.390534 153.884359 \r\n",
       "L 313.000482 153.824471 \r\n",
       "L 314.830323 154.05336 \r\n",
       "L 315.44027 154.264181 \r\n",
       "L 316.050217 154.069159 \r\n",
       "L 317.270112 153.950518 \r\n",
       "L 317.880059 154.025591 \r\n",
       "L 318.490006 154.233943 \r\n",
       "L 319.099953 154.307972 \r\n",
       "L 319.7099 154.115642 \r\n",
       "L 320.319848 154.056923 \r\n",
       "L 320.929795 154.263212 \r\n",
       "L 322.149689 154.409389 \r\n",
       "L 322.759636 154.350521 \r\n",
       "L 323.369583 154.423058 \r\n",
       "L 325.199425 154.248026 \r\n",
       "L 325.809372 153.930437 \r\n",
       "L 326.419319 154.003107 \r\n",
       "L 327.029266 153.81685 \r\n",
       "L 327.639214 153.760458 \r\n",
       "L 328.249161 153.833013 \r\n",
       "L 328.859108 153.776836 \r\n",
       "L 329.469055 153.464723 \r\n",
       "L 331.298897 153.300278 \r\n",
       "L 332.518791 153.698458 \r\n",
       "L 333.738685 153.588756 \r\n",
       "L 334.348632 153.66006 \r\n",
       "L 336.178474 153.497256 \r\n",
       "L 336.788421 153.692775 \r\n",
       "L 337.398368 153.638678 \r\n",
       "L 338.008315 153.708913 \r\n",
       "L 338.618263 153.531197 \r\n",
       "L 339.22821 153.47782 \r\n",
       "L 339.838157 153.301405 \r\n",
       "L 341.058051 153.441817 \r\n",
       "L 341.667998 153.389103 \r\n",
       "L 342.887893 153.772056 \r\n",
       "L 343.49784 153.840618 \r\n",
       "L 344.107787 153.78749 \r\n",
       "L 344.717734 153.85572 \r\n",
       "L 345.327681 153.8028 \r\n",
       "L 347.157523 154.005626 \r\n",
       "L 347.76747 153.833013 \r\n",
       "L 351.427153 153.522506 \r\n",
       "L 352.0371 153.58956 \r\n",
       "L 352.647048 153.185183 \r\n",
       "L 353.256995 153.370206 \r\n",
       "L 353.866942 153.202581 \r\n",
       "L 354.476889 153.269742 \r\n",
       "L 355.086836 153.103027 \r\n",
       "L 355.696783 153.170122 \r\n",
       "L 356.306731 153.35324 \r\n",
       "L 356.916678 153.419532 \r\n",
       "L 357.526625 153.253894 \r\n",
       "L 359.356466 153.106416 \r\n",
       "L 359.966414 152.942799 \r\n",
       "L 360.576361 153.009107 \r\n",
       "L 361.186308 152.73197 \r\n",
       "L 361.796255 152.684286 \r\n",
       "L 363.626097 152.882787 \r\n",
       "L 367.28578 152.60005 \r\n",
       "L 369.115621 152.79547 \r\n",
       "L 369.725568 152.748904 \r\n",
       "L 369.725568 152.748904 \r\n",
       "\" style=\"fill:none;stroke:#9467bd;stroke-linecap:square;stroke-width:1.5;\"/>\r\n",
       "   </g>\r\n",
       "   <g id=\"line2d_21\">\r\n",
       "    <path clip-path=\"url(#p0b7f2b3e37)\" d=\"M 65.361932 240.700909 \r\n",
       "L 65.971879 212.903182 \r\n",
       "L 66.581826 203.637271 \r\n",
       "L 67.191773 199.004317 \r\n",
       "L 67.80172 151.748185 \r\n",
       "L 68.411668 129.51 \r\n",
       "L 69.021615 137.452207 \r\n",
       "L 69.631562 136.459433 \r\n",
       "L 70.241509 135.687272 \r\n",
       "L 70.851456 140.629088 \r\n",
       "L 71.461403 134.564136 \r\n",
       "L 72.071351 134.142958 \r\n",
       "L 72.681298 125.233427 \r\n",
       "L 74.511139 126.035287 \r\n",
       "L 75.121086 129.51 \r\n",
       "L 76.950928 129.51 \r\n",
       "L 77.560875 132.157402 \r\n",
       "L 78.170822 137.091199 \r\n",
       "L 78.780769 136.761581 \r\n",
       "L 79.390717 134.142958 \r\n",
       "L 80.000664 136.18146 \r\n",
       "L 80.610611 140.201433 \r\n",
       "L 81.220558 139.805457 \r\n",
       "L 81.830505 133.481104 \r\n",
       "L 82.440452 135.261257 \r\n",
       "L 83.0504 135.069548 \r\n",
       "L 83.660347 136.683608 \r\n",
       "L 84.270294 134.722077 \r\n",
       "L 84.880241 134.564136 \r\n",
       "L 85.490188 137.685802 \r\n",
       "L 86.100135 137.452207 \r\n",
       "L 86.710083 138.775908 \r\n",
       "L 87.32003 138.52548 \r\n",
       "L 87.929977 139.751268 \r\n",
       "L 88.539924 136.637622 \r\n",
       "L 89.149871 139.239203 \r\n",
       "L 89.759819 136.289935 \r\n",
       "L 90.369766 136.128506 \r\n",
       "L 90.979713 134.681674 \r\n",
       "L 91.58966 132.037064 \r\n",
       "L 92.809554 131.927196 \r\n",
       "L 93.419502 130.692884 \r\n",
       "L 94.029449 130.668238 \r\n",
       "L 94.639396 132.913807 \r\n",
       "L 96.469237 135.92486 \r\n",
       "L 97.079185 133.705883 \r\n",
       "L 98.909026 136.459433 \r\n",
       "L 100.12892 136.2198 \r\n",
       "L 101.348815 137.849318 \r\n",
       "L 101.958762 139.535411 \r\n",
       "L 102.568709 137.580308 \r\n",
       "L 103.178656 136.56974 \r\n",
       "L 103.788603 137.328116 \r\n",
       "L 104.398551 138.918466 \r\n",
       "L 105.008498 138.775908 \r\n",
       "L 106.228392 141.773706 \r\n",
       "L 108.058234 141.255519 \r\n",
       "L 108.668181 140.320231 \r\n",
       "L 109.278128 140.933721 \r\n",
       "L 110.498022 139.146551 \r\n",
       "L 111.107969 139.751268 \r\n",
       "L 112.937811 139.362359 \r\n",
       "L 113.547758 140.629088 \r\n",
       "L 114.157705 139.805457 \r\n",
       "L 115.3776 142.23667 \r\n",
       "L 115.987547 142.085166 \r\n",
       "L 117.207441 139.206886 \r\n",
       "L 117.817388 138.456397 \r\n",
       "L 118.427335 138.354731 \r\n",
       "L 119.037283 137.630686 \r\n",
       "L 119.64723 138.158184 \r\n",
       "L 120.257177 136.841268 \r\n",
       "L 120.867124 136.761581 \r\n",
       "L 121.477071 137.879208 \r\n",
       "L 122.087018 138.381614 \r\n",
       "L 122.696966 137.703016 \r\n",
       "L 123.306913 138.19679 \r\n",
       "L 123.91686 139.253535 \r\n",
       "L 125.136754 140.179835 \r\n",
       "L 125.746701 139.517185 \r\n",
       "L 126.356649 140.519006 \r\n",
       "L 126.966596 139.866015 \r\n",
       "L 127.576543 139.765476 \r\n",
       "L 128.18649 140.201433 \r\n",
       "L 129.406384 139.999708 \r\n",
       "L 130.626279 140.835005 \r\n",
       "L 131.236226 140.731102 \r\n",
       "L 131.846173 140.123676 \r\n",
       "L 134.285962 141.701989 \r\n",
       "L 134.895909 140.629088 \r\n",
       "L 135.505856 140.053971 \r\n",
       "L 136.115803 139.013496 \r\n",
       "L 136.72575 138.461815 \r\n",
       "L 137.335698 138.386585 \r\n",
       "L 137.945645 137.849318 \r\n",
       "L 138.555592 137.780401 \r\n",
       "L 139.165539 138.168308 \r\n",
       "L 139.775486 138.097916 \r\n",
       "L 140.385433 138.925358 \r\n",
       "L 141.605328 139.658376 \r\n",
       "L 144.045116 137.635491 \r\n",
       "L 145.265011 138.354731 \r\n",
       "L 147.094852 138.158184 \r\n",
       "L 147.704799 136.868226 \r\n",
       "L 148.314747 136.814518 \r\n",
       "L 149.534641 138.309283 \r\n",
       "L 150.754535 138.184471 \r\n",
       "L 151.364482 138.514901 \r\n",
       "L 151.97443 138.063146 \r\n",
       "L 152.584377 138.775908 \r\n",
       "L 153.194324 139.095428 \r\n",
       "L 153.804271 139.029775 \r\n",
       "L 154.414218 138.586809 \r\n",
       "L 155.024165 139.276773 \r\n",
       "L 155.634113 139.584347 \r\n",
       "L 156.24406 139.146551 \r\n",
       "L 157.463954 139.751268 \r\n",
       "L 158.073901 139.684331 \r\n",
       "L 159.903743 140.557818 \r\n",
       "L 160.51369 140.133335 \r\n",
       "L 161.123637 140.76984 \r\n",
       "L 162.953479 141.595974 \r\n",
       "L 164.173373 142.811978 \r\n",
       "L 166.613162 143.824999 \r\n",
       "L 167.223109 143.739794 \r\n",
       "L 167.833056 143.32662 \r\n",
       "L 168.443003 143.24535 \r\n",
       "L 170.272845 143.971243 \r\n",
       "L 170.882792 143.249111 \r\n",
       "L 171.492739 142.852911 \r\n",
       "L 172.102686 142.777101 \r\n",
       "L 172.712633 143.016246 \r\n",
       "L 173.32258 142.940361 \r\n",
       "L 174.542475 143.408867 \r\n",
       "L 175.152422 143.332079 \r\n",
       "L 175.762369 143.867067 \r\n",
       "L 176.372316 144.092418 \r\n",
       "L 177.592211 143.934767 \r\n",
       "L 178.202158 143.558317 \r\n",
       "L 178.812105 143.780495 \r\n",
       "L 180.641946 143.555169 \r\n",
       "L 181.861841 143.987986 \r\n",
       "L 182.471788 143.912971 \r\n",
       "L 183.081735 144.125299 \r\n",
       "L 183.691682 144.620563 \r\n",
       "L 184.301629 143.976164 \r\n",
       "L 184.911577 144.184946 \r\n",
       "L 185.521524 144.672399 \r\n",
       "L 186.131471 144.316833 \r\n",
       "L 186.741418 144.242796 \r\n",
       "L 187.351365 144.446094 \r\n",
       "L 187.961312 144.372157 \r\n",
       "L 189.181207 143.136336 \r\n",
       "L 190.401101 143.004043 \r\n",
       "L 191.011048 142.401703 \r\n",
       "L 191.620995 142.339719 \r\n",
       "L 192.230943 142.810346 \r\n",
       "L 194.060784 143.408867 \r\n",
       "L 194.670731 143.343611 \r\n",
       "L 195.280678 143.538757 \r\n",
       "L 196.500573 143.408867 \r\n",
       "L 197.720467 142.771302 \r\n",
       "L 198.940361 143.661573 \r\n",
       "L 199.550309 143.849098 \r\n",
       "L 200.160256 143.784513 \r\n",
       "L 200.770203 143.96981 \r\n",
       "L 201.38015 143.657058 \r\n",
       "L 201.990097 143.100001 \r\n",
       "L 204.429886 143.833722 \r\n",
       "L 205.039833 143.77144 \r\n",
       "L 205.64978 144.191052 \r\n",
       "L 207.479622 144.715593 \r\n",
       "L 208.089569 144.177739 \r\n",
       "L 208.699516 144.586738 \r\n",
       "L 209.91941 144.460037 \r\n",
       "L 210.529358 144.164873 \r\n",
       "L 211.139305 144.103809 \r\n",
       "L 212.359199 144.442665 \r\n",
       "L 212.969146 144.381211 \r\n",
       "L 213.579093 144.77597 \r\n",
       "L 214.189041 144.713655 \r\n",
       "L 214.798988 145.103848 \r\n",
       "L 215.408935 145.040713 \r\n",
       "L 216.018882 145.426442 \r\n",
       "L 216.628829 145.585792 \r\n",
       "L 217.238776 145.076725 \r\n",
       "L 217.848724 145.014709 \r\n",
       "L 218.458671 145.394414 \r\n",
       "L 219.678565 145.7071 \r\n",
       "L 220.288512 145.643583 \r\n",
       "L 221.508407 145.950677 \r\n",
       "L 222.118354 146.317931 \r\n",
       "L 225.16809 147.055339 \r\n",
       "L 225.778037 146.988874 \r\n",
       "L 226.387984 146.71312 \r\n",
       "L 228.217825 146.52055 \r\n",
       "L 228.827773 146.870664 \r\n",
       "L 229.43772 146.806369 \r\n",
       "L 230.047667 146.947692 \r\n",
       "L 230.657614 147.292371 \r\n",
       "L 231.267561 147.430878 \r\n",
       "L 231.877508 147.365473 \r\n",
       "L 232.487456 147.502712 \r\n",
       "L 233.70735 147.372804 \r\n",
       "L 234.317297 147.708512 \r\n",
       "L 236.147139 147.514227 \r\n",
       "L 236.757086 147.647522 \r\n",
       "L 237.367033 147.976337 \r\n",
       "L 237.97698 147.911313 \r\n",
       "L 238.586927 148.236889 \r\n",
       "L 239.196874 148.365802 \r\n",
       "L 240.416769 149.00702 \r\n",
       "L 241.026716 149.131924 \r\n",
       "L 241.636663 148.297431 \r\n",
       "L 242.856557 147.787959 \r\n",
       "L 244.076452 147.663619 \r\n",
       "L 245.296346 147.916607 \r\n",
       "L 245.906293 147.667438 \r\n",
       "L 247.126188 148.289735 \r\n",
       "L 248.956029 148.655457 \r\n",
       "L 249.565976 148.959236 \r\n",
       "L 250.175923 149.078142 \r\n",
       "L 250.785871 149.013979 \r\n",
       "L 252.005765 149.249106 \r\n",
       "L 252.615712 149.185018 \r\n",
       "L 253.225659 149.301264 \r\n",
       "L 253.835606 149.058077 \r\n",
       "L 254.445554 148.995223 \r\n",
       "L 255.055501 149.110964 \r\n",
       "L 255.665448 149.403585 \r\n",
       "L 256.275395 149.517279 \r\n",
       "L 256.885342 149.806752 \r\n",
       "L 258.105237 150.02946 \r\n",
       "L 258.715184 149.964933 \r\n",
       "L 259.325131 150.075091 \r\n",
       "L 260.545025 149.946956 \r\n",
       "L 261.76492 149.476172 \r\n",
       "L 262.374867 149.757725 \r\n",
       "L 262.984814 149.86649 \r\n",
       "L 263.594761 149.633509 \r\n",
       "L 266.03455 149.389584 \r\n",
       "L 266.644497 149.497488 \r\n",
       "L 267.254444 149.269834 \r\n",
       "L 267.864391 149.210493 \r\n",
       "L 268.474338 148.818601 \r\n",
       "L 269.084286 148.926919 \r\n",
       "L 269.694233 148.869135 \r\n",
       "L 270.30418 149.141633 \r\n",
       "L 270.914127 149.083551 \r\n",
       "L 272.743969 149.400453 \r\n",
       "L 273.353916 149.179741 \r\n",
       "L 273.963863 149.28448 \r\n",
       "L 274.57381 149.065375 \r\n",
       "L 275.183757 149.169841 \r\n",
       "L 275.793704 149.113027 \r\n",
       "L 276.403652 149.376967 \r\n",
       "L 278.84344 149.784127 \r\n",
       "L 279.453387 149.726534 \r\n",
       "L 280.063335 149.82675 \r\n",
       "L 280.673282 149.769364 \r\n",
       "L 281.283229 149.868901 \r\n",
       "L 281.893176 150.124043 \r\n",
       "L 282.503123 150.066301 \r\n",
       "L 283.11307 150.319471 \r\n",
       "L 283.723018 150.261506 \r\n",
       "L 284.332965 150.3583 \r\n",
       "L 284.942912 149.992537 \r\n",
       "L 285.552859 150.243114 \r\n",
       "L 286.772753 149.823726 \r\n",
       "L 287.382701 149.768072 \r\n",
       "L 287.992648 149.560822 \r\n",
       "L 288.602595 149.809162 \r\n",
       "L 289.212542 149.451849 \r\n",
       "L 290.432436 149.344053 \r\n",
       "L 291.042384 149.590298 \r\n",
       "L 291.652331 149.685775 \r\n",
       "L 292.262278 149.631678 \r\n",
       "L 292.872225 149.726534 \r\n",
       "L 294.092119 150.210432 \r\n",
       "L 294.702067 150.302994 \r\n",
       "L 295.312014 150.247985 \r\n",
       "L 295.921961 149.753202 \r\n",
       "L 296.531908 149.992537 \r\n",
       "L 297.751802 149.885296 \r\n",
       "L 298.36175 149.977261 \r\n",
       "L 298.971697 149.923959 \r\n",
       "L 299.581644 150.015336 \r\n",
       "L 300.191591 149.962216 \r\n",
       "L 300.801538 150.053021 \r\n",
       "L 301.411485 150.000076 \r\n",
       "L 302.021433 149.80449 \r\n",
       "L 302.63138 149.752448 \r\n",
       "L 303.241327 149.842863 \r\n",
       "L 303.851274 149.790995 \r\n",
       "L 304.461221 150.022319 \r\n",
       "L 305.681116 149.918458 \r\n",
       "L 306.90101 150.375805 \r\n",
       "L 308.120904 150.549884 \r\n",
       "L 309.340799 150.16766 \r\n",
       "L 309.950746 150.392871 \r\n",
       "L 310.560693 150.479003 \r\n",
       "L 311.17064 150.427102 \r\n",
       "L 311.780587 150.650001 \r\n",
       "L 312.390534 150.734866 \r\n",
       "L 313.000482 150.955918 \r\n",
       "L 313.610429 151.039615 \r\n",
       "L 314.220376 150.851046 \r\n",
       "L 315.44027 150.747193 \r\n",
       "L 316.050217 150.560704 \r\n",
       "L 316.660165 150.778964 \r\n",
       "L 317.270112 150.593303 \r\n",
       "L 317.880059 150.27457 \r\n",
       "L 318.490006 150.491944 \r\n",
       "L 319.099953 150.441624 \r\n",
       "L 319.7099 150.258548 \r\n",
       "L 320.319848 150.341715 \r\n",
       "L 320.929795 150.027373 \r\n",
       "L 321.539742 149.846583 \r\n",
       "L 323.369583 149.702692 \r\n",
       "L 323.979531 149.785991 \r\n",
       "L 325.199425 150.211824 \r\n",
       "L 325.809372 150.163452 \r\n",
       "L 326.419319 150.244904 \r\n",
       "L 327.639214 150.664656 \r\n",
       "L 328.249161 150.486989 \r\n",
       "L 328.859108 150.181752 \r\n",
       "L 329.469055 150.390319 \r\n",
       "L 330.079002 150.214517 \r\n",
       "L 331.298897 150.11976 \r\n",
       "L 331.908844 149.945772 \r\n",
       "L 332.518791 150.025865 \r\n",
       "L 333.128738 149.852887 \r\n",
       "L 333.738685 150.058886 \r\n",
       "L 334.95858 150.21711 \r\n",
       "L 335.568527 150.170477 \r\n",
       "L 336.178474 150.24898 \r\n",
       "L 336.788421 150.202479 \r\n",
       "L 338.008315 150.3583 \r\n",
       "L 338.618263 150.559503 \r\n",
       "L 339.22821 150.636274 \r\n",
       "L 339.838157 150.466163 \r\n",
       "L 341.058051 150.373634 \r\n",
       "L 341.667998 150.08277 \r\n",
       "L 342.277946 150.037554 \r\n",
       "L 343.49784 149.704415 \r\n",
       "L 344.107787 149.903091 \r\n",
       "L 344.717734 149.979787 \r\n",
       "L 345.937629 149.890979 \r\n",
       "L 347.76747 150.118658 \r\n",
       "L 348.377417 149.954785 \r\n",
       "L 348.987365 150.030214 \r\n",
       "L 349.597312 149.986274 \r\n",
       "L 350.207259 149.823726 \r\n",
       "L 351.427153 149.737287 \r\n",
       "L 352.0371 149.576297 \r\n",
       "L 352.647048 149.651577 \r\n",
       "L 353.256995 149.608996 \r\n",
       "L 353.866942 149.683878 \r\n",
       "L 355.086836 150.066301 \r\n",
       "L 355.696783 150.023206 \r\n",
       "L 357.526625 150.242476 \r\n",
       "L 358.136572 150.199373 \r\n",
       "L 358.746519 150.271786 \r\n",
       "L 359.356466 150.228807 \r\n",
       "L 360.576361 150.487255 \r\n",
       "L 361.186308 150.558484 \r\n",
       "L 361.796255 150.172788 \r\n",
       "L 362.406202 150.130447 \r\n",
       "L 363.626097 150.273203 \r\n",
       "L 364.845991 150.188802 \r\n",
       "L 366.065885 150.330158 \r\n",
       "L 366.675832 150.288098 \r\n",
       "L 367.895727 150.428212 \r\n",
       "L 368.505674 150.38621 \r\n",
       "L 369.725568 150.636274 \r\n",
       "L 369.725568 150.636274 \r\n",
       "\" style=\"fill:none;stroke:#8c564b;stroke-linecap:square;stroke-width:1.5;\"/>\r\n",
       "   </g>\r\n",
       "   <g id=\"line2d_22\">\r\n",
       "    <path clip-path=\"url(#p0b7f2b3e37)\" d=\"M 50.14375 147.856501 \r\n",
       "L 384.94375 147.856501 \r\n",
       "\" style=\"fill:none;stroke:#000000;stroke-dasharray:5.55,2.4;stroke-dashoffset:0;stroke-width:1.5;\"/>\r\n",
       "   </g>\r\n",
       "   <g id=\"patch_3\">\r\n",
       "    <path d=\"M 50.14375 251.82 \r\n",
       "L 50.14375 7.2 \r\n",
       "\" style=\"fill:none;stroke:#000000;stroke-linecap:square;stroke-linejoin:miter;stroke-width:0.8;\"/>\r\n",
       "   </g>\r\n",
       "   <g id=\"patch_4\">\r\n",
       "    <path d=\"M 384.94375 251.82 \r\n",
       "L 384.94375 7.2 \r\n",
       "\" style=\"fill:none;stroke:#000000;stroke-linecap:square;stroke-linejoin:miter;stroke-width:0.8;\"/>\r\n",
       "   </g>\r\n",
       "   <g id=\"patch_5\">\r\n",
       "    <path d=\"M 50.14375 251.82 \r\n",
       "L 384.94375 251.82 \r\n",
       "\" style=\"fill:none;stroke:#000000;stroke-linecap:square;stroke-linejoin:miter;stroke-width:0.8;\"/>\r\n",
       "   </g>\r\n",
       "   <g id=\"patch_6\">\r\n",
       "    <path d=\"M 50.14375 7.2 \r\n",
       "L 384.94375 7.2 \r\n",
       "\" style=\"fill:none;stroke:#000000;stroke-linecap:square;stroke-linejoin:miter;stroke-width:0.8;\"/>\r\n",
       "   </g>\r\n",
       "   <g id=\"legend_1\">\r\n",
       "    <g id=\"patch_7\">\r\n",
       "     <path d=\"M 302.089063 103.26875 \r\n",
       "L 377.94375 103.26875 \r\n",
       "Q 379.94375 103.26875 379.94375 101.26875 \r\n",
       "L 379.94375 14.2 \r\n",
       "Q 379.94375 12.2 377.94375 12.2 \r\n",
       "L 302.089063 12.2 \r\n",
       "Q 300.089063 12.2 300.089063 14.2 \r\n",
       "L 300.089063 101.26875 \r\n",
       "Q 300.089063 103.26875 302.089063 103.26875 \r\n",
       "z\r\n",
       "\" style=\"fill:#ffffff;opacity:0.8;stroke:#cccccc;stroke-linejoin:miter;\"/>\r\n",
       "    </g>\r\n",
       "    <g id=\"line2d_23\">\r\n",
       "     <path d=\"M 304.089063 20.298437 \r\n",
       "L 324.089063 20.298437 \r\n",
       "\" style=\"fill:none;stroke:#1f77b4;stroke-linecap:square;stroke-width:1.5;\"/>\r\n",
       "    </g>\r\n",
       "    <g id=\"line2d_24\"/>\r\n",
       "    <g id=\"text_18\">\r\n",
       "     <!-- P(die=1) -->\r\n",
       "     <g transform=\"translate(332.089063 23.798437)scale(0.1 -0.1)\">\r\n",
       "      <defs>\r\n",
       "       <path d=\"M 1259 4147 \r\n",
       "L 1259 2394 \r\n",
       "L 2053 2394 \r\n",
       "Q 2494 2394 2734 2622 \r\n",
       "Q 2975 2850 2975 3272 \r\n",
       "Q 2975 3691 2734 3919 \r\n",
       "Q 2494 4147 2053 4147 \r\n",
       "L 1259 4147 \r\n",
       "z\r\n",
       "M 628 4666 \r\n",
       "L 2053 4666 \r\n",
       "Q 2838 4666 3239 4311 \r\n",
       "Q 3641 3956 3641 3272 \r\n",
       "Q 3641 2581 3239 2228 \r\n",
       "Q 2838 1875 2053 1875 \r\n",
       "L 1259 1875 \r\n",
       "L 1259 0 \r\n",
       "L 628 0 \r\n",
       "L 628 4666 \r\n",
       "z\r\n",
       "\" id=\"DejaVuSans-50\" transform=\"scale(0.015625)\"/>\r\n",
       "       <path d=\"M 1984 4856 \r\n",
       "Q 1566 4138 1362 3434 \r\n",
       "Q 1159 2731 1159 2009 \r\n",
       "Q 1159 1288 1364 580 \r\n",
       "Q 1569 -128 1984 -844 \r\n",
       "L 1484 -844 \r\n",
       "Q 1016 -109 783 600 \r\n",
       "Q 550 1309 550 2009 \r\n",
       "Q 550 2706 781 3412 \r\n",
       "Q 1013 4119 1484 4856 \r\n",
       "L 1984 4856 \r\n",
       "z\r\n",
       "\" id=\"DejaVuSans-28\" transform=\"scale(0.015625)\"/>\r\n",
       "       <path d=\"M 678 2906 \r\n",
       "L 4684 2906 \r\n",
       "L 4684 2381 \r\n",
       "L 678 2381 \r\n",
       "L 678 2906 \r\n",
       "z\r\n",
       "M 678 1631 \r\n",
       "L 4684 1631 \r\n",
       "L 4684 1100 \r\n",
       "L 678 1100 \r\n",
       "L 678 1631 \r\n",
       "z\r\n",
       "\" id=\"DejaVuSans-3d\" transform=\"scale(0.015625)\"/>\r\n",
       "       <path d=\"M 513 4856 \r\n",
       "L 1013 4856 \r\n",
       "Q 1481 4119 1714 3412 \r\n",
       "Q 1947 2706 1947 2009 \r\n",
       "Q 1947 1309 1714 600 \r\n",
       "Q 1481 -109 1013 -844 \r\n",
       "L 513 -844 \r\n",
       "Q 928 -128 1133 580 \r\n",
       "Q 1338 1288 1338 2009 \r\n",
       "Q 1338 2731 1133 3434 \r\n",
       "Q 928 4138 513 4856 \r\n",
       "z\r\n",
       "\" id=\"DejaVuSans-29\" transform=\"scale(0.015625)\"/>\r\n",
       "      </defs>\r\n",
       "      <use xlink:href=\"#DejaVuSans-50\"/>\r\n",
       "      <use x=\"60.302734\" xlink:href=\"#DejaVuSans-28\"/>\r\n",
       "      <use x=\"99.316406\" xlink:href=\"#DejaVuSans-64\"/>\r\n",
       "      <use x=\"162.792969\" xlink:href=\"#DejaVuSans-69\"/>\r\n",
       "      <use x=\"190.576172\" xlink:href=\"#DejaVuSans-65\"/>\r\n",
       "      <use x=\"252.099609\" xlink:href=\"#DejaVuSans-3d\"/>\r\n",
       "      <use x=\"335.888672\" xlink:href=\"#DejaVuSans-31\"/>\r\n",
       "      <use x=\"399.511719\" xlink:href=\"#DejaVuSans-29\"/>\r\n",
       "     </g>\r\n",
       "    </g>\r\n",
       "    <g id=\"line2d_25\">\r\n",
       "     <path d=\"M 304.089063 34.976562 \r\n",
       "L 324.089063 34.976562 \r\n",
       "\" style=\"fill:none;stroke:#ff7f0e;stroke-linecap:square;stroke-width:1.5;\"/>\r\n",
       "    </g>\r\n",
       "    <g id=\"line2d_26\"/>\r\n",
       "    <g id=\"text_19\">\r\n",
       "     <!-- P(die=2) -->\r\n",
       "     <g transform=\"translate(332.089063 38.476562)scale(0.1 -0.1)\">\r\n",
       "      <use xlink:href=\"#DejaVuSans-50\"/>\r\n",
       "      <use x=\"60.302734\" xlink:href=\"#DejaVuSans-28\"/>\r\n",
       "      <use x=\"99.316406\" xlink:href=\"#DejaVuSans-64\"/>\r\n",
       "      <use x=\"162.792969\" xlink:href=\"#DejaVuSans-69\"/>\r\n",
       "      <use x=\"190.576172\" xlink:href=\"#DejaVuSans-65\"/>\r\n",
       "      <use x=\"252.099609\" xlink:href=\"#DejaVuSans-3d\"/>\r\n",
       "      <use x=\"335.888672\" xlink:href=\"#DejaVuSans-32\"/>\r\n",
       "      <use x=\"399.511719\" xlink:href=\"#DejaVuSans-29\"/>\r\n",
       "     </g>\r\n",
       "    </g>\r\n",
       "    <g id=\"line2d_27\">\r\n",
       "     <path d=\"M 304.089063 49.654687 \r\n",
       "L 324.089063 49.654687 \r\n",
       "\" style=\"fill:none;stroke:#2ca02c;stroke-linecap:square;stroke-width:1.5;\"/>\r\n",
       "    </g>\r\n",
       "    <g id=\"line2d_28\"/>\r\n",
       "    <g id=\"text_20\">\r\n",
       "     <!-- P(die=3) -->\r\n",
       "     <g transform=\"translate(332.089063 53.154687)scale(0.1 -0.1)\">\r\n",
       "      <use xlink:href=\"#DejaVuSans-50\"/>\r\n",
       "      <use x=\"60.302734\" xlink:href=\"#DejaVuSans-28\"/>\r\n",
       "      <use x=\"99.316406\" xlink:href=\"#DejaVuSans-64\"/>\r\n",
       "      <use x=\"162.792969\" xlink:href=\"#DejaVuSans-69\"/>\r\n",
       "      <use x=\"190.576172\" xlink:href=\"#DejaVuSans-65\"/>\r\n",
       "      <use x=\"252.099609\" xlink:href=\"#DejaVuSans-3d\"/>\r\n",
       "      <use x=\"335.888672\" xlink:href=\"#DejaVuSans-33\"/>\r\n",
       "      <use x=\"399.511719\" xlink:href=\"#DejaVuSans-29\"/>\r\n",
       "     </g>\r\n",
       "    </g>\r\n",
       "    <g id=\"line2d_29\">\r\n",
       "     <path d=\"M 304.089063 64.332812 \r\n",
       "L 324.089063 64.332812 \r\n",
       "\" style=\"fill:none;stroke:#d62728;stroke-linecap:square;stroke-width:1.5;\"/>\r\n",
       "    </g>\r\n",
       "    <g id=\"line2d_30\"/>\r\n",
       "    <g id=\"text_21\">\r\n",
       "     <!-- P(die=4) -->\r\n",
       "     <g transform=\"translate(332.089063 67.832812)scale(0.1 -0.1)\">\r\n",
       "      <use xlink:href=\"#DejaVuSans-50\"/>\r\n",
       "      <use x=\"60.302734\" xlink:href=\"#DejaVuSans-28\"/>\r\n",
       "      <use x=\"99.316406\" xlink:href=\"#DejaVuSans-64\"/>\r\n",
       "      <use x=\"162.792969\" xlink:href=\"#DejaVuSans-69\"/>\r\n",
       "      <use x=\"190.576172\" xlink:href=\"#DejaVuSans-65\"/>\r\n",
       "      <use x=\"252.099609\" xlink:href=\"#DejaVuSans-3d\"/>\r\n",
       "      <use x=\"335.888672\" xlink:href=\"#DejaVuSans-34\"/>\r\n",
       "      <use x=\"399.511719\" xlink:href=\"#DejaVuSans-29\"/>\r\n",
       "     </g>\r\n",
       "    </g>\r\n",
       "    <g id=\"line2d_31\">\r\n",
       "     <path d=\"M 304.089063 79.010937 \r\n",
       "L 324.089063 79.010937 \r\n",
       "\" style=\"fill:none;stroke:#9467bd;stroke-linecap:square;stroke-width:1.5;\"/>\r\n",
       "    </g>\r\n",
       "    <g id=\"line2d_32\"/>\r\n",
       "    <g id=\"text_22\">\r\n",
       "     <!-- P(die=5) -->\r\n",
       "     <g transform=\"translate(332.089063 82.510937)scale(0.1 -0.1)\">\r\n",
       "      <use xlink:href=\"#DejaVuSans-50\"/>\r\n",
       "      <use x=\"60.302734\" xlink:href=\"#DejaVuSans-28\"/>\r\n",
       "      <use x=\"99.316406\" xlink:href=\"#DejaVuSans-64\"/>\r\n",
       "      <use x=\"162.792969\" xlink:href=\"#DejaVuSans-69\"/>\r\n",
       "      <use x=\"190.576172\" xlink:href=\"#DejaVuSans-65\"/>\r\n",
       "      <use x=\"252.099609\" xlink:href=\"#DejaVuSans-3d\"/>\r\n",
       "      <use x=\"335.888672\" xlink:href=\"#DejaVuSans-35\"/>\r\n",
       "      <use x=\"399.511719\" xlink:href=\"#DejaVuSans-29\"/>\r\n",
       "     </g>\r\n",
       "    </g>\r\n",
       "    <g id=\"line2d_33\">\r\n",
       "     <path d=\"M 304.089063 93.689062 \r\n",
       "L 324.089063 93.689062 \r\n",
       "\" style=\"fill:none;stroke:#8c564b;stroke-linecap:square;stroke-width:1.5;\"/>\r\n",
       "    </g>\r\n",
       "    <g id=\"line2d_34\"/>\r\n",
       "    <g id=\"text_23\">\r\n",
       "     <!-- P(die=6) -->\r\n",
       "     <g transform=\"translate(332.089063 97.189062)scale(0.1 -0.1)\">\r\n",
       "      <defs>\r\n",
       "       <path d=\"M 2113 2584 \r\n",
       "Q 1688 2584 1439 2293 \r\n",
       "Q 1191 2003 1191 1497 \r\n",
       "Q 1191 994 1439 701 \r\n",
       "Q 1688 409 2113 409 \r\n",
       "Q 2538 409 2786 701 \r\n",
       "Q 3034 994 3034 1497 \r\n",
       "Q 3034 2003 2786 2293 \r\n",
       "Q 2538 2584 2113 2584 \r\n",
       "z\r\n",
       "M 3366 4563 \r\n",
       "L 3366 3988 \r\n",
       "Q 3128 4100 2886 4159 \r\n",
       "Q 2644 4219 2406 4219 \r\n",
       "Q 1781 4219 1451 3797 \r\n",
       "Q 1122 3375 1075 2522 \r\n",
       "Q 1259 2794 1537 2939 \r\n",
       "Q 1816 3084 2150 3084 \r\n",
       "Q 2853 3084 3261 2657 \r\n",
       "Q 3669 2231 3669 1497 \r\n",
       "Q 3669 778 3244 343 \r\n",
       "Q 2819 -91 2113 -91 \r\n",
       "Q 1303 -91 875 529 \r\n",
       "Q 447 1150 447 2328 \r\n",
       "Q 447 3434 972 4092 \r\n",
       "Q 1497 4750 2381 4750 \r\n",
       "Q 2619 4750 2861 4703 \r\n",
       "Q 3103 4656 3366 4563 \r\n",
       "z\r\n",
       "\" id=\"DejaVuSans-36\" transform=\"scale(0.015625)\"/>\r\n",
       "      </defs>\r\n",
       "      <use xlink:href=\"#DejaVuSans-50\"/>\r\n",
       "      <use x=\"60.302734\" xlink:href=\"#DejaVuSans-28\"/>\r\n",
       "      <use x=\"99.316406\" xlink:href=\"#DejaVuSans-64\"/>\r\n",
       "      <use x=\"162.792969\" xlink:href=\"#DejaVuSans-69\"/>\r\n",
       "      <use x=\"190.576172\" xlink:href=\"#DejaVuSans-65\"/>\r\n",
       "      <use x=\"252.099609\" xlink:href=\"#DejaVuSans-3d\"/>\r\n",
       "      <use x=\"335.888672\" xlink:href=\"#DejaVuSans-36\"/>\r\n",
       "      <use x=\"399.511719\" xlink:href=\"#DejaVuSans-29\"/>\r\n",
       "     </g>\r\n",
       "    </g>\r\n",
       "   </g>\r\n",
       "  </g>\r\n",
       " </g>\r\n",
       " <defs>\r\n",
       "  <clipPath id=\"p0b7f2b3e37\">\r\n",
       "   <rect height=\"244.62\" width=\"334.8\" x=\"50.14375\" y=\"7.2\"/>\r\n",
       "  </clipPath>\r\n",
       " </defs>\r\n",
       "</svg>\r\n"
      ],
      "text/plain": [
       "<Figure size 432x324 with 1 Axes>"
      ]
     },
     "metadata": {
      "needs_background": "light"
     },
     "output_type": "display_data"
    }
   ],
   "source": [
    "%%time\n",
    "counts = multinomial.Multinomial(10, fair_probs).sample((500,))\n",
    "cum_counts = counts.cumsum(dim=0)\n",
    "estimates = cum_counts / cum_counts.sum(dim=1, keepdims=True)\n",
    "\n",
    "set_figsize((6, 4.5))\n",
    "for i in range(6):\n",
    "    plt.plot(estimates[:, i].numpy(), label=(\"P(die=\" + str(i + 1) + \")\"))\n",
    "plt.axhline(y=0.167, color='black', linestyle='dashed')\n",
    "plt.gca().set_xlabel('Groups of experiments')\n",
    "plt.gca().set_ylabel('Estimated probability')\n",
    "plt.legend();"
   ]
  },
  {
   "cell_type": "markdown",
   "metadata": {
    "id": "wpX1asKfa_BN"
   },
   "source": [
    "# 2.7. Documentation"
   ]
  },
  {
   "cell_type": "code",
   "execution_count": 102,
   "metadata": {
    "colab": {
     "base_uri": "https://localhost:8080/"
    },
    "id": "GLZGungFvIXh",
    "outputId": "a12709a8-f34f-49f7-e12d-08f6ddaeb0da"
   },
   "outputs": [
    {
     "name": "stdout",
     "output_type": "stream",
     "text": [
      "['AbsTransform', 'AffineTransform', 'Bernoulli', 'Beta', 'Binomial', 'CatTransform', 'Categorical', 'Cauchy', 'Chi2', 'ComposeTransform', 'ContinuousBernoulli', 'CorrCholeskyTransform', 'Dirichlet', 'Distribution', 'ExpTransform', 'Exponential', 'ExponentialFamily', 'FisherSnedecor', 'Gamma', 'Geometric', 'Gumbel', 'HalfCauchy', 'HalfNormal', 'Independent', 'IndependentTransform', 'Kumaraswamy', 'LKJCholesky', 'Laplace', 'LogNormal', 'LogisticNormal', 'LowRankMultivariateNormal', 'LowerCholeskyTransform', 'MixtureSameFamily', 'Multinomial', 'MultivariateNormal', 'NegativeBinomial', 'Normal', 'OneHotCategorical', 'OneHotCategoricalStraightThrough', 'Pareto', 'Poisson', 'PowerTransform', 'RelaxedBernoulli', 'RelaxedOneHotCategorical', 'ReshapeTransform', 'SigmoidTransform', 'SoftmaxTransform', 'StackTransform', 'StickBreakingTransform', 'StudentT', 'TanhTransform', 'Transform', 'TransformedDistribution', 'Uniform', 'VonMises', 'Weibull', '__all__', '__builtins__', '__cached__', '__doc__', '__file__', '__loader__', '__name__', '__package__', '__path__', '__spec__', 'bernoulli', 'beta', 'biject_to', 'binomial', 'categorical', 'cauchy', 'chi2', 'constraint_registry', 'constraints', 'continuous_bernoulli', 'dirichlet', 'distribution', 'exp_family', 'exponential', 'fishersnedecor', 'gamma', 'geometric', 'gumbel', 'half_cauchy', 'half_normal', 'identity_transform', 'independent', 'kl', 'kl_divergence', 'kumaraswamy', 'laplace', 'lkj_cholesky', 'log_normal', 'logistic_normal', 'lowrank_multivariate_normal', 'mixture_same_family', 'multinomial', 'multivariate_normal', 'negative_binomial', 'normal', 'one_hot_categorical', 'pareto', 'poisson', 'register_kl', 'relaxed_bernoulli', 'relaxed_categorical', 'studentT', 'transform_to', 'transformed_distribution', 'transforms', 'uniform', 'utils', 'von_mises', 'weibull']\n",
      "Wall time: 0 ns\n"
     ]
    }
   ],
   "source": [
    "%%time\n",
    "import torch\n",
    "\n",
    "print(dir(torch.distributions))"
   ]
  },
  {
   "cell_type": "code",
   "execution_count": 103,
   "metadata": {
    "colab": {
     "base_uri": "https://localhost:8080/"
    },
    "id": "DnxanjndvIUH",
    "outputId": "87119c3e-6559-4520-dc91-01d06f841b48",
    "scrolled": true
   },
   "outputs": [
    {
     "name": "stdout",
     "output_type": "stream",
     "text": [
      "Help on built-in function ones:\n",
      "\n",
      "ones(...)\n",
      "    ones(*size, *, out=None, dtype=None, layout=torch.strided, device=None, requires_grad=False) -> Tensor\n",
      "    \n",
      "    Returns a tensor filled with the scalar value `1`, with the shape defined\n",
      "    by the variable argument :attr:`size`.\n",
      "    \n",
      "    Args:\n",
      "        size (int...): a sequence of integers defining the shape of the output tensor.\n",
      "            Can be a variable number of arguments or a collection like a list or tuple.\n",
      "    \n",
      "    Keyword arguments:\n",
      "        out (Tensor, optional): the output tensor.\n",
      "        dtype (:class:`torch.dtype`, optional): the desired data type of returned tensor.\n",
      "            Default: if ``None``, uses a global default (see :func:`torch.set_default_tensor_type`).\n",
      "        layout (:class:`torch.layout`, optional): the desired layout of returned Tensor.\n",
      "            Default: ``torch.strided``.\n",
      "        device (:class:`torch.device`, optional): the desired device of returned tensor.\n",
      "            Default: if ``None``, uses the current device for the default tensor type\n",
      "            (see :func:`torch.set_default_tensor_type`). :attr:`device` will be the CPU\n",
      "            for CPU tensor types and the current CUDA device for CUDA tensor types.\n",
      "        requires_grad (bool, optional): If autograd should record operations on the\n",
      "            returned tensor. Default: ``False``.\n",
      "    \n",
      "    Example::\n",
      "    \n",
      "        >>> torch.ones(2, 3)\n",
      "        tensor([[ 1.,  1.,  1.],\n",
      "                [ 1.,  1.,  1.]])\n",
      "    \n",
      "        >>> torch.ones(5)\n",
      "        tensor([ 1.,  1.,  1.,  1.,  1.])\n",
      "\n",
      "Wall time: 0 ns\n"
     ]
    }
   ],
   "source": [
    "%%time\n",
    "help(torch.ones)"
   ]
  },
  {
   "cell_type": "code",
   "execution_count": 104,
   "metadata": {
    "colab": {
     "base_uri": "https://localhost:8080/"
    },
    "id": "pZ4P1snMvIRb",
    "outputId": "27b77705-ec7c-4589-e7b3-1a6005b2f858"
   },
   "outputs": [
    {
     "name": "stdout",
     "output_type": "stream",
     "text": [
      "Wall time: 0 ns\n"
     ]
    },
    {
     "data": {
      "text/plain": [
       "tensor([1., 1., 1., 1.])"
      ]
     },
     "execution_count": 104,
     "metadata": {},
     "output_type": "execute_result"
    }
   ],
   "source": [
    "%%time\n",
    "torch.ones(4)"
   ]
  },
  {
   "cell_type": "code",
   "execution_count": null,
   "metadata": {},
   "outputs": [],
   "source": []
  }
 ],
 "metadata": {
  "colab": {
   "collapsed_sections": [
    "AVl92ZJenRo_",
    "MQljRMYn2TDb",
    "xwPgEWxlR59W",
    "T-Up0s6wu6kE",
    "_TaE9MAPu8ZR",
    "mbzsgaWVLRO2",
    "wpX1asKfa_BN"
   ],
   "name": "Preliminaries.ipynb",
   "provenance": []
  },
  "kernelspec": {
   "display_name": "Python 3 (ipykernel)",
   "language": "python",
   "name": "python3"
  },
  "language_info": {
   "codemirror_mode": {
    "name": "ipython",
    "version": 3
   },
   "file_extension": ".py",
   "mimetype": "text/x-python",
   "name": "python",
   "nbconvert_exporter": "python",
   "pygments_lexer": "ipython3",
   "version": "3.9.6"
  }
 },
 "nbformat": 4,
 "nbformat_minor": 1
}
